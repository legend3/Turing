{
 "cells": [
  {
   "cell_type": "code",
   "execution_count": 8,
   "metadata": {
    "tags": []
   },
   "outputs": [
    {
     "name": "stdout",
     "output_type": "stream",
     "text": [
      "{'__module__': '__main__', 'name': 'dana', 'age': 18, '__dict__': <attribute '__dict__' of 'Student' objects>, '__weakref__': <attribute '__weakref__' of 'Student' objects>, '__doc__': None}\n",
      "{}\n",
      "dana\n",
      "{}\n"
     ]
    }
   ],
   "source": [
    "class Student():\n",
    "    name = \"dana\"\n",
    "    age = 18\n",
    "    \n",
    "print(Student.__dict__)  # 查看类所有属性\n",
    "\n",
    "# 实例化\n",
    "yueyue = Student()\n",
    "print(yueyue.__dict__)\n",
    "print(yueyue.name)\n",
    "print(yueyue.__dict__)\n",
    "\n"
   ]
  },
  {
   "cell_type": "code",
   "execution_count": null,
   "metadata": {
    "tags": []
   },
   "outputs": [],
   "source": [
    "class A():\n",
    "    name = \"dana\"\n",
    "    age = 18\n",
    "    \n",
    "    # 注意say的写法，参数由一个self\n",
    "    def say(self):\n",
    "        self.name = \"aaaa\"\n",
    "        self.age = 200\n",
    "\n",
    "# 此案例说明：类实例的属性和其对象的实例的属性在不对对象的实例属性进行赋值的前提下，指向同一个变量\n",
    "        \n",
    "# 此时，A称为类实例\n",
    "print(A.name)\n",
    "print(A.age)\n",
    "\n",
    "print(\"*\" * 20)\n",
    "\n",
    "# id可以鉴别一个变量是否和另一个变量是同一变量\n",
    "print(id(A.name))\n",
    "print(id(A.age))\n",
    "\n",
    "print(\"*\" * 20)\n",
    "#(补充)对象的实例\n",
    "a = A()\n",
    "\n",
    "print(a.name) # 未有调用say方法，name属性未有赋新值改变\n",
    "print(a.age) # 未有调用say方法，age属性未有赋新值改变\n",
    "print(id(a.name))\n",
    "print(id(a.age))\n",
    "print(\"*\" * 20)\n",
    "print(a.say())  # 此处开始,对象实例对属性进行赋值,指向对象实例的属性\n",
    "print(a.name)  # 对象访问一个成员时，如果对象中没有该成员，尝试访问类中的同名成员，如果对象中有此成员，一定使用对象中的成员！\n",
    "print(a.age)\n",
    "print(a.__dict__)"
   ]
  },
  {
   "cell_type": "code",
   "execution_count": 3,
   "metadata": {
    "tags": []
   },
   "outputs": [
    {
     "name": "stdout",
     "output_type": "stream",
     "text": [
      "dana\n",
      "18\n",
      "********************\n",
      "2065279490160\n",
      "140729473964224\n",
      "********************\n",
      "{'__module__': '__main__', 'name': 'dana', 'age': 18, 'say': <function A.say at 0x000001E0DC457280>, '__dict__': <attribute '__dict__' of 'A' objects>, '__weakref__': <attribute '__weakref__' of 'A' objects>, '__doc__': None}\n",
      "{}\n",
      "{'name': 'yaona', 'age': 16}\n",
      "yaona\n",
      "16\n",
      "2065279665008\n",
      "140729473964160\n"
     ]
    }
   ],
   "source": [
    "# 此时，A称为类实例\n",
    "print(A.name)\n",
    "print(A.age)\n",
    "\n",
    "print(\"*\" * 20)\n",
    "\n",
    "# id可以鉴别一个变量是否和另一个变量是同一变量\n",
    "print(id(A.name))\n",
    "print(id(A.age))\n",
    "\n",
    "print(\"*\" * 20)\n",
    "a = A()\n",
    "# 查看A内所有的属性\n",
    "print(A.__dict__)\n",
    "print(a.__dict__)  # 创建对象的时候，类中的成员不会放入对象当中，而是得到一个空对象，没有成员\n",
    "\n",
    "a.name = \"yaona\"\n",
    "a.age = 16\n",
    "print(a.__dict__)  # \n",
    "\n",
    "print(a.name)\n",
    "print(a.age)\n",
    "print(id(a.name))\n",
    "print(id(a.age))\n",
    "        "
   ]
  },
  {
   "cell_type": "code",
   "execution_count": 10,
   "metadata": {
    "tags": []
   },
   "outputs": [
    {
     "name": "stdout",
     "output_type": "stream",
     "text": [
      "18\n",
      "dana\n",
      "18\n",
      "局域变量sex： 男\n",
      "局域变量home： 杭州\n",
      "局域变量name: mike\n",
      "Studentd成员变量name: dana\n",
      "IT\n",
      "PingXiang\n",
      "类成员变量： dana\n",
      "类成员变量： 18\n",
      "My name is aaaa\n",
      "My age is 200\n",
      "{'name': 'aaaa', 'age': 200}\n",
      "My name is aaaa\n",
      "My age is 200\n",
      "IT PingXiang None\n"
     ]
    }
   ],
   "source": [
    "# 一切皆为对象：\n",
    "    # 类实例Student()，只有一份\n",
    "    # 对象实例yueyue，可以无数个\n",
    "# self代表当前对象(或指定对象)\n",
    "\n",
    "\n",
    "# 5.方法外的全局变量\n",
    "marriage = None\n",
    "\n",
    "class Student():  # 绑定\n",
    "    '''成员变量都是在类中'''\n",
    "    name = \"dana\"\n",
    "    age = 18\n",
    "    sex = '男'\n",
    "    \n",
    "\n",
    "    # 注意say的写法，参数由一个self\n",
    "    def say(self):\n",
    "        # 1.对象在未初始化时方法内无法(直接)调用类成员变量\n",
    "        print(self.name)  # 对象不能直接调用类成员，而要以 对象.name调用\n",
    "        print(self.age)  #  对象不能直接调用类成员，而要以 对象.age调用\n",
    "\n",
    "        # 2.方法内的局域变量定义\n",
    "        sex = \"男\"  # (只是定义了一个叫name的)局域变量\n",
    "        home = \"杭州\"  # (同上)局域变量\n",
    "        print(\"局域变量sex：\", sex)  # 实例化对象后再调用方法创建的，因此可以直接调用\n",
    "        print(\"局域变量home：\", home)  # 实例化对象后再调用方法创建的，因此可以直接调用\n",
    "\n",
    "        name = \"mike\"\n",
    "        print(\"局域变量name:\", name)\n",
    "        print(\"Studentd成员变量name:\", Student.name)\n",
    "        \n",
    "        # 3.方法内的全局变量定义\n",
    "        global work\n",
    "        work = \"IT\"  # 全局变量(并不是类的成员变量)\n",
    "        global hometown\n",
    "        hometown = 'PingXiang'  # 全局变量(并不是类的成员变量)\n",
    "        print(work)  # 打印类的成员变量\n",
    "        print(hometown)  # 打印类的成员变量\n",
    "\n",
    "        '''上述都未对成员进行赋值，仅是方法内的局域或者全局变量!!!'''\n",
    "        print(\"类成员变量：\",self.name)  # （对象调用类成员变量<全局变量>）还未对对象赋值，输出成员变量\n",
    "        print(\"类成员变量：\", self.age)  # 还未对对象赋值，输出成员变量\n",
    "        \n",
    "        # 4.初始化对象，赋值对象的成员变量；(这时才是)对对象实例赋值(name不在指向类成员变量name))\n",
    "        self.name = \"aaaa\"\n",
    "        self.age = 200\n",
    "        print(\"My name is {0}\".format(self.name))\n",
    "        print(\"My age is {0}\".format(self.age))\n",
    "\n",
    "# \n",
    "    def sayAgain(s):\n",
    "        print(\"My name is {0}\".format(s.name))\n",
    "        print(\"My age is {0}\".format(s.age))\n",
    "\n",
    "\n",
    "yueyue = Student()\n",
    "# print(Student.__dict__)\n",
    "# print(yueyue.__dict__) # {}对象还未对成员赋值\n",
    "# print(Student.name)\n",
    "print(yueyue.age)\n",
    "yueyue.say()\n",
    "print(yueyue.__dict__)  # {'name': 'aaaa', 'age': 200}\n",
    "yueyue.sayAgain()\n",
    "print(work, hometown, marriage)"
   ]
  },
  {
   "cell_type": "code",
   "execution_count": 19,
   "metadata": {
    "tags": []
   },
   "outputs": [
    {
     "name": "stdout",
     "output_type": "stream",
     "text": [
      "My name is yaona\n",
      "My age is 19\n",
      "dana\n",
      "19\n",
      "Hello, nice to see you again\n"
     ]
    }
   ],
   "source": [
    "# 非绑定类\n",
    "\n",
    "class Teacher():\n",
    "    name = \"dana\"\n",
    "    age = 19\n",
    "    \n",
    "    def say(self):\n",
    "        self.name = \"yaona\"\n",
    "        self.age = 17\n",
    "        print(\"My name is {0}\".format(self.name))\n",
    "        # 调用类的成员变量需要用 __class__\n",
    "        print(\"My age is {0}\".format(__class__.age))\n",
    "# 绑定类\n",
    "    def sayAgain():\n",
    "        # print(name) # 无法输出对象对成员的赋值\n",
    "        # print(age)  # 无法输出对象对成员的赋值\n",
    "        \n",
    "        print(__class__.name)  # 输出类成员\n",
    "        print(__class__.age )  # 输出类成员\n",
    "        print(\"Hello, nice to see you again\")\n",
    "t = Teacher()\n",
    "t.say()\n",
    "# 调用绑定类函数使用类名\n",
    "Teacher.sayAgain()"
   ]
  },
  {
   "cell_type": "code",
   "execution_count": 24,
   "metadata": {
    "tags": []
   },
   "outputs": [
    {
     "name": "stdout",
     "output_type": "stream",
     "text": [
      "类的成员: {'__module__': '__main__', 'name': ' liuying', 'age': 18, 'fuck': 'fuck', '__init__': <function A.__init__ at 0x00000185602F1A60>, 'say': <function A.say at 0x00000185602F1AF0>, '__dict__': <attribute '__dict__' of 'A' objects>, '__weakref__': <attribute '__weakref__' of 'A' objects>, '__doc__': None}\n",
      "实例对象的成员: {'name': 'aaaa', 'age': 200, 'sex': '男', 'fuck': 'fuck2'}\n",
      "fuck2\n",
      "--------------------\n",
      "aaaa\n",
      "200\n",
      "--------------------\n",
      "aaaa\n",
      "200\n",
      "男\n",
      "--------------------\n",
      " liuying\n",
      "18\n",
      "--------------------\n",
      "bbbb\n",
      "90\n"
     ]
    }
   ],
   "source": [
    "# 关于self的案例：self默认只能是对象；但可以指定实例对象，比如指定A、B\n",
    "\n",
    "class A():\n",
    "    name = \" liuying\"\n",
    "    age = 18\n",
    "    fuck = \"fuck\"\n",
    "    \n",
    "    # 构造函数\n",
    "    def __init__(self, sex):  # a、A、B分别都可代表self\n",
    "        name = \"fuck\"\n",
    "        age = 100\n",
    "        \n",
    "        # 对象中的成员变量\n",
    "        self.name = \"aaaa\"\n",
    "        self.age = 200\n",
    "        self.sex = sex  # 对象实例自己的成员\n",
    "        self.fuck = \"fuck2\"\n",
    "        \n",
    "    def say(self):\n",
    "        print(self.name)\n",
    "        print(self.age)\n",
    "        # print(self.sex)\n",
    "        # print(self.fuck)\n",
    "        \n",
    "class B():\n",
    "    name = \"bbbb\"\n",
    "    age = 90\n",
    "\n",
    "a = A(\"男\")\n",
    "\n",
    "print(\"类的成员:\",A.__dict__)\n",
    "print(\"实例对象的成员:\",a.__dict__)\n",
    "print(a.fuck)  # 对象中没有fuck成员，尝试访问类中的同名成员；但是如果对象中有此成员，一定使用对象中的成员\n",
    "print(\"-\"*20)\n",
    "\n",
    "\n",
    "\n",
    "# 此时，系统会默认把a作为第一个参数传入函数\n",
    "a.say()\n",
    "print(\"-\"*20)\n",
    "\n",
    "# say()方法为非绑定类方法，所以类无法调用，必须指定self对象\n",
    "# A.say()\n",
    "# print(\"-\"*20)\n",
    "\n",
    "# 不会把A赋值给self传入；此时，为say的self指定a！\n",
    "A.say(a)\n",
    "# print(A.sex)  # sex是对象中的属性\n",
    "print(a.sex)\n",
    "print(\"-\"*20)\n",
    "\n",
    "# 同样可以把A作为参数传入\n",
    "A.say(A)\n",
    "print(\"-\"*20)\n",
    "\n",
    "# 此时，传入的是类实例B，因为B具有name和age属性，所以不会报错\n",
    "A.say(B)\n",
    "\n",
    "# 以上代码，利用了鸭子模型：不关心是不是鸭子，只要有相同的成员，就当是个鸭子"
   ]
  },
  {
   "cell_type": "code",
   "execution_count": 27,
   "metadata": {
    "tags": []
   },
   "outputs": [
    {
     "name": "stdout",
     "output_type": "stream",
     "text": [
      "liuying\n"
     ]
    },
    {
     "ename": "AttributeError",
     "evalue": "'Person' object has no attribute '__age'",
     "output_type": "error",
     "traceback": [
      "\u001b[1;31m---------------------------------------------------------------------------\u001b[0m",
      "\u001b[1;31mAttributeError\u001b[0m                            Traceback (most recent call last)",
      "\u001b[1;32m<ipython-input-27-d46b6b500c2d>\u001b[0m in \u001b[0;36m<module>\u001b[1;34m\u001b[0m\n\u001b[0;32m     12\u001b[0m \u001b[0mprint\u001b[0m\u001b[1;33m(\u001b[0m\u001b[0mp\u001b[0m\u001b[1;33m.\u001b[0m\u001b[0mname\u001b[0m\u001b[1;33m)\u001b[0m\u001b[1;33m\u001b[0m\u001b[1;33m\u001b[0m\u001b[0m\n\u001b[0;32m     13\u001b[0m \u001b[1;31m# __age是私有变量(private)\u001b[0m\u001b[1;33m\u001b[0m\u001b[1;33m\u001b[0m\u001b[1;33m\u001b[0m\u001b[0m\n\u001b[1;32m---> 14\u001b[1;33m \u001b[0mprint\u001b[0m\u001b[1;33m(\u001b[0m\u001b[0mp\u001b[0m\u001b[1;33m.\u001b[0m\u001b[0m__age\u001b[0m\u001b[1;33m)\u001b[0m  \u001b[1;31m# x\u001b[0m\u001b[1;33m\u001b[0m\u001b[1;33m\u001b[0m\u001b[0m\n\u001b[0m\u001b[0;32m     15\u001b[0m \u001b[1;31m# #_agen是私有变量(protect)\u001b[0m\u001b[1;33m\u001b[0m\u001b[1;33m\u001b[0m\u001b[1;33m\u001b[0m\u001b[0m\n\u001b[0;32m     16\u001b[0m \u001b[1;31m# print(p._age)\u001b[0m\u001b[1;33m\u001b[0m\u001b[1;33m\u001b[0m\u001b[1;33m\u001b[0m\u001b[0m\n",
      "\u001b[1;31mAttributeError\u001b[0m: 'Person' object has no attribute '__age'"
     ]
    }
   ],
   "source": [
    "# 私有变量案例\n",
    "\n",
    "class Person():\n",
    "                # name是共有的成员 \n",
    "                name = \"liuying\"\n",
    "                # __age就是私有成员\n",
    "                __age = 18  # 被namemang技术改名了_Person__age\n",
    "                _age = 16  # 父类子类都能用\n",
    "\n",
    "p = Person()\n",
    "# name是公有变量\n",
    "print(p.name)\n",
    "# __age是私有变量(private)\n",
    "# print(p.__age)  # x\n",
    "# #_agen是私有变量(protect)\n",
    "print(p._age)\n"
   ]
  },
  {
   "cell_type": "code",
   "execution_count": 28,
   "metadata": {
    "tags": []
   },
   "outputs": [
    {
     "name": "stdout",
     "output_type": "stream",
     "text": [
      "{'__module__': '__main__', 'name': 'liuying', '_Person__age': 18, '_age': 16, '__dict__': <attribute '__dict__' of 'Person' objects>, '__weakref__': <attribute '__weakref__' of 'Person' objects>, '__doc__': None}\n",
      "19\n"
     ]
    }
   ],
   "source": [
    "# name mangling技术\n",
    "print(Person.__dict__)\n",
    "\n",
    "p._Person__age = 19  # 对象访问类私有属性\n",
    "print(p._Person__age)  # 对象访问类私有属性；所以这样的就不希望对象访问，还是少这样的访问"
   ]
  },
  {
   "cell_type": "code",
   "execution_count": null,
   "metadata": {},
   "outputs": [],
   "source": [
    "Π = 3.14\n",
    "def area(r):\n",
    "    print(Π)\n",
    "    global s\n",
    "    s = r * r * Π\n",
    "    print(s)\n",
    "area(10)\n",
    "print(s)"
   ]
  },
  {
   "cell_type": "code",
   "execution_count": 3,
   "metadata": {},
   "outputs": [
    {
     "name": "stdout",
     "output_type": "stream",
     "text": [
      "None\n"
     ]
    }
   ],
   "source": [
    "a = {'a': 2}\n",
    "print(a.get('b'))"
   ]
  }
 ],
 "metadata": {
  "kernelspec": {
   "display_name": "Python 3.8.3 64-bit (system)",
   "language": "python",
   "name": "python3"
  },
  "language_info": {
   "codemirror_mode": {
    "name": "ipython",
    "version": 3
   },
   "file_extension": ".py",
   "mimetype": "text/x-python",
   "name": "python",
   "nbconvert_exporter": "python",
   "pygments_lexer": "ipython3",
   "version": "3.8.3"
  },
  "vscode": {
   "interpreter": {
    "hash": "a95e8ce2b8a84d181eb90432015da9fba0dec413140f0b3722d1a046efb12f4b"
   }
  }
 },
 "nbformat": 4,
 "nbformat_minor": 2
}
