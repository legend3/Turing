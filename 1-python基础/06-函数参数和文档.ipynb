{
 "cells": [
  {
   "cell_type": "markdown",
   "source": [
    "# 四类参数\n",
    "- 普通参数\n",
    "- 默认参数\n",
    "- 关键字参数\n",
    "- 收集参数\n",
    "\n",
    "## 关键字参数开始\n",
    "- 语法\n",
    "    \n",
    "        def func(p1=v1, p2=v2.....):\n",
    "            func_body\n",
    "            \n",
    "        调用函数：\n",
    "        func(p1=value1, p2=value2.......)\n",
    "- 比较麻烦，但也有好处：\n",
    "    - 不容易混淆， 一般实参和形参只是按照位置一一对应即可，容易出错\n",
    "    - 使用关键字参数，可以不考虑参数位置"
   ],
   "metadata": {}
  },
  {
   "cell_type": "code",
   "execution_count": null,
   "source": [
    "# 关键字参数案例\r\n",
    "def stu(name, age, addr):\r\n",
    "    print(\"I am a student\")\r\n",
    "    print(\"我叫 {0}， 我今年 {1}岁了， 我住{2}\".format(name, age, addr))\r\n",
    "    \r\n",
    "    \r\n",
    "n = \"jingjing\"\r\n",
    "a = 18\r\n",
    "addr = \"我家\"\r\n",
    "\r\n",
    "# 普通参数，只按照位置传递，容易出错\r\n",
    "stu(a, n, addr)\r\n",
    "\r\n",
    "\r\n",
    "\r\n",
    "def stu_key(name=\"No name\", age=0, addr=\"No addr\"):\r\n",
    "    print(\"I am a student\")\r\n",
    "    print(\"我叫 {0}， 我今年 {1}岁了， 我住{2}\".format(name, age, addr))\r\n",
    "    \r\n",
    "#关键字参数\r\n",
    "n = \"jingjing\"\r\n",
    "a = 18\r\n",
    "addr = \"我家\"\r\n",
    "\r\n",
    "# 关键字参数，无须按照位置传递，不容易出错\r\n",
    "stu_key(age=a, name=n, addr=addr)\r\n"
   ],
   "outputs": [],
   "metadata": {}
  },
  {
   "cell_type": "markdown",
   "source": [
    "## 收集参数\n",
    "- 把没有位置，不能和定义时的参数位置相对应的参数，放入一个特定的数据结构中\n",
    "- 语法\n",
    "    \n",
    "        def func(*args):\n",
    "            func_body\n",
    "            按照list使用方式访问args得到传入的参数\n",
    "            \n",
    "        调用：\n",
    "        func(p1, p2, p3, .....)\n",
    "- 参数名args不是必须这么写，但是，我们推荐直接用args，约定俗成\n",
    "- 参数名args前需要由星号\n",
    "- 收集参数可以和其他参数共存"
   ],
   "metadata": {}
  },
  {
   "cell_type": "code",
   "execution_count": null,
   "source": [
    "# 收集参数代码\r\n",
    "# 函数模拟一个学生进行自我介绍，但具体内容不清楚\r\n",
    "# args把他看做一个list\r\n",
    "def stu( *args):\r\n",
    "    print(\"Hello 大家好，我自我介绍以下，简答说两句：\")\r\n",
    "    # type函数作用是检测变量的类型\r\n",
    "    print(type(args))\r\n",
    "    for item in args:\r\n",
    "        print(item)\r\n",
    "\r\n",
    "\r\n",
    "stu(\"liuying\", 18, \"北京大通州区\", \"wangxiaojing\", \"single\")\r\n",
    "\r\n",
    "stu(\"周大神\")"
   ],
   "outputs": [],
   "metadata": {}
  },
  {
   "cell_type": "code",
   "execution_count": null,
   "source": [
    "# 收集参数案例\r\n",
    "# 说明收集参数可以不带任何实参调用，此时收集参数为空tuple\r\n",
    "stu()"
   ],
   "outputs": [],
   "metadata": {}
  },
  {
   "cell_type": "code",
   "execution_count": null,
   "source": [
    "# 如果使用关键字参数格式调用，会出现问题\r\n",
    "stu(name=\"liuying\")"
   ],
   "outputs": [],
   "metadata": {}
  },
  {
   "cell_type": "markdown",
   "source": [
    " ### 收集参数之关键字收集参数\r\n",
    " - 把关键字参数按字典格式存入收集参数\r\n",
    " - 语法：\r\n",
    "     \r\n",
    "         def func( **kwargs):\r\n",
    "             func_body\r\n",
    "             \r\n",
    "         # 调用：\r\n",
    "         func(p1=v1, p2=v2, p3=v3........)\r\n",
    "- kwargs一般约定俗成\r\n",
    "- 调用的时候，把多余的关键字参数放入kwargs\r\n",
    "- 访问kwargs需要按字典格式访问"
   ],
   "metadata": {}
  },
  {
   "cell_type": "code",
   "execution_count": null,
   "source": [
    "# 收集参数案例\r\n",
    "# 自我介绍\r\n",
    "# 调用的时候需要使用关键字参数调用\r\n",
    "def stu( **kwargs):\r\n",
    "    # 在函数体内对于kwargs的使用不用带星号\r\n",
    "    print(\"Hello 大家好，我先自我介绍一下：\")\r\n",
    "    print(type(kwargs))\r\n",
    "    # 对于字典的访问，python2 和python3有区别\r\n",
    "    for k,v in kwargs.items():\r\n",
    "        print(k, \"---\", v)\r\n",
    "    \r\n",
    "stu(name=\"liuying\",  age=19, addr=\"北京大通州区\", lover=\"王晓静\", work=\"Teacher\")\r\n",
    "\r\n",
    "print(\"*\" * 50)\r\n",
    "\r\n",
    "stu(name=\"周大神\")"
   ],
   "outputs": [],
   "metadata": {}
  },
  {
   "cell_type": "code",
   "execution_count": null,
   "source": [
    "# 收集参数可以为空案例\n",
    "stu()"
   ],
   "outputs": [],
   "metadata": {}
  },
  {
   "cell_type": "markdown",
   "source": [
    "### 收集参数混合调用的顺序问题\n",
    "- 收集参数，关键字参数，普通参数可以混合使用\n",
    "- 使用规则就是，普通参数和关键字参数优先\n",
    "- 定义的时候一般找普通参数，关键字参数，收集参数tuple，收集参数dict"
   ],
   "metadata": {}
  },
  {
   "cell_type": "code",
   "execution_count": null,
   "source": [
    "# 收集参数混合调用案例\n",
    "# stu模拟一个学生的自我介绍\n",
    "def stu(name, age, *args, hobby=\"没有\", **kwargs):\n",
    "    print(\"Hello 大家好\")\n",
    "    print(\"我叫 {0}， 我今年{1}大了。\".format(name, age))\n",
    "    if hobby == \"没有\":\n",
    "        print(\"我没有爱好， so sorry\")\n",
    "    else:\n",
    "        print(\"我的爱好是{0}\".format(hobby))\n",
    "        \n",
    "    print(\"*\" * 20)   \n",
    "    \n",
    "    for i in args:\n",
    "        print(i)\n",
    "    \n",
    "    print(\"#\" * 30)\n",
    "    \n",
    "    for k,v in kwargs.items():\n",
    "        print(k, \"---\", v)\n",
    "        \n",
    "        \n",
    "# 开始调用函数\n",
    "name = \"liuying\"\n",
    "age = 19\n",
    "\n",
    "\n",
    "# 调用的不同格式\n",
    "stu(name, age)\n",
    "\n",
    "stu(name, age, hobby=\"游泳\")\n",
    "\n",
    "stu(name, age, \"王晓静\", \"刘石头\", hobby=\"游泳\", hobby2=\"烹饪\", hobby3=\"跟不同女生聊天\")"
   ],
   "outputs": [],
   "metadata": {}
  },
  {
   "cell_type": "markdown",
   "source": [
    "### 收集参数的解包问题\n",
    "- 把参数放入list或者字典中，直接把list/dict中的值放入收集参数中\n",
    "- 语法：参看案例\n"
   ],
   "metadata": {}
  },
  {
   "cell_type": "code",
   "execution_count": null,
   "source": [
    "# 收集参数的解包问题\n",
    "\n",
    "def stu(*args):\n",
    "    print(\"哈哈哈哈哈\")\n",
    "    # n 用来表示循环次数\n",
    "    # 主要用来调试\n",
    "    n = 0\n",
    "    for i in args:\n",
    "        print(type(i))\n",
    "        print(n)\n",
    "        n += 1\n",
    "        print(i)\n",
    "        \n",
    "        \n",
    "#stu(\"liuying\", \"liuxiaoyhing\", 19, 200)\n",
    "\n",
    "l = [\"liuying\", 19, 23, \"wangxiaojing\"]\n",
    " \n",
    "#stu(l)\n",
    "# 此时，args的表示形式是字典内一个list类型的元素，即 arg = ([\"liuying\", 19, 23, \"wangxiaojing\"],)\n",
    "# 很显然跟我们最初的想法违背\n",
    "\n",
    "\n",
    "# 此时的调用，我们就需要解包符号，即调用的时候前面加一个星号\n",
    "stu(*l)"
   ],
   "outputs": [],
   "metadata": {}
  },
  {
   "cell_type": "markdown",
   "source": [
    "### 同理，dict类型收集参数一样可以解包，但是\n",
    "- 对dict类型进行解包\n",
    "- 需要用两个星号进行解包"
   ],
   "metadata": {}
  },
  {
   "cell_type": "markdown",
   "source": [
    "# 返回值\n",
    "- 函数和过程的区别\n",
    "    - 有无返回值\n",
    "- 需要用return显示返回内容，\n",
    "- 如果没有返回，则默认返回None\n",
    "- 推荐写法，无论有无返回值，最后都要以return 结束"
   ],
   "metadata": {}
  },
  {
   "cell_type": "code",
   "execution_count": null,
   "source": [
    "# 返回值示例\n",
    "\n",
    "def func_1():\n",
    "    print(\"有返回值呀\")\n",
    "    return 1\n",
    "\n",
    "def func_2():\n",
    "    print(\"没有返回值\")\n",
    "     \n",
    "    \n",
    "f1 = func_1()\n",
    "print(f1)\n",
    "\n",
    "f2 = func_2()\n",
    "print(f2)"
   ],
   "outputs": [],
   "metadata": {}
  },
  {
   "cell_type": "markdown",
   "source": [
    "# 函数文档\n",
    "- 函数的文档的作用是对当前函数提供使用相关的参考信息\n",
    "- 文档的写法：\n",
    "    - 在函数内部开始的第一行使用三引号字符串定义符\n",
    "    - 一般具有特定格式\n",
    "    - 参看案例\n",
    "- 文档查看\n",
    "    - 使用help函数，形如 help(func)\n",
    "    - 使用__doc__, 参看案例"
   ],
   "metadata": {}
  },
  {
   "cell_type": "code",
   "execution_count": null,
   "source": [
    "# 文档案例\n",
    "# 函数stu是模拟一个学生的自我介绍的内容\n",
    "def stu(name, age, *args):\n",
    "    '''\n",
    "    这是第一行\n",
    "    这是第二行\n",
    "    这是第三行\n",
    "    '''\n",
    "    print(\"This is hanshu stu\")"
   ],
   "outputs": [],
   "metadata": {
    "collapsed": true
   }
  },
  {
   "cell_type": "code",
   "execution_count": null,
   "source": [
    "# 查看函数文档\n",
    "help(stu)\n",
    "stu.__doc__"
   ],
   "outputs": [],
   "metadata": {
    "collapsed": true
   }
  },
  {
   "cell_type": "code",
   "execution_count": null,
   "source": [
    "\n",
    "def stu(name, age):\n",
    "    '''\n",
    "    这是文档的文字内容\n",
    "    :param name: 表示学生的姓名\n",
    "    :param age: 表示学生的年龄\n",
    "    :return: 此函数没有返回值\n",
    "    '''\n",
    "    pass\n",
    "\n",
    "\n",
    "print(help(stu))\n",
    "\n",
    "print(\"*\" * 20)\n",
    "\n",
    "print(stu.__doc__)"
   ],
   "outputs": [],
   "metadata": {}
  }
 ],
 "metadata": {
  "kernelspec": {
   "display_name": "Python 3",
   "language": "python",
   "name": "python3"
  },
  "language_info": {
   "codemirror_mode": {
    "name": "ipython",
    "version": 3
   },
   "file_extension": ".py",
   "mimetype": "text/x-python",
   "name": "python",
   "nbconvert_exporter": "python",
   "pygments_lexer": "ipython3",
   "version": "3.6.8"
  }
 },
 "nbformat": 4,
 "nbformat_minor": 2
}