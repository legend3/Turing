{
 "cells": [
  {
   "cell_type": "code",
   "execution_count": 4,
   "metadata": {
    "tags": []
   },
   "outputs": [
    {
     "output_type": "stream",
     "name": "stdout",
     "text": "李振国\n{'age': 18}\n"
    }
   ],
   "source": [
    "#变量的三种用法\n",
    "\n",
    "class A():\n",
    "    def __init__(self):\n",
    "        self.name = \"haha\"\n",
    "        self.age =18\n",
    "     \n",
    "a = A()\n",
    "# 属性的三种用法\n",
    "# 1， 赋值\n",
    "# 2. 读取\n",
    "# 3. 删除\n",
    "a.name = \"李振国\" \n",
    "print(a.name)\n",
    "del a.name\n",
    "print(a.__dict__)\n"
   ]
  },
  {
   "cell_type": "code",
   "execution_count": null,
   "metadata": {},
   "outputs": [],
   "source": []
  },
  {
   "cell_type": "code",
   "execution_count": 15,
   "metadata": {},
   "outputs": [
    {
     "name": "stdout",
     "output_type": "stream",
     "text": [
      "Help on class property in module builtins:\n",
      "\n",
      "class property(object)\n",
      " |  property(fget=None, fset=None, fdel=None, doc=None) -> property attribute\n",
      " |  \n",
      " |  fget is a function to be used for getting an attribute value, and likewise\n",
      " |  fset is a function for setting, and fdel a function for del'ing, an\n",
      " |  attribute.  Typical use is to define a managed attribute x:\n",
      " |  \n",
      " |  class C(object):\n",
      " |      def getx(self): return self._x\n",
      " |      def setx(self, value): self._x = value\n",
      " |      def delx(self): del self._x\n",
      " |      x = property(getx, setx, delx, \"I'm the 'x' property.\")\n",
      " |  \n",
      " |  Decorators make defining new properties or modifying existing ones easy:\n",
      " |  \n",
      " |  class C(object):\n",
      " |      @property\n",
      " |      def x(self):\n",
      " |          \"I am the 'x' property.\"\n",
      " |          return self._x\n",
      " |      @x.setter\n",
      " |      def x(self, value):\n",
      " |          self._x = value\n",
      " |      @x.deleter\n",
      " |      def x(self):\n",
      " |          del self._x\n",
      " |  \n",
      " |  Methods defined here:\n",
      " |  \n",
      " |  __delete__(self, instance, /)\n",
      " |      Delete an attribute of instance.\n",
      " |  \n",
      " |  __get__(self, instance, owner, /)\n",
      " |      Return an attribute of instance, which is of type owner.\n",
      " |  \n",
      " |  __getattribute__(self, name, /)\n",
      " |      Return getattr(self, name).\n",
      " |  \n",
      " |  __init__(self, /, *args, **kwargs)\n",
      " |      Initialize self.  See help(type(self)) for accurate signature.\n",
      " |  \n",
      " |  __new__(*args, **kwargs) from builtins.type\n",
      " |      Create and return a new object.  See help(type) for accurate signature.\n",
      " |  \n",
      " |  __set__(self, instance, value, /)\n",
      " |      Set an attribute of instance to value.\n",
      " |  \n",
      " |  deleter(...)\n",
      " |      Descriptor to change the deleter on a property.\n",
      " |  \n",
      " |  getter(...)\n",
      " |      Descriptor to change the getter on a property.\n",
      " |  \n",
      " |  setter(...)\n",
      " |      Descriptor to change the setter on a property.\n",
      " |  \n",
      " |  ----------------------------------------------------------------------\n",
      " |  Data descriptors defined here:\n",
      " |  \n",
      " |  __isabstractmethod__\n",
      " |  \n",
      " |  fdel\n",
      " |  \n",
      " |  fget\n",
      " |  \n",
      " |  fset\n",
      "\n",
      "我被写入了，但是还可以做好多事情\n",
      "我被删除了!\n"
     ]
    }
   ],
   "source": [
    "# 类属性 property\n",
    "# 应用场景：\n",
    "# 对变量除了普通的三种操作，还想增加一些附加的操作，那么可以通过property完成\n",
    "class A():\n",
    "    def __init__(self):\n",
    "        self.name = \"haha\"\n",
    "        self.age =18\n",
    "        \n",
    "    # 此功能，是对类变量进行读取操作的时候应该执行的函数功能\n",
    "    def fget(self):\n",
    "        print(\"我被读取了\")\n",
    "        return self.name\n",
    "    # 模拟的是对变量进行写操作的时候执行的功能\n",
    "    def fset(self, name):\n",
    "        print(\"我被写入了，但是还可以做好多事情\")\n",
    "        self.name = \"图灵学院：\" + name \n",
    "        \n",
    "    # fdel模拟的是删除变量的时候进行的操作\n",
    "    def fdel(self):\n",
    "        print(\"我被删除了!\")\n",
    "        pass\n",
    "        \n",
    "    # property的四个参数顺序是固定的\n",
    "        #如果 a 是 A 的实例化, a.name2 将触发 fget,a.x = value 将触发 fset ， del a.name2 触发 fdel\n",
    "        # 第一个参数代表读取的时候需要调用的函数\n",
    "        # 第二个参数代表写入的时候需要调用的函数\n",
    "        # 第三个是删除\n",
    "    name2 = property(fget, fset, fdel, \"这是一个property的例子\")\n",
    "\n",
    "help(property)\n",
    "a = A()\n",
    "# print(a.name)\n",
    "\n",
    "# print(a.name2)\n",
    "a.name2=\"Mike\"\n",
    "del a.name2"
   ]
  },
  {
   "cell_type": "code",
   "execution_count": 16,
   "metadata": {},
   "outputs": [
    {
     "name": "stdout",
     "output_type": "stream",
     "text": [
      "Kiss me\n"
     ]
    }
   ],
   "source": [
    "# 抽象\n",
    "\n",
    "class Animel():\n",
    "  \n",
    "   \n",
    "    def sayHello(self):  \n",
    "        pass\n",
    " \n",
    "    \n",
    "class Dog(Animel):  \n",
    "    pass\n",
    "\n",
    "\n",
    "class Person(Animel):\n",
    "    \n",
    "    def sayHello(self):\n",
    "        print(\"Kiss me\")\n",
    "    \n",
    "d = Dog()\n",
    "d.sayHello()\n",
    "\n",
    "p = Person()\n",
    "p.sayHello()"
   ]
  },
  {
   "cell_type": "code",
   "execution_count": 32,
   "metadata": {},
   "outputs": [
    {
     "name": "stdout",
     "output_type": "stream",
     "text": [
      "抽南京牌香烟\n"
     ]
    }
   ],
   "source": [
    "# 抽象类的实现\n",
    "\n",
    "import abc\n",
    "\n",
    "#声明一个类并且指定当前类的元类\n",
    "class Human(metaclass=abc.ABCMeta):\n",
    "    #     __metaclass__ = abc.ABCMeta  # 补充：第二种方式，(Human()只需要继承object)定义抽象类\n",
    "    # 定义一个抽象的方法\n",
    "    @abc.abstractmethod\n",
    "    def smoking(self):\n",
    "        pass\n",
    "    \n",
    "    # 定义类抽象方法\n",
    "    @abc.abstractclassmethod\n",
    "    def drink():\n",
    "        pass\n",
    "    \n",
    "    # 定义静态抽象方法\n",
    "    @abc.abstractstaticmethod\n",
    "    def play():\n",
    "        pass\n",
    "    \n",
    "    #  普通方法\n",
    "    def sleep(self):\n",
    "        print(\"Sleeping.......\")\n",
    "\n",
    "#  补充\n",
    "class Worker(Human):\n",
    "#     pass  # 不实现任何抽象方法\n",
    "\n",
    "    def smoking(self):\n",
    "        print(\"抽南京牌香烟\")\n",
    "    def drink():\n",
    "        print(\"喝water\")\n",
    "    def play():\n",
    "        print(\"学习热工仪表\")\n",
    "\n",
    "w = Worker()  # 必须要实现所有抽象方法，否则无法实例化\n",
    "w.smoking()"
   ]
  },
  {
   "cell_type": "code",
   "execution_count": 22,
   "metadata": {},
   "outputs": [
    {
     "name": "stdout",
     "output_type": "stream",
     "text": [
      "月月你好，来一发吗？\n",
      "yueyue你好，来一发吗？\n"
     ]
    }
   ],
   "source": [
    "# 函数名可以当变量使用\n",
    "\n",
    "def sayHello(name):\n",
    "    print(\"{0}你好，来一发吗？\".format(name))\n",
    "    \n",
    "sayHello(\"月月\")\n",
    "\n",
    "liumang = sayHello  # 补充：函数当变量使用（一切皆对象）\n",
    "print(sayHello)\n",
    "liumang(\"yueyue\")"
   ]
  },
  {
   "cell_type": "code",
   "execution_count": 37,
   "metadata": {},
   "outputs": [
    {
     "name": "stdout",
     "output_type": "stream",
     "text": [
      "Saying...   ...\n",
      "Saying...   ...\n",
      "Saying......\n"
     ]
    }
   ],
   "source": [
    "# 自己组装一个类\n",
    "\n",
    "class A():\n",
    "    pass\n",
    "\n",
    "def say(self):\n",
    "    print(\"Saying...   ...\")\n",
    "    \n",
    "    \n",
    "class B():\n",
    "    def say(self):\n",
    "        print(\"Saying......\")\n",
    "        \n",
    "say(9)\n",
    "A.say = say  # 补充：将say()方法添加到A类 \n",
    "\n",
    "a = A()\n",
    "a.say()\n",
    "\n",
    "b = B()\n",
    "b.say()"
   ]
  },
  {
   "cell_type": "code",
   "execution_count": 17,
   "metadata": {},
   "outputs": [
    {
     "name": "stdout",
     "output_type": "stream",
     "text": [
      "Saying... ...\n"
     ]
    }
   ],
   "source": [
    "# 组装类例子 2  借助于MethodType实现类型\n",
    "\n",
    "#Python中的包和模块有两种导入方式：精确导入和模糊导入：\n",
    "\n",
    "#精确导入：\n",
    "    #from Root.Pack1 import Pack1Class\n",
    "    #import Root.Pack1.Pack1Class\n",
    "\n",
    "#模糊导入：\n",
    "    #from Root.Pack1 import *\n",
    "\n",
    "\n",
    "# 自己组装一个类\n",
    "from types import MethodType\n",
    "\n",
    "class A():\n",
    "    pass\n",
    "\n",
    "def say(self):\n",
    "    print(\"Saying... ...\")\n",
    "    \n",
    "a = A()\n",
    "a.say = MethodType(say, A)\n",
    "a.say()"
   ]
  },
  {
   "cell_type": "code",
   "execution_count": 19,
   "metadata": {},
   "outputs": [
    {
     "data": {
      "text/plain": [
       "int"
      ]
     },
     "execution_count": 19,
     "metadata": {},
     "output_type": "execute_result"
    }
   ],
   "source": [
    "type(9)"
   ]
  },
  {
   "cell_type": "code",
   "execution_count": 89,
   "metadata": {},
   "outputs": [
    {
     "name": "stdout",
     "output_type": "stream",
     "text": [
      "Saying.....\n",
      "Talking .....\n",
      "下雨\n",
      "太阳\n"
     ]
    }
   ],
   "source": [
    "# 利用type造一个类\n",
    "    #type()函数可以查看一个类型或变量的类型，Hello是一个class，它的类型就是type，而h是一个实例，它的类型就是class Hello。\n",
    "    #我们说class的定义是运行时动态创建的，而创建class的方法就是使用type()函数。\n",
    "    #！！！ type()函数既可以返回一个对象的类型，又可以创建出新的类型，比如，我们可以通过type()函数创建出Hello类，而无需通过class Hello(object)...的定义\n",
    "\n",
    "    #要创建一个class对象，type()函数依次传入3个参数：\n",
    "    #class的名称；\n",
    "    #继承的父类集合，注意Python支持多重继承，如果只有一个父类，别忘了tuple的“单元素写法”；\n",
    "    #class的方法名称与函数绑定，这里我们把函数fn绑定到方法名hello上。\n",
    "# def fn(self, name='world'): # 先定义函数\n",
    "#     print('Hello, %s.' % name)\n",
    "# Hello = type('Hello', (object,), dict(hello=fn)) # 创建Hello class\n",
    "# h = Hello()\n",
    "# h.hello()\n",
    "# Hello, world.\n",
    "# print(type(Hello))\n",
    "# <class 'type'>\n",
    "# >>> print(type(h))\n",
    "# <class '__main__.Hello'>\n",
    "#通过type()函数创建的类和直接写class是完全一样的，因为Python解释器遇到class定义时，仅仅是扫描一下class定义的语法，\n",
    "#然后调用type()函数创建出class。\n",
    "#正常情况下，我们都用class Xxx...来定义类，但是，type()函数也允许我们动态创建出类来，\n",
    "#也就是说，动态语言本身支持运行期动态创建类，这和静态语言有非常大的不同，要在静态语言运行期创建类，\n",
    "#必须构造源代码字符串再调用编译器，或者借助一些工具生成字节码实现，本质上都是动态编译，会非常复杂。\n",
    "\n",
    "# 先定义类应该具有的成员函数\n",
    "def say(self):\n",
    "    print(\"Saying.....\")\n",
    "    \n",
    "    \n",
    "def talk(self):\n",
    "    print(\"Talking .....\")\n",
    "\n",
    "    \n",
    "def rain(self):\n",
    "    print(\"下雨\")\n",
    "\n",
    "\n",
    "def sun(self):\n",
    "    print(\"太阳\")\n",
    "    \n",
    "#用type来创建一个类\n",
    "A = type(\"Ace\", (object, ), {\"class_say\":say, \"class_chat\":talk}) # 函数talk()绑定到A定义的方法class_chat()上\n",
    "B = type(\"Weather\", (object, ), {\"Brain\":rain,\"Bsun\":sun})\n",
    "\n",
    "# 然后可以像正常访问一样使用类\n",
    "a = A()\n",
    "# print(a)\n",
    "a.class_say()\n",
    "a.class_chat()\n",
    "         \n",
    "b = B()\n",
    "b.Brain()\n",
    "b.Bsun()"
   ]
  },
  {
   "cell_type": "code",
   "execution_count": 92,
   "metadata": {},
   "outputs": [
    {
     "name": "stdout",
     "output_type": "stream",
     "text": [
      "哈哈，我是元类呀\n"
     ]
    },
    {
     "ename": "AttributeError",
     "evalue": "'Teacher' object has no attribute 'encore'",
     "output_type": "error",
     "traceback": [
      "\u001b[1;31m---------------------------------------------------------------------------\u001b[0m",
      "\u001b[1;31mAttributeError\u001b[0m                            Traceback (most recent call last)",
      "\u001b[1;32m<ipython-input-92-cb07485b4349>\u001b[0m in \u001b[0;36m<module>\u001b[1;34m()\u001b[0m\n\u001b[0;32m     39\u001b[0m \u001b[0mt\u001b[0m\u001b[1;33m.\u001b[0m\u001b[0mid\u001b[0m\u001b[1;33m\u001b[0m\u001b[0m\n\u001b[0;32m     40\u001b[0m \u001b[0mt\u001b[0m\u001b[1;33m.\u001b[0m\u001b[0maddr\u001b[0m\u001b[1;33m\u001b[0m\u001b[0m\n\u001b[1;32m---> 41\u001b[1;33m \u001b[0mt\u001b[0m\u001b[1;33m.\u001b[0m\u001b[0mencore\u001b[0m\u001b[1;33m(\u001b[0m\u001b[1;33m)\u001b[0m\u001b[1;33m\u001b[0m\u001b[0m\n\u001b[0m",
      "\u001b[1;31mAttributeError\u001b[0m: 'Teacher' object has no attribute 'encore'"
     ]
    }
   ],
   "source": [
    "# 元类演示\n",
    "\n",
    "    #除了使用type()动态创建类以外，要控制类的创建行为，还可以使用metaclass。\n",
    "\n",
    "    #metaclass，直译为元类，简单的解释就是：\n",
    "\n",
    "    #当我们定义了类以后，就可以根据这个类创建出实例，所以：先定义类，然后创建实例。\n",
    "\n",
    "    #但是如果我们想创建出类呢？那就必须根据metaclass创建出类，所以：先定义metaclass，然后创建类。\n",
    "\n",
    "    #连接起来就是：先定义metaclass，就可以创建类，最后创建实例。\n",
    "\n",
    "    #所以，metaclass允许你创建类或者修改类。换句话说，你可以把类看成是metaclass创建出来的“实例”。\n",
    "\n",
    "    #metaclass是Python面向对象里最难理解，也是最难使用的魔术代码。正常情况下，你不会碰到需要使用metaclass的情况，所以，以下内容看不懂也没关系，\n",
    "    #因为基本上你不会用到。\n",
    "\n",
    "# 元类写法是固定的，必须继承自type\n",
    "# 元类一般命名以MetaClass结尾\n",
    "class TulingMetaClass(type):\n",
    "    # 注意以下写法\n",
    "    def __new__(cls, name, bases, attrs):\n",
    "        #自己的业务处理\n",
    "        print(\"哈哈，我是元类呀\")\n",
    "        attrs['id'] = '000000'\n",
    "        attrs['addr'] = \"北京海淀区公主坟西翠路12号\"\n",
    "        return type.__new__(cls, name, bases, attrs)\n",
    "    def encore(self):\n",
    "        print(\"重生\")\n",
    "\n",
    "# 元类定义完就可以使用，使用注意写法\n",
    "class Teacher(object, metaclass=TulingMetaClass):\n",
    "    pass\n",
    "\n",
    "#Teacher类相当于TulingMetaClass元类的实例\n",
    "    #t又是Teacher的实例\n",
    "t = Teacher()\n",
    "\n",
    "t.id\n",
    "t.addr\n",
    "t.encore()"
   ]
  },
  {
   "cell_type": "code",
   "execution_count": null,
   "metadata": {},
   "outputs": [],
   "source": [
    "class MetaClass(type):\n",
    "    # 定义A类的时候就会调用\n",
    "    def __init__(self, *args, **kwargs):\n",
    "        print('MetaClass __init__')\n",
    "        super(MetaClass,self).__init__(*args, **kwargs)\n",
    "\n",
    "    # 定义A类的时候，就会调用\n",
    "    def __new__(cls, *args, **kwargs):\n",
    "        print('MetaClass __new__')\n",
    "        # *args 里面包含了创建A类的参数\n",
    "        return super(MetaClass,self).__new__(cls, *args, **kwargs)\n",
    "\n",
    "    # A实例化的时候才会去调用call\n",
    "    def __call__(self, *args, **kwargs):\n",
    "        print('MetaClass __call__')\n",
    "        # 这儿其实是去调用A类需要实例化的所有方法\n",
    "        return super(MetaClass,self).__call__(*args, **kwargs)\n",
    "\n",
    "\n",
    "class A(metaclass=MetaClass):\n",
    "    def __init__(self):\n",
    "        print('A __init__')\n",
    "\n",
    "    def __new__(cls, *args, **kwargs):\n",
    "        print('A __new__')\n",
    "        return super(MetaClass,self).__new__(cls, *args, **kwargs)\n",
    "\n",
    "\n",
    "a = A()\n",
    "\n",
    "\n",
    "# 输出\n",
    "#     MetaClass __new__\n",
    "#     MetaClass __init__\n",
    "#     MetaClass __call__\n",
    "#     A __new__\n",
    "#     A __init__"
   ]
  }
 ],
 "metadata": {
  "kernelspec": {
   "display_name": "Python 3.8.3 64-bit",
   "language": "python",
   "name": "python38364bit32f78189f8754963bea62598119d220c"
  },
  "language_info": {
   "codemirror_mode": {
    "name": "ipython",
    "version": 3
   },
   "file_extension": ".py",
   "mimetype": "text/x-python",
   "name": "python",
   "nbconvert_exporter": "python",
   "pygments_lexer": "ipython3",
   "version": "3.8.3-final"
  },
  "pycharm": {
   "stem_cell": {
    "cell_type": "raw",
    "source": [],
    "metadata": {
     "collapsed": false
    }
   }
  }
 },
 "nbformat": 4,
 "nbformat_minor": 2
}