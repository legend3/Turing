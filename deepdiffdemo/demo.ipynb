{
 "metadata": {
  "language_info": {
   "codemirror_mode": {
    "name": "ipython",
    "version": 3
   },
   "file_extension": ".py",
   "mimetype": "text/x-python",
   "name": "python",
   "nbconvert_exporter": "python",
   "pygments_lexer": "ipython3",
   "version": "3.8.3-final"
  },
  "orig_nbformat": 2,
  "kernelspec": {
   "name": "python37664bit43260f964a684a76830932a928adb35c",
   "display_name": "Python 3.7.6 64-bit"
  }
 },
 "nbformat": 4,
 "nbformat_minor": 2,
 "cells": [
  {
   "cell_type": "code",
   "execution_count": 3,
   "metadata": {},
   "outputs": [
    {
     "output_type": "stream",
     "name": "stdout",
     "text": [
      "{}\n"
     ]
    }
   ],
   "source": [
    "from deepdiff import DeepDiff  # For Deep Difference of 2 objects\n",
    "from deepdiff import grep, DeepSearch  # For finding if item exists in an object\n",
    "from deepdiff import DeepHash  # For hashing objects based on their contents\n",
    "\n",
    "t1 = {1:1, 2:2, 3:3, 4:{\"a\":\"hello\", \"b\":[1, 2, 3]}}\n",
    "t2 = {1:1, 2:2, 3:3, 4:{\"a\":\"hello\", \"b\":[1, 3, 2, 3]}}\n",
    "ddiff = DeepDiff(t1, t2, ignore_order=True)\n",
    "print (ddiff)"
   ]
  },
  {
   "cell_type": "code",
   "execution_count": 2,
   "metadata": {},
   "outputs": [
    {
     "output_type": "stream",
     "name": "stdout",
     "text": [
      "{'iterable_item_removed': {'root[1]': 3}, 'repetition_change': {'root[3]': {'old_repeat': 1, 'new_repeat': 2, 'old_indexes': [3], 'new_indexes': [0, 1], 'value': 4}, 'root[0]': {'old_repeat': 2, 'new_repeat': 1, 'old_indexes': [0, 2], 'new_indexes': [2], 'value': 1}}}\n"
     ]
    }
   ],
   "source": [
    "t1 = [1, 3, 1, 4]\n",
    "t2 = [4, 4, 1]\n",
    "ddiff = DeepDiff(t1, t2, ignore_order=True, report_repetition=True)\n",
    "print(ddiff)"
   ]
  }
 ]
}