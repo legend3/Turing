{
 "cells": [
  {
   "cell_type": "code",
   "execution_count": null,
   "metadata": {},
   "outputs": [],
   "source": [
    "from typing import List, Tuple, Dict\n",
    "\n",
    "def fun1(a0: int, s0: str, f0: float, b0: bool) -> Tuple[List, Tuple, Dict, bool]:\n",
    "    list1 = list(range(a0))\n",
    "    tup1 = (a0, s0, f0, b0)\n",
    "    dict1 = {s0: f0}\n",
    "    b1 = b0\n",
    "    return list1, tup1, dict1, b1\n",
    "\n",
    "def fun2(a0, s0, f0, b0):\n",
    "    list1 = list(range(a0))\n",
    "    tup1 = (a0, s0, f0, b0)\n",
    "    dict1 = {s0: f0}\n",
    "    b1 = b0\n",
    "    return list1, tup1, dict1, b1\n",
    "\n",
    "print(fun1(5, \"KeyName\", 2.3, False))\n",
    "\n",
    "\n",
    "print(help(fun1))\n",
    "\"\"\"\n",
    "Help on function fun1 in module __main__:\n",
    "fun1(a0: int, s0: str, f0: float, b0: bool) -> Tuple[List, Tuple, Dict, bool]\n",
    "\"\"\"\n",
    "\n",
    "print(help(fun2))\n",
    "\"\"\"\n",
    "Help on function fun2 in module __main__:\n",
    "fun2(a0, s0, f0, b0)\n",
    "\"\"\""
   ]
  },
  {
   "cell_type": "code",
   "execution_count": 7,
   "metadata": {},
   "outputs": [
    {
     "name": "stdout",
     "output_type": "stream",
     "text": [
      "[3, 'aa']\n"
     ]
    }
   ],
   "source": [
    "from typing import List\n",
    " \n",
    "def func(a: int,b: str) -> List[int or str]:# 使用or关键字表示多种类型\n",
    "    list1 = []\n",
    "    list1.append(a)\n",
    "    list1.append(b)\n",
    "    return list1\n",
    "\n",
    "l = func(3, \"aa\")\n",
    "print(l) # [3, 'aa']"
   ]
  },
  {
   "cell_type": "code",
   "execution_count": 11,
   "metadata": {},
   "outputs": [
    {
     "name": "stdout",
     "output_type": "stream",
     "text": [
      "2.012\n",
      "35\n",
      "hahaha\n"
     ]
    }
   ],
   "source": [
    "# 定义一个不确定类型的占位符T，用作函数foo的形参， 但函数返回值一定是str，通过内部做str(name)转化来保证。\n",
    "import typing\n",
    "\n",
    "T=typing.TypeVar('T',int,float,str) # 只能是int、float、str类型\n",
    "\n",
    "def foo(name:T)->str:\n",
    "    return str(name)\n",
    "\n",
    "print(foo(2.012)) # 2.012\n",
    "print(foo(35)) # 35\n",
    "print(foo(\"hahaha\")) # hahaha"
   ]
  },
  {
   "cell_type": "code",
   "execution_count": 2,
   "metadata": {},
   "outputs": [
    {
     "name": "stdout",
     "output_type": "stream",
     "text": [
      "xx\n",
      "11\n",
      "4\n"
     ]
    }
   ],
   "source": [
    "# 1. python可以传递两种参数，返回值也可以是多种\n",
    "def mytest(a:str or int) -> str or int:\n",
    "    return a * 2\n",
    "print(mytest('x'))\n",
    "\n",
    "# 2. python 使用Uinon的写法\n",
    "from typing import Union\n",
    "def mytest2(a:Union[str,int]) -> Union[str,int]:\n",
    "    return a*2\n",
    "print(mytest2('1'))\n",
    "print(mytest2(2))"
   ]
  },
  {
   "cell_type": "code",
   "execution_count": 3,
   "metadata": {},
   "outputs": [
    {
     "ename": "TypeError",
     "evalue": "'ABCMeta' object is not subscriptable",
     "output_type": "error",
     "traceback": [
      "\u001b[1;31m---------------------------------------------------------------------------\u001b[0m",
      "\u001b[1;31mTypeError\u001b[0m                                 Traceback (most recent call last)",
      "\u001b[1;32me:\\workspace\\Turing\\1-python基础\\Typing.ipynb 单元格 5\u001b[0m in \u001b[0;36m<cell line: 8>\u001b[1;34m()\u001b[0m\n\u001b[0;32m      <a href='vscode-notebook-cell:/e%3A/workspace/Turing/1-python%E5%9F%BA%E7%A1%80/Typing.ipynb#W6sZmlsZQ%3D%3D?line=0'>1</a>\u001b[0m \u001b[39m# 标注可调用对象\u001b[39;00m\n\u001b[0;32m      <a href='vscode-notebook-cell:/e%3A/workspace/Turing/1-python%E5%9F%BA%E7%A1%80/Typing.ipynb#W6sZmlsZQ%3D%3D?line=1'>2</a>\u001b[0m \u001b[39m# 函数 -- 或其他 callable 对象 -- 可以使用 collections.abc.Callable 或 typing.Callable 来标注。 Callable[[int], str] 表示一个接受 int 类型的单个参数并返回 str 的函数。\u001b[39;00m\n\u001b[0;32m      <a href='vscode-notebook-cell:/e%3A/workspace/Turing/1-python%E5%9F%BA%E7%A1%80/Typing.ipynb#W6sZmlsZQ%3D%3D?line=2'>3</a>\u001b[0m \n\u001b[0;32m      <a href='vscode-notebook-cell:/e%3A/workspace/Turing/1-python%E5%9F%BA%E7%A1%80/Typing.ipynb#W6sZmlsZQ%3D%3D?line=3'>4</a>\u001b[0m \u001b[39m# 例如:\u001b[39;00m\n\u001b[0;32m      <a href='vscode-notebook-cell:/e%3A/workspace/Turing/1-python%E5%9F%BA%E7%A1%80/Typing.ipynb#W6sZmlsZQ%3D%3D?line=5'>6</a>\u001b[0m \u001b[39mfrom\u001b[39;00m \u001b[39mcollections\u001b[39;00m\u001b[39m.\u001b[39;00m\u001b[39mabc\u001b[39;00m \u001b[39mimport\u001b[39;00m Callable, Awaitable\n\u001b[1;32m----> <a href='vscode-notebook-cell:/e%3A/workspace/Turing/1-python%E5%9F%BA%E7%A1%80/Typing.ipynb#W6sZmlsZQ%3D%3D?line=7'>8</a>\u001b[0m \u001b[39mdef\u001b[39;00m \u001b[39mfeeder\u001b[39m(get_next_item: Callable[[], \u001b[39mstr\u001b[39m]) \u001b[39m-\u001b[39m\u001b[39m>\u001b[39m \u001b[39mNone\u001b[39;00m:\n\u001b[0;32m      <a href='vscode-notebook-cell:/e%3A/workspace/Turing/1-python%E5%9F%BA%E7%A1%80/Typing.ipynb#W6sZmlsZQ%3D%3D?line=8'>9</a>\u001b[0m     \u001b[39m.\u001b[39m\u001b[39m.\u001b[39m\u001b[39m.\u001b[39m  \u001b[39m# Body\u001b[39;00m\n\u001b[0;32m     <a href='vscode-notebook-cell:/e%3A/workspace/Turing/1-python%E5%9F%BA%E7%A1%80/Typing.ipynb#W6sZmlsZQ%3D%3D?line=10'>11</a>\u001b[0m \u001b[39mdef\u001b[39;00m \u001b[39masync_query\u001b[39m(on_success: Callable[[\u001b[39mint\u001b[39m], \u001b[39mNone\u001b[39;00m],\n\u001b[0;32m     <a href='vscode-notebook-cell:/e%3A/workspace/Turing/1-python%E5%9F%BA%E7%A1%80/Typing.ipynb#W6sZmlsZQ%3D%3D?line=11'>12</a>\u001b[0m                 on_error: Callable[[\u001b[39mint\u001b[39m, \u001b[39mException\u001b[39;00m], \u001b[39mNone\u001b[39;00m]) \u001b[39m-\u001b[39m\u001b[39m>\u001b[39m \u001b[39mNone\u001b[39;00m:\n",
      "\u001b[1;31mTypeError\u001b[0m: 'ABCMeta' object is not subscriptable"
     ]
    }
   ],
   "source": [
    "# 标注可调用对象\n",
    "# 函数 -- 或其他 callable 对象 -- 可以使用 collections.abc.Callable 或 typing.Callable 来标注。 Callable[[int], str] 表示一个接受 int 类型的单个参数并返回 str 的函数。\n",
    "\n",
    "# 例如:\n",
    "\n",
    "from collections.abc import Callable, Awaitable\n",
    "\n",
    "def feeder(get_next_item: Callable[[], str]) -> None:\n",
    "    print(get_next_item)\n",
    "\n",
    "def async_query(on_success: Callable[[int], None],\n",
    "                on_error: Callable[[int, Exception], None]) -> None:\n",
    "    print(async_query())\n",
    "\n",
    "async def on_update(value: str) -> None:\n",
    "    ...  # Body\n",
    "\n",
    "callback: Callable[[str], Awaitable[None]] = on_update"
   ]
  },
  {
   "cell_type": "code",
   "execution_count": 12,
   "metadata": {},
   "outputs": [],
   "source": [
    "# typing中的Type是一个泛型类，用于表示类型本身，即你是啥类型就是啥类型，有点绕，看例子吧:\n",
    "from typing import Type\n",
    "\n",
    "value: Type[int]  # value是一个Type对象，表示int类型\n",
    "value: int\n",
    "\n",
    "# 即value:Type[int]和value:int是等价的。\n",
    "\n",
    "# 那为什么还要有这个Type类呢，我理解它为一个更为宽松的类型标注，比如下面函数:"
   ]
  },
  {
   "cell_type": "code",
   "execution_count": null,
   "metadata": {},
   "outputs": [],
   "source": [
    "def ir_module(mod: Type) -> IRModule:\n",
    "    \"\"\"The parsing method for ir module, by using `@ir_module` as decorator.\n",
    "\n",
    "    Parameters\n",
    "    ----------\n",
    "    mod : Type\n",
    "        The class to be parsed as ir module.\n",
    "\n",
    "    Returns\n",
    "    -------\n",
    "    ir_module : IRModule\n",
    "        The parsed ir module.\n",
    "    \"\"\"\n",
    "    if not inspect.isclass(mod):\n",
    "        raise TypeError(f\"Expect a class, but got: {mod}\")\n",
    "\n",
    "    m = parse(mod, utils.inspect_class_capture(mod))\n",
    "    setattr(m, \"__name__\", mod.__name__)\n",
    "    return m"
   ]
  }
 ],
 "metadata": {
  "kernelspec": {
   "display_name": "Python 3",
   "language": "python",
   "name": "python3"
  },
  "language_info": {
   "codemirror_mode": {
    "name": "ipython",
    "version": 3
   },
   "file_extension": ".py",
   "mimetype": "text/x-python",
   "name": "python",
   "nbconvert_exporter": "python",
   "pygments_lexer": "ipython3",
   "version": "3.8.3"
  },
  "orig_nbformat": 4
 },
 "nbformat": 4,
 "nbformat_minor": 2
}
