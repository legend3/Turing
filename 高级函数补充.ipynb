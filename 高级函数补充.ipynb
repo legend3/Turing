{
 "cells": [
  {
   "cell_type": "markdown",
   "metadata": {},
   "source": [
    "# 给大家补充几个高级函数\n",
    "# zip\n",
    "- 把两个可迭代内容生成一个可迭代的tuple元素类型组成的内容"
   ]
  },
  {
   "cell_type": "code",
   "execution_count": null,
   "metadata": {},
   "outputs": [],
   "source": [
    "# zip 案例\n",
    "l1 = [ 1,2,3,4,5]\n",
    "l2 = [11,22,33,44,55]\n",
    "\n",
    "z = zip(l1, l2)\n",
    "\n",
    "print(type(z))\n",
    "print(z)\n",
    "\n",
    "for i in z:\n",
    "    print(i)"
   ]
  },
  {
   "cell_type": "code",
   "execution_count": null,
   "metadata": {},
   "outputs": [],
   "source": [
    "l1 = [\"wangwang\", \"mingyue\", \"yyt\"]\n",
    "l2 = [89, 23, 78]\n",
    "\n",
    "z = zip(l1, l2)\n",
    "\n",
    "for i in z:\n",
    "    print(i)\n",
    "    \n",
    "    \n",
    "# 考虑下面结果，为什么会为空     \n",
    "l3 = [i for i in z]\n",
    "print(l3)\n",
    "# 答案：\n",
    "# 解释:zip是一个迭代器；\n",
    "# 迭代器智能前进，不能后退。上述如果进行了迭代后，迭代器的内部指针已经指向了内部的最后一个元组，\n",
    "# 然后到了下面执行列表生成式的时候，迭代器只能前进不能后退，\n",
    "#所以指针没有被重置，迭代器已经没有元组可返回了，所以 打印出来的是空list。"
   ]
  },
  {
   "cell_type": "markdown",
   "metadata": {},
   "source": [
    "# enumerate \n",
    "- 跟zip功能比较像\n",
    "- 对可迭代对象里的每一元素，配上一个索引，然后索引和内容构成tuple类型\n"
   ]
  },
  {
   "cell_type": "code",
   "execution_count": null,
   "metadata": {},
   "outputs": [],
   "source": [
    "# enumerate案例1\n",
    "l1 = [11,22,33,44,55]\n",
    "\n",
    "em = enumerate(l1)\n",
    "\n",
    "l2 = [i for i in em]\n",
    "print(l2)"
   ]
  },
  {
   "cell_type": "code",
   "execution_count": null,
   "metadata": {},
   "outputs": [],
   "source": [
    "em = enumerate(l1, start=100)\n",
    "\n",
    "l2 = [ i for i in em]\n",
    "print(l2)"
   ]
  },
  {
   "cell_type": "markdown",
   "metadata": {},
   "source": [
    "# collections模块\n",
    "- namedtuple\n",
    "- deque\n"
   ]
  },
  {
   "cell_type": "markdown",
   "metadata": {},
   "source": [
    "### namedtuple\n",
    "- tuple类型\n",
    "- 是一个可命名的tuple"
   ]
  },
  {
   "cell_type": "code",
   "execution_count": null,
   "metadata": {},
   "outputs": [],
   "source": [
    "import collections\n",
    "#创建一个名称为OnePoint的类，该类拥有两个属性name和pwd，将这个类赋值给变量Point\n",
    "#实例化OnePoint，使用OnePoint指针访问元组元素属性\n",
    "#verbose设置为True，将会打印出命名类的源代码\n",
    "#rename设置为True，将对不符合规则的元组元素配置$x等符号\n",
    "Point = collections.namedtuple(\"OnePoint\",['x', 'y'])\n",
    "p = Point(11, 22)#实例化OnePoint,p指向OnePoint\n",
    "print(p.x)\n",
    "print(p[1])\n",
    "print(type(p))"
   ]
  },
  {
   "cell_type": "code",
   "execution_count": null,
   "metadata": {},
   "outputs": [],
   "source": [
    "Circle = collections.namedtuple(\"Circle\", ['x', 'y', 'r'])\n",
    "\n",
    "c = Circle(100, 150, 50)\n",
    "print(c)\n",
    "print(type(c))\n",
    "\n",
    "# 想检测以下namedtuple到底属于谁的子类\n",
    "isinstance(c, tuple)"
   ]
  },
  {
   "cell_type": "markdown",
   "metadata": {},
   "source": [
    "# dequeue\n",
    "- 比较方便的解决了频繁删除插入带来的效率问题"
   ]
  },
  {
   "cell_type": "code",
   "execution_count": null,
   "metadata": {},
   "outputs": [],
   "source": [
    "from collections import deque\n",
    "\n",
    "q = deque(['a', 'b', 'c'])\n",
    "print(q)\n",
    "\n",
    "q.append(\"d\")\n",
    "print(q)\n",
    "\n",
    "q.appendleft('x')\n",
    "print(q)\n"
   ]
  },
  {
   "cell_type": "markdown",
   "metadata": {},
   "source": [
    "# defaultdict\n",
    "-配置默认值\n",
    "- 当直接读取dict不存在的属性时，直接返回默认值"
   ]
  },
  {
   "cell_type": "code",
   "execution_count": null,
   "metadata": {},
   "outputs": [],
   "source": [
    "d1 = {\"one\":1, \"two\":2, \"three\":3}\n",
    "print(d1['one'])\n",
    "print(d1['four'])"
   ]
  },
  {
   "cell_type": "code",
   "execution_count": 23,
   "metadata": {},
   "outputs": [
    {
     "name": "stdout",
     "output_type": "stream",
     "text": [
      "d2: defaultdict(<function <lambda> at 0x000002452A6968B0>, {})\n",
      "1\n",
      "刘大拿\n",
      "defaultdict(<function <lambda> at 0x000002452A6968B0>, {'one': 1, 'two': 2, 'four': '刘大拿'})\n"
     ]
    }
   ],
   "source": [
    "from collections import defaultdict\n",
    "# lambda表达式，直接返回字符串\n",
    "func = lambda: \"刘大拿\"\n",
    "d2 = defaultdict(func)\n",
    "print('d2:', d2)\n",
    "\n",
    "d2[\"one\"] = 1\n",
    "d2[\"two\"] = 2\n",
    "\n",
    "print(d2['one'])\n",
    "print(d2['four'])\n",
    "print(d2)"
   ]
  },
  {
   "cell_type": "markdown",
   "metadata": {},
   "source": [
    "# Counter\n",
    "- 统计字符串个数"
   ]
  },
  {
   "cell_type": "code",
   "execution_count": null,
   "metadata": {},
   "outputs": [],
   "source": [
    "from collections import Counter\n",
    "\n",
    "# 为什么下面结果不把abcdefgabced.....作为键值，而是以其中每一个字母作为键值（答案：不可迭代）\n",
    "# 需要括号里内容为可迭代\n",
    "c = Counter(\"abcdefgabcdeabcdabcaba\")#不可迭代\n",
    "d = Counter([1,2,3,1,2,3,4,4,4,4])#可迭代\n",
    "print(c)\n",
    "print(d)"
   ]
  },
  {
   "cell_type": "code",
   "execution_count": null,
   "metadata": {},
   "outputs": [],
   "source": [
    "s = [\"liudana\", \"love\", \"love\", \"love\", \"love\", \"wangxiaona\"]\n",
    "c = Counter(s)\n",
    "\n",
    "print(c)"
   ]
  }
 ],
 "metadata": {
  "kernelspec": {
   "display_name": "Python 3",
   "language": "python",
   "name": "python3"
  },
  "language_info": {
   "codemirror_mode": {
    "name": "ipython",
    "version": 3
   },
   "file_extension": ".py",
   "mimetype": "text/x-python",
   "name": "python",
   "nbconvert_exporter": "python",
   "pygments_lexer": "ipython3",
   "version": "3.8.3"
  }
 },
 "nbformat": 4,
 "nbformat_minor": 2
}
