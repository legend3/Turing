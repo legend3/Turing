{
 "cells": [
  {
   "cell_type": "code",
   "execution_count": 6,
   "metadata": {},
   "outputs": [
    {
     "name": "stdout",
     "output_type": "stream",
     "text": [
      "{'__module__': '__main__', 'name': 'dana', 'age': 18, '__dict__': <attribute '__dict__' of 'Student' objects>, '__weakref__': <attribute '__weakref__' of 'Student' objects>, '__doc__': None}\n",
      "{}\n",
      "dana\n"
     ]
    }
   ],
   "source": [
    "class Student():\n",
    "    name = \"dana\"\n",
    "    age = 18\n",
    "    \n",
    "print(Student.__dict__)\n",
    "\n",
    "# 实例化\n",
    "yueyue = Student()\n",
    "print(yueyue.__dict__)\n",
    "print(yueyue.name)\n",
    "\n",
    "\n"
   ]
  },
  {
   "cell_type": "code",
   "execution_count": 7,
   "metadata": {},
   "outputs": [
    {
     "name": "stdout",
     "output_type": "stream",
     "text": [
      "dana\n",
      "18\n",
      "********************\n",
      "2507380891696\n",
      "1812050688\n",
      "********************\n",
      "dana\n",
      "18\n",
      "2507380891696\n",
      "1812050688\n",
      "None\n"
     ]
    }
   ],
   "source": [
    "class A():\n",
    "    name = \"dana\"\n",
    "    age = 18\n",
    "    \n",
    "    # 注意say的写法，参数由一个self\n",
    "    def say(self):\n",
    "        self.name = \"aaaa\"\n",
    "        self.age = 200\n",
    "\n",
    "# 此案例说明\n",
    "# 类实例的属性和其对象的实例的属性在不对对象的实例属性进行赋值的前提下，\n",
    "# 指向同一个变量\n",
    "        \n",
    "# 此时，A称为类实例\n",
    "print(A.name)\n",
    "print(A.age)\n",
    "\n",
    "print(\"*\" * 20)\n",
    "\n",
    "# id可以鉴别一个变量是否和另一个变量是同一变量\n",
    "print(id(A.name))\n",
    "print(id(A.age))\n",
    "\n",
    "print(\"*\" * 20)\n",
    "#(补充)对象的实例\n",
    "a = A()\n",
    "\n",
    "print(a.name)\n",
    "print(a.age)\n",
    "print(id(a.name))\n",
    "print(id(a.age))\n",
    "print(a.say())"
   ]
  },
  {
   "cell_type": "code",
   "execution_count": 12,
   "metadata": {},
   "outputs": [
    {
     "name": "stdout",
     "output_type": "stream",
     "text": [
      "dana\n",
      "18\n",
      "********************\n",
      "140666260313176\n",
      "93936169025280\n",
      "********************\n",
      "{'__module__': '__main__', 'name': 'dana', 'age': 18, 'say': <function A.say at 0x7fef6a799730>, '__dict__': <attribute '__dict__' of 'A' objects>, '__weakref__': <attribute '__weakref__' of 'A' objects>, '__doc__': None}\n",
      "{}\n",
      "{'name': 'yaona', 'age': 16}\n",
      "yaona\n",
      "16\n",
      "140666251554240\n",
      "93936169025216\n"
     ]
    }
   ],
   "source": [
    "# 此时，A称为类实例\n",
    "print(A.name)\n",
    "print(A.age)\n",
    "\n",
    "print(\"*\" * 20)\n",
    "\n",
    "# id可以鉴别一个变量是否和另一个变量是同一变量\n",
    "print(id(A.name))\n",
    "print(id(A.age))\n",
    "\n",
    "print(\"*\" * 20)\n",
    "a = A()\n",
    "# 查看A内所有的属性\n",
    "print(A.__dict__)\n",
    "print(a.__dict__)\n",
    "\n",
    "a.name = \"yaona\"\n",
    "a.age = 16\n",
    "print(a.__dict__)\n",
    "\n",
    "print(a.name)\n",
    "print(a.age)\n",
    "print(id(a.name))\n",
    "print(id(a.age))\n",
    "        "
   ]
  },
  {
   "cell_type": "code",
   "execution_count": 2,
   "metadata": {},
   "outputs": [
    {
     "name": "stdout",
     "output_type": "stream",
     "text": [
      "{'__module__': '__main__', '__doc__': '成员变量都是在类中', 'name': 'dana', 'age': 18, 'sex': '男', 'say': <function Student.say at 0x000001CD5EEF3F28>, 'sayAgain': <function Student.sayAgain at 0x000001CD5EEF3C80>, '__dict__': <attribute '__dict__' of 'Student' objects>, '__weakref__': <attribute '__weakref__' of 'Student' objects>}\n",
      "{}\n",
      "dana\n",
      "18\n",
      "男\n",
      "杭州\n",
      "global\n",
      "100\n",
      "dana\n",
      "18\n",
      "My name is aaaa\n",
      "My age is 200\n",
      "{'name': 'aaaa', 'age': 200}\n",
      "My name is aaaa\n",
      "My age is 200\n",
      "global\n"
     ]
    }
   ],
   "source": [
    "class Student():\n",
    "    '''成员变量都是在类中'''\n",
    "    name = \"dana\"\n",
    "    age = 18\n",
    "    sex = '男'\n",
    "    \n",
    "    # 注意say的写法，参数由一个self\n",
    "    def say(self):\n",
    "#         print(name)  # 对象不能直接调用类成员，而要以 对象.name调用\n",
    "#         print(age)  #  对象不能直接调用类成员，而要以 对象.age调用\n",
    "        sex = \"男\"  # 局域变量\n",
    "        home = \"杭州\"  # 局域变量\n",
    "        print(sex)  # 实例化对象后再调用方法创建的，因此可以直接调用\n",
    "        print(home)  # 实例化对象后再调用方法创建的，因此可以直接调用\n",
    "        \n",
    "        global name\n",
    "        name = \"global\"  #全局变量\n",
    "        global age\n",
    "        age = 100  #全局变量\n",
    "        print(name)\n",
    "        print(age)\n",
    "        \n",
    "        '''上述都未对成员进行赋值，仅是方法内的局域或者全局变量'''\n",
    "        \n",
    "        print(self.name)  # （对象调用类成员变量<全局变量>）还未对对象赋值，输出成员变量\n",
    "        print(self.age)  # 还未对对象赋值，输出成员变量\n",
    "        \n",
    "        self.name = \"aaaa\"#(也是)对对象实例赋值\n",
    "        self.age = 200\n",
    "        print(\"My name is {0}\".format(self.name))\n",
    "        print(\"My age is {0}\".format(self.age))\n",
    "        \n",
    "    def sayAgain(s):\n",
    "      \n",
    "        print(\"My name is {0}\".format(s.name))\n",
    "        print(\"My age is {0}\".format(s.age))\n",
    "\n",
    "yueyue = Student()\n",
    "print(Student.__dict__)\n",
    "print(yueyue.__dict__) # {}对象还未对成员赋值\n",
    "print(Student.name)\n",
    "print(yueyue.age)\n",
    "yueyue.say()\n",
    "print(yueyue.__dict__)  # {'name': 'aaaa', 'age': 200}\n",
    "yueyue.sayAgain()\n",
    "print(name,age)\n"
   ]
  },
  {
   "cell_type": "code",
   "execution_count": 7,
   "metadata": {},
   "outputs": [
    {
     "name": "stdout",
     "output_type": "stream",
     "text": [
      "My name is yaona\n",
      "My age is 19\n",
      "\n",
      "bbb\n",
      "17\n",
      "dana\n",
      "19\n",
      "Hello, nice to see you again\n"
     ]
    }
   ],
   "source": [
    "# 非绑定\n",
    "\n",
    "class Teacher():\n",
    "    name = \"dana\"\n",
    "    age = 19\n",
    "    \n",
    "    def say(self):\n",
    "        self.name = \"yaona\"\n",
    "        self.age = 17\n",
    "        print(\"My name is {0}\".format(self.name))\n",
    "        # 调用类的成员变量需要用 __class__\n",
    "        print(\"My age is {0}\".format(__class__.age) + \"\\n\")\n",
    "    def sayAgain():\n",
    "        print(name) # 输出对象对成员的赋值\n",
    "        print(age)  # 输出对象对成员的赋值\n",
    "        \n",
    "        print(__class__.name)  # 输出类成员\n",
    "        print(__class__.age )  # 输出类成员\n",
    "        print(\"Hello, nice to see you again\")\n",
    "t = Teacher()\n",
    "t.say()\n",
    "# 调用绑定类函数使用类名\n",
    "Teacher.sayAgain()"
   ]
  },
  {
   "cell_type": "code",
   "execution_count": 30,
   "metadata": {},
   "outputs": [
    {
     "name": "stdout",
     "output_type": "stream",
     "text": [
      "类的成员;\n",
      " {'__module__': '__main__', 'name': ' liuying', 'age': 18, '__init__': <function A.__init__ at 0x00000267E424AAE8>, 'say': <function A.say at 0x00000267E424AC80>, '__dict__': <attribute '__dict__' of 'A' objects>, '__weakref__': <attribute '__weakref__' of 'A' objects>, '__doc__': None}\n",
      "实例对象的成员:\n",
      " {'name': 'aaaa', 'age': 200, 'sex': '男'}\n",
      "--------------------\n",
      "aaaa\n",
      "200\n",
      "aaaa\n",
      "200\n",
      " liuying\n",
      "18\n",
      "bbbb\n",
      "90\n"
     ]
    }
   ],
   "source": [
    "# 关于self的案例\n",
    "\n",
    "class A():\n",
    "    name = \" liuying\"\n",
    "    age = 18\n",
    "    \n",
    "    def __init__(self,sex):  # a、A、B分别都可代表self\n",
    "        name = \"fuck\"\n",
    "        age = 100\n",
    "        \n",
    "        self.name = \"aaaa\"\n",
    "        self.age = 200\n",
    "        self.sex = sex\n",
    "        \n",
    "    def say(self):\n",
    "        print(self.name)\n",
    "        print(self.age)\n",
    "        \n",
    "class B():\n",
    "    name = \"bbbb\"\n",
    "    age = 90\n",
    "\n",
    "a = A(\"男\")\n",
    "# 此时，系统会默认把a作为第一个参数传入函数\n",
    "print(\"类的成员;\\n\",A.__dict__)\n",
    "print(\"实例对象的成员:\\n\",a.__dict__)\n",
    "print(\"-\"*20)\n",
    "\n",
    "a.say()\n",
    "\n",
    "# 此时，self被a替换\n",
    "A.say(a)\n",
    "# 同样可以把A作为参数传入\n",
    "A.say(A)\n",
    "\n",
    "# 此时，传入的是类实例B，因为B具有name和age属性，所以不会报错\n",
    "A.say(B)\n",
    "\n",
    "# 以上代码，利用了鸭子模型"
   ]
  },
  {
   "cell_type": "code",
   "execution_count": null,
   "metadata": {},
   "outputs": [],
   "source": [
    "class A():\n",
    "    name = \" liuying\"\n",
    "    age = 18\n",
    "    \n",
    "    def __init__(self):  # a、A、B分别都可代表self\n",
    "        name = \"fuck\"\n",
    "        age = 100\n",
    "        self.name = \"aaaa\"\n",
    "        self.age = 200\n",
    "        \n",
    "    def say(self):\n",
    "        print(self.name)\n",
    "        print(self.age)\n",
    "        \n",
    "class B():\n",
    "    name = \"bbbb\"\n",
    "    age = 90"
   ]
  },
  {
   "cell_type": "code",
   "execution_count": 18,
   "metadata": {},
   "outputs": [
    {
     "name": "stdout",
     "output_type": "stream",
     "text": [
      "liuying\n",
      "16\n"
     ]
    }
   ],
   "source": [
    "# 私有变量案例\n",
    "\n",
    "class Person():\n",
    "                # name是共有的成员 \n",
    "                name = \"liuying\"\n",
    "                # __age就是私有成员\n",
    "                __age = 18#无法在外部直接访问\n",
    "                _age = 16#父类子类都能用\n",
    "                \n",
    "p = Person()\n",
    "# name是公有变量\n",
    "print(p.name)\n",
    "# __age是私有变量(private)\n",
    "# print(p.__age)#x\n",
    "#_agen是私有变量(protect)\n",
    "print(p._age)\n"
   ]
  },
  {
   "cell_type": "code",
   "execution_count": 19,
   "metadata": {},
   "outputs": [
    {
     "name": "stdout",
     "output_type": "stream",
     "text": [
      "{'__module__': '__main__', 'name': 'liuying', '_Person__age': 18, '_age': 16, '__dict__': <attribute '__dict__' of 'Person' objects>, '__weakref__': <attribute '__weakref__' of 'Person' objects>, '__doc__': None}\n",
      "19\n"
     ]
    }
   ],
   "source": [
    "# name mangling技术\n",
    "print(Person.__dict__)\n",
    "\n",
    "p._Person__age = 19\n",
    "print(p._Person__age)"
   ]
  },
  {
   "cell_type": "code",
   "execution_count": 2,
   "metadata": {},
   "outputs": [
    {
     "name": "stdout",
     "output_type": "stream",
     "text": [
      "3.14\n",
      "314.0\n",
      "314.0\n"
     ]
    }
   ],
   "source": [
    "Π = 3.14\n",
    "def area(r):\n",
    "    print(Π)\n",
    "    global s\n",
    "    s = r * r * Π\n",
    "    print(s)\n",
    "area(10)\n",
    "print(s)"
   ]
  },
  {
   "cell_type": "code",
   "execution_count": null,
   "metadata": {},
   "outputs": [],
   "source": []
  }
 ],
 "metadata": {
  "kernelspec": {
   "display_name": "Python 3",
   "language": "python",
   "name": "python3"
  },
  "language_info": {
   "codemirror_mode": {
    "name": "ipython",
    "version": 3
   },
   "file_extension": ".py",
   "mimetype": "text/x-python",
   "name": "python",
   "nbconvert_exporter": "python",
   "pygments_lexer": "ipython3",
   "version": "3.6.5"
  }
 },
 "nbformat": 4,
 "nbformat_minor": 2
}
