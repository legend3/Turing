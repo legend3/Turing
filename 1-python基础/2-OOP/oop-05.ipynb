{
 "cells": [
  {
   "cell_type": "code",
   "execution_count": 6,
   "source": [
    "#变量的三种用法\r\n",
    "\r\n",
    "class A():\r\n",
    "    def __init__(self):\r\n",
    "        self.name = \"haha\"\r\n",
    "        self.age =18\r\n",
    "     \r\n",
    "a = A()\r\n",
    "# 属性的三种用法\r\n",
    "# 1， 赋值\r\n",
    "# 2. 读取\r\n",
    "# 3. 删除\r\n",
    "a.name = \"李振国\" \r\n",
    "print(a.name)\r\n",
    "del a.name\r\n",
    "print(a.__dict__)\r\n"
   ],
   "outputs": [
    {
     "output_type": "stream",
     "name": "stdout",
     "text": [
      "李振国\n",
      "{'age': 18}\n"
     ]
    }
   ],
   "metadata": {
    "tags": []
   }
  },
  {
   "cell_type": "code",
   "execution_count": 8,
   "source": [
    "# 类属性 property\r\n",
    "# 应用场景：\r\n",
    "# 对变量除了普通的三种操作，还想增加一些附加的操作，那么可以通过property完成\r\n",
    "class A():\r\n",
    "    def __init__(self):\r\n",
    "        self.name = \"haha\"\r\n",
    "        self.age =18\r\n",
    "        \r\n",
    "    # 此功能，是对类变量进行读取操作的时候应该执行的函数功能\r\n",
    "    def fget(self):\r\n",
    "        print(\"我被读取了\")\r\n",
    "        return self.name\r\n",
    "    # 模拟的是对变量进行写操作的时候执行的功能\r\n",
    "    def fset(self, name):\r\n",
    "        print(\"我被写入了，但是还可以做好多事情\")\r\n",
    "        self.name = \"图灵学院：\" + name \r\n",
    "        \r\n",
    "    # fdel模拟的是删除变量的时候进行的操作\r\n",
    "    def fdel(self):\r\n",
    "        print(\"我被删除了!\")\r\n",
    "        pass\r\n",
    "        \r\n",
    "    # property的四个参数顺序是固定的\r\n",
    "        #如果 a 是 A 的实例化, a.name2 将触发 fget,a.x = value 将触发 fset ， del a.name2 触发 fdel\r\n",
    "        # 第一个参数代表读取的时候需要调用的函数\r\n",
    "        # 第二个参数代表写入的时候需要调用的函数\r\n",
    "        # 第三个是删除\r\n",
    "    name2 = property(fget, fset, fdel, \"这是一个property的例子\")\r\n",
    "\r\n",
    "# help(property)\r\n",
    "a = A()\r\n",
    "# print(a.name)\r\n",
    "\r\n",
    "# print(a.name2)\r\n",
    "a.name2=\"Mike\"\r\n",
    "del a.name2"
   ],
   "outputs": [
    {
     "output_type": "stream",
     "name": "stdout",
     "text": [
      "我被写入了，但是还可以做好多事情\n",
      "我被删除了!\n"
     ]
    }
   ],
   "metadata": {}
  },
  {
   "cell_type": "code",
   "execution_count": 10,
   "source": [
    "# 抽象\r\n",
    "\r\n",
    "class Animel():\r\n",
    "    def sayHello(self):  \r\n",
    "        pass\r\n",
    " \r\n",
    "    \r\n",
    "class Dog(Animel):  \r\n",
    "    pass\r\n",
    "\r\n",
    "\r\n",
    "class Person(Animel):\r\n",
    "    def sayHello(self):\r\n",
    "        print(\"Kiss me\")\r\n",
    "    \r\n",
    "d = Dog()\r\n",
    "d.sayHello()\r\n",
    "\r\n",
    "p = Person()\r\n",
    "p.sayHello()"
   ],
   "outputs": [
    {
     "output_type": "stream",
     "name": "stdout",
     "text": [
      "Kiss me\n"
     ]
    }
   ],
   "metadata": {}
  },
  {
   "cell_type": "code",
   "execution_count": 16,
   "source": [
    "# 抽象类的实现\r\n",
    "\r\n",
    "import abc\r\n",
    "\r\n",
    "#声明一个类并且指定当前类的元类\r\n",
    "class Human(metaclass=abc.ABCMeta):\r\n",
    "    #     __metaclass__ = abc.ABCMeta  # 补充：第二种方式，(Human()只需要继承object)定义抽象类\r\n",
    "    # 定义一个抽象的方法:抽象方法不能通过当前类调用，必须使用子类继承并且实现该方法才能调用该方法\r\n",
    "    @abc.abstractmethod\r\n",
    "    def smoking(self):\r\n",
    "        pass\r\n",
    "    \r\n",
    "    # 定义类抽象方法\r\n",
    "    @abc.abstractclassmethod\r\n",
    "    def drink():\r\n",
    "        pass\r\n",
    "    \r\n",
    "    # 定义静态抽象方法\r\n",
    "    @abc.abstractstaticmethod\r\n",
    "    def play():\r\n",
    "        pass\r\n",
    "    \r\n",
    "    #  普通方法\r\n",
    "    def sleep(self):\r\n",
    "        print(\"Sleeping.......\")\r\n",
    "\r\n",
    "#  补充\r\n",
    "class Worker(Human):\r\n",
    "#     pass  # 不实现任何抽象方法\r\n",
    "\r\n",
    "    def smoking(self):\r\n",
    "        print(\"抽南京牌香烟\")\r\n",
    "    def drink():\r\n",
    "        print(\"喝water\")\r\n",
    "    def play():\r\n",
    "        print(\"学习热工仪表\")\r\n",
    "\r\n",
    "w = Worker()  # 必须要实现所有抽象方法，否则无法实例化\r\n",
    "w.smoking()\r\n",
    "w.drink()"
   ],
   "outputs": [
    {
     "output_type": "stream",
     "name": "stdout",
     "text": [
      "抽南京牌香烟\n"
     ]
    },
    {
     "output_type": "error",
     "ename": "TypeError",
     "evalue": "drink() takes 0 positional arguments but 1 was given",
     "traceback": [
      "\u001b[1;31m---------------------------------------------------------------------------\u001b[0m",
      "\u001b[1;31mTypeError\u001b[0m                                 Traceback (most recent call last)",
      "\u001b[1;32m<ipython-input-16-372f996e79c0>\u001b[0m in \u001b[0;36m<module>\u001b[1;34m\u001b[0m\n\u001b[0;32m     38\u001b[0m \u001b[0mw\u001b[0m \u001b[1;33m=\u001b[0m \u001b[0mWorker\u001b[0m\u001b[1;33m(\u001b[0m\u001b[1;33m)\u001b[0m  \u001b[1;31m# 必须要实现所有抽象方法，否则无法实例化\u001b[0m\u001b[1;33m\u001b[0m\u001b[1;33m\u001b[0m\u001b[0m\n\u001b[0;32m     39\u001b[0m \u001b[0mw\u001b[0m\u001b[1;33m.\u001b[0m\u001b[0msmoking\u001b[0m\u001b[1;33m(\u001b[0m\u001b[1;33m)\u001b[0m\u001b[1;33m\u001b[0m\u001b[1;33m\u001b[0m\u001b[0m\n\u001b[1;32m---> 40\u001b[1;33m \u001b[0mw\u001b[0m\u001b[1;33m.\u001b[0m\u001b[0mdrink\u001b[0m\u001b[1;33m(\u001b[0m\u001b[1;33m)\u001b[0m\u001b[1;33m\u001b[0m\u001b[1;33m\u001b[0m\u001b[0m\n\u001b[0m",
      "\u001b[1;31mTypeError\u001b[0m: drink() takes 0 positional arguments but 1 was given"
     ]
    }
   ],
   "metadata": {}
  },
  {
   "cell_type": "code",
   "execution_count": 17,
   "source": [
    "# 函数名可以当变量使用\r\n",
    "\r\n",
    "def sayHello(name):\r\n",
    "    print(\"{0}你好，来一发吗？\".format(name))\r\n",
    "    \r\n",
    "sayHello(\"月月\")\r\n",
    "\r\n",
    "liumang = sayHello  # 补充：函数当变量使用（一切皆对象）\r\n",
    "print(sayHello)\r\n",
    "liumang(\"yueyue\")"
   ],
   "outputs": [
    {
     "output_type": "stream",
     "name": "stdout",
     "text": [
      "月月你好，来一发吗？\n",
      "<function sayHello at 0x00000239501FB5E0>\n",
      "yueyue你好，来一发吗？\n"
     ]
    }
   ],
   "metadata": {}
  },
  {
   "cell_type": "code",
   "execution_count": null,
   "source": [
    "# 自己组装一个类\r\n",
    "\r\n",
    "class A():\r\n",
    "    pass\r\n",
    "\r\n",
    "def say(self):\r\n",
    "    print(\"Saying...   ...\")\r\n",
    "    \r\n",
    "    \r\n",
    "class B():\r\n",
    "    def say(self):\r\n",
    "        print(\"Saying......\")\r\n",
    "        \r\n",
    "say(9)\r\n",
    "A.say = say  # 补充：将say()方法添加到A类 \r\n",
    "\r\n",
    "a = A()\r\n",
    "a.say()\r\n",
    "\r\n",
    "b = B()\r\n",
    "b.say()"
   ],
   "outputs": [],
   "metadata": {}
  },
  {
   "cell_type": "code",
   "execution_count": 21,
   "source": [
    "# 组装类例子 2  借助于MethodType实现类型\r\n",
    "\r\n",
    "#Python中的包和模块有两种导入方式：精确导入和模糊导入：\r\n",
    "\r\n",
    "#精确导入：\r\n",
    "    #from Root.Pack1 import Pack1Class\r\n",
    "    #import Root.Pack1.Pack1Class\r\n",
    "\r\n",
    "#模糊导入：\r\n",
    "    #from Root.Pack1 import *\r\n",
    "\r\n",
    "\r\n",
    "# 自己组装一个类\r\n",
    "from types import MethodType\r\n",
    "\r\n",
    "class A():\r\n",
    "    pass\r\n",
    "\r\n",
    "def say(self):\r\n",
    "    print(\"Saying... ...\")\r\n",
    "    \r\n",
    "a = A()\r\n",
    "a.say = MethodType(say, A)\r\n",
    "a.say()\r\n",
    "print(a.__dict__)"
   ],
   "outputs": [
    {
     "output_type": "stream",
     "name": "stdout",
     "text": [
      "Saying... ...\n",
      "{'say': <bound method say of <class '__main__.A'>>}\n"
     ]
    }
   ],
   "metadata": {}
  },
  {
   "cell_type": "code",
   "execution_count": 22,
   "source": [
    "type(9)"
   ],
   "outputs": [
    {
     "output_type": "execute_result",
     "data": {
      "text/plain": [
       "int"
      ]
     },
     "metadata": {},
     "execution_count": 22
    }
   ],
   "metadata": {}
  },
  {
   "cell_type": "code",
   "execution_count": null,
   "source": [
    "# 组装类例子 3  利用type造一个类\r\n",
    "    #type()函数可以查看一个类型或变量的类型，Hello是一个class，它的类型就是type，而h是一个实例，它的类型就是class Hello。\r\n",
    "    #我们说class的定义是运行时动态创建的，而创建class的方法就是使用type()函数。\r\n",
    "    #！！！ type()函数既可以返回一个对象的类型，又可以创建出新的类型，比如，我们可以通过type()函数创建出Hello类，而无需通过class Hello(object)...的定义\r\n",
    "\r\n",
    "    #要创建一个class对象，type()函数依次传入3个参数：\r\n",
    "    #class的名称；\r\n",
    "    #继承的父类集合，注意Python支持多重继承，如果只有一个父类，别忘了tuple的“单元素写法”；\r\n",
    "    #class的方法名称与函数绑定，这里我们把函数fn绑定到方法名hello上。\r\n",
    "# def fn(self, name='world'): # 先定义函数\r\n",
    "#     print('Hello, %s.' % name)\r\n",
    "# Hello = type('Hello', (object,), dict(hello=fn)) # 创建Hello class\r\n",
    "# h = Hello()\r\n",
    "# h.hello()\r\n",
    "# Hello, world.\r\n",
    "# print(type(Hello))\r\n",
    "# <class 'type'>\r\n",
    "# >>> print(type(h))\r\n",
    "# <class '__main__.Hello'>\r\n",
    "#通过type()函数创建的类和直接写class是完全一样的，因为Python解释器遇到class定义时，仅仅是扫描一下class定义的语法，\r\n",
    "#然后调用type()函数创建出class。\r\n",
    "#正常情况下，我们都用class Xxx...来定义类，但是，type()函数也允许我们动态创建出类来，\r\n",
    "#也就是说，动态语言本身支持运行期动态创建类，这和静态语言有非常大的不同，要在静态语言运行期创建类，\r\n",
    "#必须构造源代码字符串再调用编译器，或者借助一些工具生成字节码实现，本质上都是动态编译，会非常复杂。\r\n",
    "\r\n",
    "# 先定义类应该具有的成员函数\r\n",
    "def say(self):\r\n",
    "    print(\"Saying.....\")\r\n",
    "    \r\n",
    "    \r\n",
    "def talk(self):\r\n",
    "    print(\"Talking .....\")\r\n",
    "\r\n",
    "    \r\n",
    "def rain(self):\r\n",
    "    print(\"下雨\")\r\n",
    "\r\n",
    "\r\n",
    "def sun(self):\r\n",
    "    print(\"太阳\")\r\n",
    "    \r\n",
    "#用type来创建一个类\r\n",
    "A = type(\"Ace\", (object, ), {\"class_say\":say, \"class_chat\":talk}) # 函数talk()绑定到A定义的方法class_chat()上\r\n",
    "B = type(\"Weather\", (object, ), {\"Brain\":rain,\"Bsun\":sun})\r\n",
    "\r\n",
    "# 然后可以像正常访问一样使用类\r\n",
    "a = A()\r\n",
    "# print(a)\r\n",
    "a.class_say()\r\n",
    "a.class_chat()\r\n",
    "         \r\n",
    "b = B()\r\n",
    "b.Brain()\r\n",
    "b.Bsun()"
   ],
   "outputs": [],
   "metadata": {}
  },
  {
   "cell_type": "code",
   "execution_count": 32,
   "source": [
    "# # 组装类例子 4  元类演示\r\n",
    "\r\n",
    "    #除了使用type()动态创建类以外，要控制类的创建行为，还可以使用metaclass。\r\n",
    "\r\n",
    "    #metaclass，直译为元类，简单的解释就是：\r\n",
    "\r\n",
    "    #当我们定义了类以后，就可以根据这个类创建出实例，所以：先定义类，然后创建实例。\r\n",
    "\r\n",
    "    #但是如果我们想创建出类呢？那就必须根据metaclass创建出类，所以：先定义metaclass，然后创建类。\r\n",
    "\r\n",
    "    #连接起来就是：先定义metaclass，就可以创建类，最后创建实例。\r\n",
    "\r\n",
    "    #所以，metaclass允许你创建类或者修改类。换句话说，你可以把类看成是metaclass创建出来的“实例”。\r\n",
    "\r\n",
    "    #metaclass是Python面向对象里最难理解，也是最难使用的魔术代码。正常情况下，你不会碰到需要使用metaclass的情况，所以，以下内容看不懂也没关系，\r\n",
    "    #因为基本上你不会用到。\r\n",
    "\r\n",
    "# 元类写法是固定的，必须继承自type\r\n",
    "# 元类一般命名以MetaClass结尾\r\n",
    "class TulingMetaClass(type):\r\n",
    "    # 注意以下写法\r\n",
    "    def __new__(cls, name, bases, attrs):\r\n",
    "        #自己的业务处理\r\n",
    "        print(\"哈哈，我是元类呀\")\r\n",
    "        attrs['id'] = '000000'\r\n",
    "        attrs['addr'] = \"北京海淀区公主坟西翠路12号\"\r\n",
    "        return type.__new__(cls, name, bases, attrs)\r\n",
    "\r\n",
    "    def encore():  # 只能是绑定类方法\r\n",
    "        print(\"重生\")\r\n",
    "\r\n",
    "# 元类定义完就可以使用，使用注意写法\r\n",
    "class Teacher(object, metaclass=TulingMetaClass):\r\n",
    "    def __init__(self):\r\n",
    "        self.name = \"Teacher\"\r\n",
    "    \r\n",
    "    def getName(self):\r\n",
    "        return self.name\r\n",
    "\r\n",
    "#Teacher类相当于TulingMetaClass元类的实例\r\n",
    "    #t又是Teacher的实例\r\n",
    "t = Teacher()\r\n",
    "\r\n",
    "\r\n",
    "t.id\r\n",
    "t.addr\r\n",
    "t.name\r\n",
    "TulingMetaClass.encore()\r\n",
    "t.getName()"
   ],
   "outputs": [
    {
     "output_type": "stream",
     "name": "stdout",
     "text": [
      "哈哈，我是元类呀\n"
     ]
    },
    {
     "output_type": "error",
     "ename": "TypeError",
     "evalue": "encore() missing 1 required positional argument: 'cls'",
     "traceback": [
      "\u001b[1;31m---------------------------------------------------------------------------\u001b[0m",
      "\u001b[1;31mTypeError\u001b[0m                                 Traceback (most recent call last)",
      "\u001b[1;32m<ipython-input-32-904b397fe0be>\u001b[0m in \u001b[0;36m<module>\u001b[1;34m\u001b[0m\n\u001b[0;32m     46\u001b[0m \u001b[0mt\u001b[0m\u001b[1;33m.\u001b[0m\u001b[0maddr\u001b[0m\u001b[1;33m\u001b[0m\u001b[1;33m\u001b[0m\u001b[0m\n\u001b[0;32m     47\u001b[0m \u001b[0mt\u001b[0m\u001b[1;33m.\u001b[0m\u001b[0mname\u001b[0m\u001b[1;33m\u001b[0m\u001b[1;33m\u001b[0m\u001b[0m\n\u001b[1;32m---> 48\u001b[1;33m \u001b[0mTulingMetaClass\u001b[0m\u001b[1;33m.\u001b[0m\u001b[0mencore\u001b[0m\u001b[1;33m(\u001b[0m\u001b[1;33m)\u001b[0m\u001b[1;33m\u001b[0m\u001b[1;33m\u001b[0m\u001b[0m\n\u001b[0m\u001b[0;32m     49\u001b[0m \u001b[0mt\u001b[0m\u001b[1;33m.\u001b[0m\u001b[0mgetName\u001b[0m\u001b[1;33m(\u001b[0m\u001b[1;33m)\u001b[0m\u001b[1;33m\u001b[0m\u001b[1;33m\u001b[0m\u001b[0m\n",
      "\u001b[1;31mTypeError\u001b[0m: encore() missing 1 required positional argument: 'cls'"
     ]
    }
   ],
   "metadata": {}
  },
  {
   "cell_type": "code",
   "execution_count": null,
   "source": [
    "class MetaClass(type):\r\n",
    "    # 定义A类的时候就会调用\r\n",
    "    def __init__(self, *args, **kwargs):\r\n",
    "        print('MetaClass __init__')\r\n",
    "        super(MetaClass,self).__init__(*args, **kwargs)\r\n",
    "\r\n",
    "    # 定义A类的时候，就会调用\r\n",
    "    # __new__()用于创建实例，所以该方法是在实例创建之前被调用，它是类级别的方法，是个静态方法；\r\n",
    "　　#  __init__() 用于初始化实例，所以该方法是在实例对象创建后被调用，它是实例级别的方法，用于设置对象属性的一些初始值。\r\n",
    "    def __new__(cls, *args, **kwargs):\r\n",
    "        print('MetaClass __new__')\r\n",
    "        # *args 里面包含了创建A类的参数\r\n",
    "        return super(MetaClass,self).__new__(cls, *args, **kwargs)\r\n",
    "\r\n",
    "    # A实例化的时候才会去调用call\r\n",
    "    def __call__(self, *args, **kwargs):\r\n",
    "        print('MetaClass __call__')\r\n",
    "        # 这儿其实是去调用A类需要实例化的所有方法\r\n",
    "        return super(MetaClass,self).__call__(*args, **kwargs)\r\n",
    "\r\n",
    "\r\n",
    "class A(metaclass=MetaClass):\r\n",
    "    def __init__(self):\r\n",
    "        print('A __init__')\r\n",
    "\r\n",
    "    def __new__(cls, *args, **kwargs):\r\n",
    "        print('A __new__')\r\n",
    "        return super(MetaClass,self).__new__(cls, *args, **kwargs)\r\n",
    "\r\n",
    "\r\n",
    "a = A()\r\n",
    "\r\n",
    "\r\n",
    "# 输出\r\n",
    "#     MetaClass __new__\r\n",
    "#     MetaClass __init__\r\n",
    "#     MetaClass __call__\r\n",
    "#     A __new__\r\n",
    "#     A __init__"
   ],
   "outputs": [],
   "metadata": {}
  },
  {
   "cell_type": "code",
   "execution_count": null,
   "source": [],
   "outputs": [],
   "metadata": {}
  },
  {
   "cell_type": "code",
   "execution_count": null,
   "source": [
    "# 经典单例模式\r\n",
    "class Singleton(object):\r\n",
    "    def __new__(cls):\r\n",
    "        # instance属性的作用时检查该类是否已经生成一个对象\r\n",
    "        if not hasattr(Singleton, 'instance'):  # 没有生成对象时，利用__new__实例化对象\r\n",
    "            cls.instance = super(Singleton, cls).__new__(cls)\r\n",
    "        return cls.instance\r\n",
    "s = Singleton()\r\n",
    "print(\"Object created\", s)\r\n",
    "s1 = Singleton()\r\n",
    "print(\"Object created\", s1)"
   ],
   "outputs": [],
   "metadata": {}
  },
  {
   "cell_type": "code",
   "execution_count": null,
   "source": [
    "# 懒汉式实例化\r\n",
    "class Singleton:\r\n",
    "    __instance = None  # 检查该类是否已经生成一个对象\r\n",
    "    def __init__(self):\r\n",
    "        if not Singleton.__instance:\r\n",
    "            print(\"__init__method called....\")\r\n",
    "        else:\r\n",
    "            # print(\"属性：\", Singleton.__instance)\r\n",
    "            print(\"Instance already created:\", self.getInstance())\r\n",
    "\r\n",
    "    @classmethod\r\n",
    "    def getInstance(cls):\r\n",
    "        if not cls.__instance:  # 没有被创建过\r\n",
    "            cls.__instance = Singleton()\r\n",
    "        return cls.__instance\r\n",
    "s = Singleton()  # 之前被临时创建过\r\n",
    "print(\"Object created\", Singleton.getInstance())\r\n",
    "s1 = Singleton()  # 后续需要用到时创建"
   ],
   "outputs": [],
   "metadata": {}
  },
  {
   "cell_type": "code",
   "execution_count": null,
   "source": [
    "# 模块级别的单例模式\r\n"
   ],
   "outputs": [],
   "metadata": {}
  }
 ],
 "metadata": {
  "kernelspec": {
   "name": "python3",
   "display_name": "Python 3.8.3 64-bit"
  },
  "language_info": {
   "codemirror_mode": {
    "name": "ipython",
    "version": 3
   },
   "file_extension": ".py",
   "mimetype": "text/x-python",
   "name": "python",
   "nbconvert_exporter": "python",
   "pygments_lexer": "ipython3",
   "version": "3.8.3"
  },
  "pycharm": {
   "stem_cell": {
    "cell_type": "raw",
    "source": [],
    "metadata": {
     "collapsed": false
    }
   }
  },
  "interpreter": {
   "hash": "0683780d03ee1195a9e1ac19e401b8f6c3447ee82d0b15d335dacfb764b91f68"
  }
 },
 "nbformat": 4,
 "nbformat_minor": 2
}