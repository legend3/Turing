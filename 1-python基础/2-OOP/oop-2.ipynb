{
 "cells": [
  {
   "cell_type": "code",
   "execution_count": 8,
   "source": [
    "# 继承的语法\r\n",
    "# 在python中，任何类都有一个共同的父类叫object\r\n",
    "\r\n",
    "class Person():\r\n",
    "    name = \"NoName\"  # 公有的类属性(或静态属性，其实类属性就差不多相当于静态属性)\r\n",
    "    age = 18\r\n",
    "    __score = 0 # 私有的类属性,考试成绩是秘密，只要自己知道(只能在类中用)\r\n",
    "    _petname = \"sec\" #小名，是保护的，子类可以用，但不能公用\r\n",
    "\r\n",
    "    def __init__(self):\r\n",
    "        self.addr = \"杭州\"  # 实例属性(类无法调用)\r\n",
    "\r\n",
    "    def getScore(self):\r\n",
    "        return self.__score\r\n",
    "\r\n",
    "    def sleep(self):\r\n",
    "        print(\"Sleeping ... ...\")\r\n",
    "        \r\n",
    "# 父类写在括号内\r\n",
    "class Teacher(Person):\r\n",
    "    teacher_id = \"9527\"\r\n",
    "\r\n",
    "    def make_test(self):\r\n",
    "        print(\"attention\")\r\n",
    "    \r\n",
    "t = Teacher()\r\n",
    "print(t.name)   # 实例属性(实例可以调类属性)\r\n",
    "# 受保护不能外部访问，为啥这里可以？？？\r\n",
    "print(t._petname) # 因为子类可以用\r\n",
    "\r\n",
    "# 私有访问问题\r\n",
    "# 公开访问私有变量，报错\r\n",
    "# print(t.__score)\r\n",
    "print(\"__score: \", t.getScore())\r\n",
    "\r\n",
    "t.sleep()\r\n",
    "print(t.teacher_id)\r\n",
    "t.make_test()\r\n",
    "\r\n",
    "print(Teacher.name)\r\n",
    "# print(Teacher.addr)\r\n",
    "print(t.name)"
   ],
   "outputs": [
    {
     "output_type": "stream",
     "name": "stdout",
     "text": [
      "NoName\n",
      "sec\n",
      "__score:  0\n",
      "Sleeping ... ...\n",
      "9527\n",
      "attention\n",
      "NoName\n",
      "NoName\n"
     ]
    }
   ],
   "metadata": {
    "tags": []
   }
  },
  {
   "cell_type": "code",
   "execution_count": null,
   "source": [
    "# 子类和父类定义同一个名称变量，则优先使用子类本身\r\n",
    "class Person():\r\n",
    "    name = \"NoName\"\r\n",
    "    age = 18\r\n",
    "    __score = 0 # 考试成绩是秘密，只要自己知道\r\n",
    "    _petname = \"sec\" #小名，是保护的，子类可以用，但不能公用\r\n",
    "    def sleep(self):\r\n",
    "        print(\"Sleeping ... ...\")\r\n",
    " \r\n",
    "#父类写在括号内\r\n",
    "class Teacher(Person):\r\n",
    "    teacher_id = \"9527\"\r\n",
    "    name = \"DaNa\"\r\n",
    "    def make_test(self):\r\n",
    "        print(\"attention\")\r\n",
    "        \r\n",
    "t = Teacher()\r\n",
    "print(t.name)"
   ],
   "outputs": [],
   "metadata": {
    "tags": []
   }
  },
  {
   "cell_type": "code",
   "execution_count": 9,
   "source": [
    "# 子类扩充父类功能的案例\r\n",
    "# 人由工作的函数， 老师也由工作的函数，但老师的工作需要讲课\r\n",
    "class Person():\r\n",
    "    name = \"NoName\"\r\n",
    "    age = 18\r\n",
    "    __score = 0 # 考试成绩是秘密，只要自己知道\r\n",
    "    _petname = \"sec\" # 小名，是保护的，子类可以用，但不能公用\r\n",
    "\r\n",
    "    def sleep(self):\r\n",
    "        print(\"Sleeping ... ...\")\r\n",
    "    \r\n",
    "    def work(self):\r\n",
    "        print(\"make some money\")\r\n",
    "        \r\n",
    "\r\n",
    "#父类写在括号内\r\n",
    "class Teacher(Person):\r\n",
    "    teacher_id = \"9527\"\r\n",
    "    name = \"DaNa\"\r\n",
    "    \r\n",
    "    def __init__(self):\r\n",
    "        self.address = \"杭州\"\r\n",
    "\r\n",
    "    def make_test(self):\r\n",
    "        print(\"attention\")\r\n",
    "        \r\n",
    "    def work(self):\r\n",
    "        # 1.扩充父类的功能只需要调用父类相应的函数\r\n",
    "        # Person.work(self)\r\n",
    "        \r\n",
    "        # 2.扩充父类的另一种方法\r\n",
    "        # super代表得到父类\r\n",
    "        super().work()\r\n",
    "        print(super())\r\n",
    "\r\n",
    "\r\n",
    "        self.make_test()  # 扩展\r\n",
    "        \r\n",
    "t = Teacher()\r\n",
    "t.work()\r\n",
    "print(t)\r\n",
    "print(Teacher)"
   ],
   "outputs": [
    {
     "output_type": "stream",
     "name": "stdout",
     "text": [
      "make some money\n"
     ]
    },
    {
     "output_type": "error",
     "ename": "AttributeError",
     "evalue": "'super' object has no attribute 'addr'",
     "traceback": [
      "\u001b[1;31m---------------------------------------------------------------------------\u001b[0m",
      "\u001b[1;31mAttributeError\u001b[0m                            Traceback (most recent call last)",
      "\u001b[1;32m<ipython-input-9-b4c3eeaa5393>\u001b[0m in \u001b[0;36m<module>\u001b[1;34m\u001b[0m\n\u001b[0;32m     38\u001b[0m \u001b[1;33m\u001b[0m\u001b[0m\n\u001b[0;32m     39\u001b[0m \u001b[0mt\u001b[0m \u001b[1;33m=\u001b[0m \u001b[0mTeacher\u001b[0m\u001b[1;33m(\u001b[0m\u001b[1;33m)\u001b[0m\u001b[1;33m\u001b[0m\u001b[1;33m\u001b[0m\u001b[0m\n\u001b[1;32m---> 40\u001b[1;33m \u001b[0mt\u001b[0m\u001b[1;33m.\u001b[0m\u001b[0mwork\u001b[0m\u001b[1;33m(\u001b[0m\u001b[1;33m)\u001b[0m\u001b[1;33m\u001b[0m\u001b[1;33m\u001b[0m\u001b[0m\n\u001b[0m\u001b[0;32m     41\u001b[0m \u001b[0mprint\u001b[0m\u001b[1;33m(\u001b[0m\u001b[0mt\u001b[0m\u001b[1;33m)\u001b[0m\u001b[1;33m\u001b[0m\u001b[1;33m\u001b[0m\u001b[0m\n\u001b[0;32m     42\u001b[0m \u001b[0mprint\u001b[0m\u001b[1;33m(\u001b[0m\u001b[0mTeacher\u001b[0m\u001b[1;33m)\u001b[0m\u001b[1;33m\u001b[0m\u001b[1;33m\u001b[0m\u001b[0m\n",
      "\u001b[1;32m<ipython-input-9-b4c3eeaa5393>\u001b[0m in \u001b[0;36mwork\u001b[1;34m(self)\u001b[0m\n\u001b[0;32m     32\u001b[0m         \u001b[1;31m# super代表得到父类\u001b[0m\u001b[1;33m\u001b[0m\u001b[1;33m\u001b[0m\u001b[1;33m\u001b[0m\u001b[0m\n\u001b[0;32m     33\u001b[0m         \u001b[0msuper\u001b[0m\u001b[1;33m(\u001b[0m\u001b[1;33m)\u001b[0m\u001b[1;33m.\u001b[0m\u001b[0mwork\u001b[0m\u001b[1;33m(\u001b[0m\u001b[1;33m)\u001b[0m\u001b[1;33m\u001b[0m\u001b[1;33m\u001b[0m\u001b[0m\n\u001b[1;32m---> 34\u001b[1;33m         \u001b[0mprint\u001b[0m\u001b[1;33m(\u001b[0m\u001b[0msuper\u001b[0m\u001b[1;33m(\u001b[0m\u001b[1;33m)\u001b[0m\u001b[1;33m.\u001b[0m\u001b[0maddr\u001b[0m\u001b[1;33m)\u001b[0m\u001b[1;33m\u001b[0m\u001b[1;33m\u001b[0m\u001b[0m\n\u001b[0m\u001b[0;32m     35\u001b[0m \u001b[1;33m\u001b[0m\u001b[0m\n\u001b[0;32m     36\u001b[0m \u001b[1;33m\u001b[0m\u001b[0m\n",
      "\u001b[1;31mAttributeError\u001b[0m: 'super' object has no attribute 'addr'"
     ]
    }
   ],
   "metadata": {
    "tags": []
   }
  },
  {
   "cell_type": "code",
   "execution_count": null,
   "source": [
    "# 构造函数的概念\r\n",
    "\r\n",
    "class Dog():\r\n",
    "    # __init__就是构造函数\r\n",
    "    # 每次实例化的时候，第一个被自动的调用\r\n",
    "    # 因为主要工作是进行初始化，所以得名\r\n",
    "    def __init__(self):\r\n",
    "        print(\"I am init in dog\")\r\n",
    "\r\n",
    "# 实例化的时候，括号内的参数需要跟构造函数参数匹配\r\n",
    "kaka = Dog()"
   ],
   "outputs": [],
   "metadata": {
    "tags": []
   }
  },
  {
   "cell_type": "code",
   "execution_count": null,
   "source": [
    "# 继承中的构造函数 - 1\r\n",
    "\r\n",
    "class Animel():\r\n",
    "    pass\r\n",
    "\r\n",
    "class PaxingAni(Animel):\r\n",
    "    pass\r\n",
    "\r\n",
    "class Dog(PaxingAni):\r\n",
    "    # __init__就是构造函数\r\n",
    "    # 每次实例化的时候，第一个被自动的调用\r\n",
    "    # 因为主要工作是进行初始化，所以得名\r\n",
    "    def __init__(self):\r\n",
    "        print(\"I am init in dog\")\r\n",
    "# 实例话的时候，自动调用了Dog的构造函数\r\n",
    "kaka = Dog()"
   ],
   "outputs": [],
   "metadata": {
    "tags": []
   }
  },
  {
   "cell_type": "code",
   "execution_count": null,
   "source": [
    "# 继承中的构造函数 - 2\r\n",
    "\r\n",
    "class Animel():\r\n",
    "    def __init__(self):\r\n",
    "        print(\"Animel\")\r\n",
    "\r\n",
    "class PaxingAni(Animel):\r\n",
    "    def __init__(self):\r\n",
    "        print(\" Paxing Dongwu\")\r\n",
    "\r\n",
    "class Dog(PaxingAni):\r\n",
    "    # __init__就是构造函数\r\n",
    "    # 每次实例化的时候，第一个被自动的调用\r\n",
    "    # 因为主要工作是进行初始化，所以得名\r\n",
    "    def __init__(self):\r\n",
    "        print(\"I am init in dog\")\r\n",
    "        \r\n",
    "# 实例话的时候，自动调用了Dog的构造函数\r\n",
    "# 因为找到了构造函数，则不在查找父类的构造函数！\r\n",
    "kaka = Dog()\r\n",
    "\r\n",
    "# 猫没有写构造函数\r\n",
    "class Cat(PaxingAni):\r\n",
    "    pass\r\n",
    "\r\n",
    "# 此时应该自动调用构造函数，因为Cat没有构造函数，所以查找父类构造函数！\r\n",
    "# 在PaxingAni中查找到了构造函数，则停止向上查找！\r\n",
    "c = Cat()"
   ],
   "outputs": [],
   "metadata": {
    "tags": []
   }
  },
  {
   "cell_type": "code",
   "execution_count": null,
   "source": [
    "# 继承中的构造函数 - 3\r\n",
    "\r\n",
    "class Animel():\r\n",
    "    name = '动物'\r\n",
    "    _age = 18\r\n",
    "    def __init__(self):\r\n",
    "        print(\"Animel\")\r\n",
    "\r\n",
    "class PaxingAni(Animel):\r\n",
    "    def __init__(self, name):\r\n",
    "        print(\" Paxing Dongwu: {0}\".format(name))\r\n",
    "\r\n",
    "class Dog(PaxingAni):\r\n",
    "    # __init__就是构造函数\r\n",
    "    # 每次实例化的时候，第一个被自动的调用\r\n",
    "    # 因为主要工作是进行初始化，所以得名\r\n",
    "    def __init__(self):\r\n",
    "        print(\"I am init in dog\")\r\n",
    "        \r\n",
    "# 实例化Dog时，查找到Dog的构造函数，参数匹配，不报错\r\n",
    "d = Dog()\r\n",
    "\r\n",
    "class Cat(PaxingAni):\r\n",
    "    pass\r\n",
    "\r\n",
    "# 此时，由于Cat没有构造函数，则向上查找\r\n",
    "#  因为PaxingAni的构造函数需要两个参数，实例化的时候给了一个，报错\r\n",
    "# c = Cat()\r\n",
    "c = Cat('猫')\r\n",
    "print(c.name)\r\n",
    "print(c._age)"
   ],
   "outputs": [],
   "metadata": {
    "tags": []
   }
  },
  {
   "cell_type": "code",
   "execution_count": 14,
   "source": [
    "# 继承中的构造函数 - 4\r\n",
    "\r\n",
    "class Animel():\r\n",
    "    def __init__(self):\r\n",
    "        print(\"Animel\")\r\n",
    "\r\n",
    "class PaxingAni(Animel):\r\n",
    "    pass\r\n",
    "\r\n",
    "class Dog(PaxingAni):\r\n",
    "    pass\r\n",
    "        \r\n",
    "# 实例化Dog时，查找到Dog的构造函数，参数匹配，不报错      \r\n",
    "d = Dog()\r\n",
    "\r\n",
    "class Cat(PaxingAni):\r\n",
    "    pass\r\n",
    "\r\n",
    "# 此时，由于Cat没有构造函数，则向上查找\r\n",
    "#  因为PaxingAni的构造函数需要两个参数，实例化的时候只给了一个(self)，报错\r\n",
    "c = Cat()"
   ],
   "outputs": [
    {
     "output_type": "stream",
     "name": "stdout",
     "text": [
      "Animel\n",
      "Animel\n"
     ]
    }
   ],
   "metadata": {
    "tags": []
   }
  },
  {
   "cell_type": "code",
   "execution_count": 15,
   "source": [
    "print(type(super))\r\n",
    "help(super)"
   ],
   "outputs": [
    {
     "output_type": "stream",
     "name": "stdout",
     "text": [
      "<class 'type'>\n",
      "Help on class super in module builtins:\n",
      "\n",
      "class super(object)\n",
      " |  super() -> same as super(__class__, <first argument>)\n",
      " |  super(type) -> unbound super object\n",
      " |  super(type, obj) -> bound super object; requires isinstance(obj, type)\n",
      " |  super(type, type2) -> bound super object; requires issubclass(type2, type)\n",
      " |  Typical use to call a cooperative superclass method:\n",
      " |  class C(B):\n",
      " |      def meth(self, arg):\n",
      " |          super().meth(arg)\n",
      " |  This works for class methods too:\n",
      " |  class C(B):\n",
      " |      @classmethod\n",
      " |      def cmeth(cls, arg):\n",
      " |          super().cmeth(arg)\n",
      " |  \n",
      " |  Methods defined here:\n",
      " |  \n",
      " |  __get__(self, instance, owner, /)\n",
      " |      Return an attribute of instance, which is of type owner.\n",
      " |  \n",
      " |  __getattribute__(self, name, /)\n",
      " |      Return getattr(self, name).\n",
      " |  \n",
      " |  __init__(self, /, *args, **kwargs)\n",
      " |      Initialize self.  See help(type(self)) for accurate signature.\n",
      " |  \n",
      " |  __repr__(self, /)\n",
      " |      Return repr(self).\n",
      " |  \n",
      " |  ----------------------------------------------------------------------\n",
      " |  Static methods defined here:\n",
      " |  \n",
      " |  __new__(*args, **kwargs) from builtins.type\n",
      " |      Create and return a new object.  See help(type) for accurate signature.\n",
      " |  \n",
      " |  ----------------------------------------------------------------------\n",
      " |  Data descriptors defined here:\n",
      " |  \n",
      " |  __self__\n",
      " |      the instance invoking super(); may be None\n",
      " |  \n",
      " |  __self_class__\n",
      " |      the type of the instance invoking super(); may be None\n",
      " |  \n",
      " |  __thisclass__\n",
      " |      the class invoking super()\n",
      "\n"
     ]
    }
   ],
   "metadata": {
    "tags": []
   }
  },
  {
   "cell_type": "code",
   "execution_count": null,
   "source": [],
   "outputs": [],
   "metadata": {}
  }
 ],
 "metadata": {
  "kernelspec": {
   "name": "python3",
   "display_name": "Python 3.8.3 64-bit"
  },
  "language_info": {
   "codemirror_mode": {
    "name": "ipython",
    "version": 3
   },
   "file_extension": ".py",
   "mimetype": "text/x-python",
   "name": "python",
   "nbconvert_exporter": "python",
   "pygments_lexer": "ipython3",
   "version": "3.8.3"
  },
  "interpreter": {
   "hash": "0683780d03ee1195a9e1ac19e401b8f6c3447ee82d0b15d335dacfb764b91f68"
  }
 },
 "nbformat": 4,
 "nbformat_minor": 2
}