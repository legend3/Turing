{
 "cells": [
  {
   "cell_type": "code",
   "execution_count": 1,
   "metadata": {
    "tags": []
   },
   "outputs": [
    {
     "name": "stdout",
     "output_type": "stream",
     "text": [
      "Working........\n",
      "I am flying.....\n",
      "i am swimming......\n",
      "i am swimming......\n"
     ]
    }
   ],
   "source": [
    "# 多继承的例子\n",
    "# 子类可以直接拥有父类的属性和方法，私有属性和方法除外\n",
    "class Fish():\n",
    "    def __init__(self,name):\n",
    "        self.name = name\n",
    "    def swim(self):\n",
    "        print(\"i am swimming......\")\n",
    "        \n",
    "class Bird():\n",
    "    def __init__(self, name):\n",
    "        self.name = name\n",
    "        \n",
    "    def fly(self):\n",
    "        print(\"I am flying.....\")\n",
    "\n",
    "class Person():\n",
    "    def __init__(self, name):\n",
    "        self.name = name\n",
    "        \n",
    "    def work(self):\n",
    "        print(\"Working........\")\n",
    "\n",
    "# 单继承的例子      \n",
    "class Student(Person):\n",
    "    def __init__(self, name):\n",
    "        self.name = name\n",
    "stu = Student(\"yueyue\")\n",
    "stu.work()\n",
    "\n",
    "\n",
    "# 多继承的例子  \n",
    "class SuperMan(Person, Bird, Fish):\n",
    "    def __init__(self, name):\n",
    "        self.name = name\n",
    "s = SuperMan(\"yueyue\")\n",
    "s.fly()\n",
    "s.swim()\n",
    "\n",
    "class SwimMan(Person, Fish):\n",
    "    def __init__(self, name):\n",
    "        self.name = name\n",
    "\n",
    "sw = SwimMan('鱼人')  \n",
    "sw.swim() \n",
    "\n",
    "\n",
    "\n"
   ]
  },
  {
   "cell_type": "code",
   "execution_count": null,
   "metadata": {
    "collapsed": true
   },
   "outputs": [],
   "source": [
    "# 菱形继承问题\n",
    "class A():\n",
    "    pass\n",
    "class B(A):\n",
    "    pass\n",
    "class C(A):\n",
    "    pass\n",
    "\n",
    "class D(B,C):\n",
    "    pass"
   ]
  },
  {
   "cell_type": "code",
   "execution_count": 2,
   "metadata": {
    "tags": []
   },
   "outputs": [
    {
     "name": "stdout",
     "output_type": "stream",
     "text": [
      "In init func\n",
      "True\n",
      "True\n"
     ]
    }
   ],
   "source": [
    "# 构造函数例子\n",
    "\n",
    "class Person():\n",
    "    sex = '男'\n",
    "    # 对Person类进行实例化的时候\n",
    "    # 姓名要确定\n",
    "    # 年龄得确定\n",
    "    # 地址肯定有\n",
    "    def __init__(self):\n",
    "        self.name = \"NoNmae\"\n",
    "        self.age = 18\n",
    "        self.address = \"Studentwhonheim\"\n",
    "        print(\"In init func\")\n",
    "\n",
    "# 实例化一个人\n",
    "p = Person()\n",
    "print(hasattr(p, 'name')) # 判断是否为类/实例的成员属性\n",
    "print(hasattr(Person, 'sex')) # 判断是否为类/实例的成员属性"
   ]
  },
  {
   "cell_type": "code",
   "execution_count": 3,
   "metadata": {
    "tags": []
   },
   "outputs": [
    {
     "name": "stdout",
     "output_type": "stream",
     "text": [
      "B\n"
     ]
    }
   ],
   "source": [
    "# 构造函数的调用顺序 - 1\n",
    "# 如果子类没有写构造函数，则自动向上查找，直到找到位置\n",
    "class A():\n",
    "    def __init__(self):\n",
    "        print(\"A\")\n",
    "\n",
    "class B(A):\n",
    "    def __init__(self):\n",
    "        print(\"B\")\n",
    "        \n",
    "class C(B):\n",
    "    pass\n",
    "\n",
    "# 此时，首先查找C的构造函数\n",
    "# 如果没有，则向上按照MRO顺序查找父类的构造函数，直到找到为止\n",
    "c = C()\n",
    "\n"
   ]
  },
  {
   "cell_type": "code",
   "execution_count": 4,
   "metadata": {},
   "outputs": [
    {
     "name": "stdout",
     "output_type": "stream",
     "text": [
      "B\n",
      "我是C呀！\n"
     ]
    }
   ],
   "source": [
    "# # 构造函数的调用顺序 - 2\n",
    "class A():\n",
    "    def __init__(self):\n",
    "        print(\"A\")\n",
    "\n",
    "class B(A):\n",
    "    def __init__(self, name):\n",
    "        print(\"B\")\n",
    "        print(name)\n",
    "        \n",
    "class C(B):\n",
    "    pass\n",
    "\n",
    "# 此时，首先查找C的构造函数\n",
    "# 如果没有，则向上按照MRO顺序查找父类的构造函数，直到找到为止\n",
    "# *此时，会出现参数结构不对应错误！！！\n",
    "#c = C()\n",
    "c = C(\"我是C呀！\")"
   ]
  },
  {
   "cell_type": "code",
   "execution_count": 21,
   "metadata": {
    "tags": []
   },
   "outputs": [
    {
     "name": "stdout",
     "output_type": "stream",
     "text": [
      "父类B构造方法被调用了: 我是C\n",
      "这是C中附加的功能\n"
     ]
    }
   ],
   "source": [
    "# # 构造函数的调用顺序 - 3  ——子类与父类构造函数参数结构不对应情况，子类选择性的指定继承\n",
    "class A():\n",
    "    def __init__(self):\n",
    "        print(\"A\")\n",
    "\n",
    "class B(A):\n",
    "    def __init__(self, name):\n",
    "        self.name = name\n",
    "        print(\"父类B构造方法被调用了:\", name)\n",
    "        \n",
    "class C(B):\n",
    "    # c中想扩展B的构造函数，\n",
    "    # 即调用B的构造函数后在添加一些功能\n",
    "    # 由两种方法实现\n",
    "    \n",
    "    '''\n",
    "    # 第一种是通过父类名调用\n",
    "    def __init__(self, name):\n",
    "        # 首先调用父类构造函数\n",
    "        B.__init__(self, name)\n",
    "        # 其次，再增加自己的功能\n",
    "        print(\"这是C中附加的功能\")\n",
    "    '''  \n",
    "    \n",
    "    '''\n",
    "    第二种，使用super调用（补充：super必须所有类为“新类”）\n",
    "    def __init__(self):  # 多继承时指定重写A的构造函数\n",
    "        # 首先调用C的父类(B)的构造函数\n",
    "        super(C, self).__init__()\n",
    "        # 其次，再增加自己的功能\n",
    "        print(\"这是C中附加的功能\")  # 重写的\n",
    "    '''\n",
    "    \n",
    "    def __init__(self, name):  # 多继承时指定继承B的构造函数\n",
    "        # 选择首先指定调用B的父类的构造方法\n",
    "        # super(B, self).__init__()\n",
    "        \n",
    "         # 选择首先调用父类(B)的构造函数\n",
    "        super(C, self).__init__(name) # super指定谁(C)的父类的\n",
    "        \n",
    "        # 其次，再增加自己的功能\n",
    "        print(\"这是C构造方法中附加的功能\")  # 重写的\n",
    "        \n",
    "\n",
    "# 此时，首先查找C的构造函数\n",
    "# 如果没有，则向上按照MRO顺序查找父类的构造函数，知道找到为止\n",
    "# 此时，会出现参数结构不对应错误\n",
    "c = C('我是C')"
   ]
  },
  {
   "cell_type": "code",
   "execution_count": 5,
   "metadata": {
    "tags": []
   },
   "outputs": [
    {
     "name": "stdout",
     "output_type": "stream",
     "text": [
      "********************\n",
      "好酷！ 老师助理\n",
      "Work\n",
      "(<class '__main__.TutorM'>, <class '__main__.Person'>, <class '__main__.TeacherMixin'>, <class '__main__.StudentMixin'>, <class 'object'>)\n",
      "{'name': '老师助理'}\n",
      "{'__module__': '__main__', '__init__': <function TutorM.__init__ at 0x00000278FBE2BD30>, 'a': <function TutorM.a at 0x00000278FBE2BDC0>, '__doc__': None}\n"
     ]
    }
   ],
   "source": [
    "# Mixin案例（单一物种的功能的增加！）             —————继承顺序,__mro__\n",
    "class Person():\n",
    "    name = \"liuying\"\n",
    "    age = 18\n",
    "\n",
    "    def eat(self):\n",
    "        print(\"EAT.......\")\n",
    "        \n",
    "    def drink(self):\n",
    "        print(\"DRINK......\")\n",
    "        \n",
    "    def sleep(self):\n",
    "        print(\"SLEEP.....\")\n",
    "                \n",
    "# class Teacher(Person):\n",
    "#     def __init__(self):\n",
    "#         print(\"老师\")\n",
    "#     def work(self):\n",
    "#         print(\"Work\")\n",
    "\n",
    "# class Student(Person):\n",
    "#     def __init__(self):\n",
    "#         print(\"学生\")\n",
    "#     def study(self):\n",
    "#         print(\"Study\")\n",
    "\n",
    "\n",
    "# class Tutor(Student, Teacher):  # 列表中依次继承\n",
    "#     pass\n",
    "\n",
    "# t = Tutor()\n",
    "\n",
    "# print(Tutor.__mro__)\n",
    "# print(t.__dict__)\n",
    "# print(Tutor.__dict__)\n",
    "\n",
    "\n",
    "# 用Mixin设计模式实现\n",
    "print(\"*\"*20)\n",
    "class TeacherMixin():\n",
    "    def __init__(self, name):\n",
    "        self.work()\n",
    "    def work(self):\n",
    "        print(\"Work\")\n",
    "\n",
    "class StudentMixin():\n",
    "    def __init__(self):\n",
    "        self.study()\n",
    "    def study(self):\n",
    "        print(\"Study\")\n",
    "                    \n",
    "class TutorM(Person,TeacherMixin, StudentMixin):\n",
    "    def __init__(self, name):\n",
    "        self.name = name\n",
    "    def a(self):\n",
    "        print(\"好酷！\" , self.name)\n",
    "\n",
    "tt = TutorM(\"老师助理\")\n",
    "tt.a()\n",
    "tt.work()\n",
    "\n",
    "print(TutorM.__mro__) # 在解析父类的__init__时，定义解析顺序的是子类的__mro__属性\n",
    "print(tt.__dict__) # 以字典的方式显示实例的成员组成\n",
    "print(TutorM.__dict__) # 以字典的方式显示类的成员组成\n"
   ]
  },
  {
   "cell_type": "code",
   "execution_count": null,
   "metadata": {},
   "outputs": [],
   "source": [
    "# issubclass  ————判断是否为子父类\n",
    "class A():\n",
    "    pass\n",
    "\n",
    "class B(A):\n",
    "    pass\n",
    "\n",
    "class C():\n",
    "    pass\n",
    "\n",
    "print(issubclass(B, A))\n",
    "print(issubclass(C, A))\n",
    "print(issubclass(B, object))"
   ]
  },
  {
   "cell_type": "code",
   "execution_count": null,
   "metadata": {},
   "outputs": [],
   "source": [
    "# isinstance  --判断是否为类的实例\n",
    "class A():\n",
    "    pass\n",
    "\n",
    "a = A()\n",
    "\n",
    "print(isinstance(a, A))\n",
    "print(isinstance(A, A))"
   ]
  },
  {
   "cell_type": "code",
   "execution_count": null,
   "metadata": {},
   "outputs": [],
   "source": [
    "# hasattr       ——判断是否为类的成员变量\n",
    "class A():\n",
    "    name = \"NoName\"\n",
    "    \n",
    "a = A()\n",
    "print(hasattr(a, \"name\" ))\n",
    "print(hasattr(a, \"age\" ))"
   ]
  },
  {
   "cell_type": "code",
   "execution_count": null,
   "metadata": {},
   "outputs": [],
   "source": [
    "# help案例\n",
    "# 我想知道setattr的具体用法\n",
    "help(setattr)"
   ]
  },
  {
   "cell_type": "code",
   "execution_count": null,
   "metadata": {},
   "outputs": [],
   "source": [
    "# dir 案例\n",
    "class A():\n",
    "    pass\n",
    "\n",
    "#dir(A)\n",
    "a = A()\n",
    "dir(a)"
   ]
  }
 ],
 "metadata": {
  "kernelspec": {
   "display_name": "Python 3.8.3 64-bit (system)",
   "language": "python",
   "name": "python3"
  },
  "language_info": {
   "codemirror_mode": {
    "name": "ipython",
    "version": 3
   },
   "file_extension": ".py",
   "mimetype": "text/x-python",
   "name": "python",
   "nbconvert_exporter": "python",
   "pygments_lexer": "ipython3",
   "version": "3.8.3"
  },
  "vscode": {
   "interpreter": {
    "hash": "a95e8ce2b8a84d181eb90432015da9fba0dec413140f0b3722d1a046efb12f4b"
   }
  }
 },
 "nbformat": 4,
 "nbformat_minor": 2
}
