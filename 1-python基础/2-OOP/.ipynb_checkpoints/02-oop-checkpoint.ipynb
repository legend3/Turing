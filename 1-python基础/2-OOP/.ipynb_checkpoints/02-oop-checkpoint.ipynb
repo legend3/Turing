{
 "cells": [
  {
   "cell_type": "code",
   "execution_count": 1,
   "metadata": {
    "pycharm": {
     "is_executing": false
    }
   },
   "outputs": [
    {
     "name": "stdout",
     "output_type": "stream",
     "text": [
      "{'__module__': '__main__', 'name': 'dana', 'age': 18, '__dict__': <attribute '__dict__' of 'Student' objects>, '__weakref__': <attribute '__weakref__' of 'Student' objects>, '__doc__': None}\n",
      "{}\n",
      "dana\n"
     ]
    }
   ],
   "source": [
    "class Student():\n",
    "    name = \"dana\"\n",
    "    age = 18\n",
    "    \n",
    "print(Student.__dict__)\n",
    "\n",
    "# 实例化\n",
    "yueyue = Student()\n",
    "print(yueyue.__dict__)\n",
    "print(yueyue.name)\n",
    "\n",
    "\n"
   ]
  },
  {
   "cell_type": "code",
   "execution_count": 36,
   "metadata": {
    "pycharm": {
     "is_executing": false
    }
   },
   "outputs": [
    {
     "name": "stdout",
     "output_type": "stream",
     "text": [
      "dana\n",
      "18\n",
      "********************\n",
      "2786274734632\n",
      "1949134432\n",
      "********************\n",
      "dana\n",
      "18\n",
      "2786274734632\n",
      "1949134432\n",
      "男\n"
     ]
    }
   ],
   "source": [
    "class A():\n",
    "    name = \"dana\"\n",
    "    age = 18\n",
    "    sex = '男'\n",
    "    \n",
    "    # 注意say的写法，参数由一个self\n",
    "    def say(self):\n",
    "        self.name = \"aaaa\"\n",
    "        self.age = 200\n",
    "\n",
    "# 此案例说明\n",
    "# 类实例的属性和其对象的实例的属性在不对对象的实例属性进行赋值的前提下，\n",
    "# 指向同一个变量\n",
    "        \n",
    "# 此时，A称为类实例\n",
    "print(A.name)\n",
    "print(A.age)\n",
    "\n",
    "print(\"*\" * 20)\n",
    "\n",
    "# id可以鉴别一个变量是否和另一个变量是同一变量\n",
    "print(id(A.name))\n",
    "print(id(A.age))\n",
    "\n",
    "print(\"*\" * 20)\n",
    "#(补充)对象的实例\n",
    "a = A()#对象实例化时是个空对象{}，因此成员与类实例是同一份\n",
    "\n",
    "print(a.name)\n",
    "print(a.age)\n",
    "print(id(a.name))\n",
    "print(id(a.age))\n",
    "print(a.sex)"
   ]
  },
  {
   "cell_type": "code",
   "execution_count": 44,
   "metadata": {
    "pycharm": {
     "is_executing": false
    }
   },
   "outputs": [
    {
     "name": "stdout",
     "output_type": "stream",
     "text": [
      "dana\n",
      "18\n",
      "********************\n",
      "2786274734632\n",
      "1949134432\n",
      "********************\n",
      "{'__module__': '__main__', 'name': 'dana', 'age': 18, 'sex': '男', 'say': <function A.say at 0x00000288BAF3D840>, '__dict__': <attribute '__dict__' of 'A' objects>, '__weakref__': <attribute '__weakref__' of 'A' objects>, '__doc__': None}\n",
      "dana\n",
      "{}\n",
      "{'name': 'yaona', 'age': 16}\n",
      "yaona\n",
      "16\n",
      "2786275308800\n",
      "1949134368\n",
      "aaaa\n",
      "None\n"
     ]
    }
   ],
   "source": [
    "# 此时，A称为类实例\n",
    "print(A.name)\n",
    "print(A.age)\n",
    "\n",
    "print(\"*\" * 20)\n",
    "\n",
    "# id可以鉴别一个变量是否和另一个变量是同一变量\n",
    "print(id(A.name))\n",
    "print(id(A.age))\n",
    "\n",
    "print(\"*\" * 20)\n",
    "a = A()\n",
    "# 查看A内所有的属性\n",
    "print(A.__dict__)\n",
    "print(a.name)#此时a对象还是一个空对象，所以name还是指向类成员name\n",
    "print(a.__dict__)#创建对象的时候，类中的成员不会放入对象当中，而是得到一个空对象，没有成员    \n",
    "\n",
    "a.name = \"yaona\"#仅会修改对象实例成员\n",
    "a.age = 16\n",
    "print(a.__dict__)\n",
    "\n",
    "print(a.name)\n",
    "print(a.age)\n",
    "print(id(a.name))\n",
    "print(id(a.age))\n",
    "print(a.say())"
   ]
  },
  {
   "cell_type": "code",
   "execution_count": 58,
   "metadata": {
    "pycharm": {
     "is_executing": false
    }
   },
   "outputs": [
    {
     "name": "stdout",
     "output_type": "stream",
     "text": [
      "bbbb\n",
      "400\n",
      "********************\n",
      "dana\n",
      "18\n",
      "********************\n",
      "My name is bbbb\n",
      "My age is 400\n",
      "My name is bbbb\n",
      "My age is 400\n",
      "********************\n",
      "My name is bbbb\n",
      "My age is 400\n",
      "My name is dana\n",
      "My age is 18\n"
     ]
    }
   ],
   "source": [
    "'''\n",
    "1.定义一个类\n",
    "2.创建一个类实力Student(),成员变量name、age\n",
    "3.创建一个对象实例yueyue，创建初期对象为空，成员变量也是指向类成员name、age\n",
    "4.对象yueyue对成员name、age赋值，赋值后的name、age成为自己的成员，保存在对象中\n",
    "5.对象yueyue调用say(),say()方法中定义对象的name、age(self.name、self.age)\n",
    "'''\n",
    "\n",
    "class Student():\n",
    "    name = \"dana\"\n",
    "    age = 18\n",
    "    \n",
    "    # 注意say的写法，参数由一个self\n",
    "    def say(self):#非绑定\n",
    "        name = \"bbbb\"\n",
    "        age = 400\n",
    "        print(\"My name is {0}\".format(name))#对类成员进行赋值,保存在对象中\n",
    "        print(\"My age is {0}\".format(age))#对类成员进行赋值,保存在对象中\n",
    "        \n",
    "        self.name = 'bbbb'\n",
    "        self.age = 400\n",
    "        print(\"My name is {0}\".format(self.name))\n",
    "        print(\"My age is {0}\".format(self.age))\n",
    "    \n",
    "    def sayAgain(s):#self换成s\n",
    "        print(\"My name is {0}\".format(s.name))\n",
    "        print(\"My age is {0}\".format(s.age))\n",
    "        print(\"My name is {0}\".format(s.__class__.name))#非绑定类的方法访问当前类的成员\n",
    "        print(\"My age is {0}\".format(s.__class__.age))\n",
    "\n",
    "print(yueyue.name)\n",
    "print(yueyue.age)\n",
    "print(\"*\" * 20)\n",
    "print(A.name)\n",
    "print(A.age)\n",
    "print(\"*\" * 20)\n",
    "yueyue = Student()\n",
    "yueyue.say()\n",
    "print(\"*\" * 20)\n",
    "yueyue.sayAgain()"
   ]
  },
  {
   "cell_type": "code",
   "execution_count": 62,
   "metadata": {
    "pycharm": {
     "is_executing": false
    }
   },
   "outputs": [
    {
     "name": "stdout",
     "output_type": "stream",
     "text": [
      "My name is yaona\n",
      "My age is 19\n",
      "\n",
      "cccc\n",
      "500\n",
      "dana\n",
      "19\n",
      "Hello, nice to see you again\n"
     ]
    }
   ],
   "source": [
    "class Teacher():\n",
    "    name = \"dana\"\n",
    "    age = 19\n",
    "    \n",
    "    def say(self):\n",
    "        self.name = \"yaona\"\n",
    "        self.age = 17\n",
    "        print(\"My name is {0}\".format(self.name))\n",
    "        # 调用类的成员变量需要用 __class__\n",
    "        print(\"My age is {0}\".format(__class__.age) + \"\\n\")\n",
    "    def sayAgain():\n",
    "        name = 'cccc'\n",
    "        age = 500\n",
    "        print(name)\n",
    "        print(age)\n",
    "        print(__class__.name)\n",
    "        print(__class__.age )\n",
    "        print(\"Hello, nice to see you again\")\n",
    "t = Teacher()\n",
    "t.say()\n",
    "# 调用绑定类函数使用类名\n",
    "Teacher.sayAgain()"
   ]
  },
  {
   "cell_type": "code",
   "execution_count": 69,
   "metadata": {
    "pycharm": {
     "is_executing": false
    }
   },
   "outputs": [
    {
     "name": "stdout",
     "output_type": "stream",
     "text": [
      "aaaa\n",
      "200\n",
      "aaaa\n",
      "200\n",
      " liuying\n",
      "18\n",
      "bbbb\n",
      "90\n"
     ]
    }
   ],
   "source": [
    "# 关于self的案例\n",
    "'''\n",
    "1.初始化方法作为self\n",
    "2.本类A作为self\n",
    "3.外类B作为self\n",
    "'''\n",
    "class A():\n",
    "    name = \" liuying\"\n",
    "    age = 18\n",
    "    \n",
    "    def __init__(self):#A,类实例初始化方法\n",
    "        self.name = \"aaaa\"\n",
    "        self.age = 200\n",
    "        \n",
    "    def say(self):\n",
    "        print(self.name)\n",
    "        print(self.age)\n",
    "        \n",
    "class B():\n",
    "    name = \"bbbb\"\n",
    "    age = 90\n",
    "    \n",
    "a = A()#此时a对象通过__init__()对name、age进行了赋值\n",
    "# 此时，系统会默认把a作为第一个参数传入函数\n",
    "\n",
    "a.say()\n",
    "   \n",
    "# 此时，self被a替换\n",
    "A.say(a)#其实是将say()作为绑定方法执行\n",
    "# 同样可以把A作为参数传入\n",
    "A.say(A)\n",
    "\n",
    "# 此时，传入的是类实例B，因为B具有name和age属性，所以不会报错\n",
    "A.say(B)\n",
    "\n",
    "# 以上代码，利用了鸭子模型"
   ]
  },
  {
   "cell_type": "code",
   "execution_count": null,
   "metadata": {
    "pycharm": {
     "is_executing": false
    }
   },
   "outputs": [],
   "source": [
    "# 私有变量案例\n",
    "\n",
    "class Person():\n",
    "                # name是共有的成员 \n",
    "                name = \"liuying\"\n",
    "                # __age就是私有成员\n",
    "                _age = 16#父类子类都能用\n",
    "                __age = 18#无法在外部直接访问\n",
    "                \n",
    "                \n",
    "p = Person()\n",
    "# name是公有变量\n",
    "print(p.name)\n",
    "# __age是私有变量(private)\n",
    "# print(p.__age)#x\n",
    "#_agen是私有变量(protect)\n",
    "print(p._age)\n"
   ]
  },
  {
   "cell_type": "code",
   "execution_count": null,
   "metadata": {
    "pycharm": {
     "is_executing": false
    }
   },
   "outputs": [],
   "source": [
    "# name mangling技术\n",
    "print(Person.__dict__)\n",
    "\n",
    "p._Person__age = 19\n",
    "print(p._Person__age)"
   ]
  },
  {
   "cell_type": "code",
   "execution_count": null,
   "metadata": {
    "pycharm": {
     "is_executing": false
    }
   },
   "outputs": [],
   "source": []
  }
 ],
 "metadata": {
  "kernelspec": {
   "display_name": "Python 3",
   "language": "python",
   "name": "python3"
  },
  "language_info": {
   "codemirror_mode": {
    "name": "ipython",
    "version": 3
   },
   "file_extension": ".py",
   "mimetype": "text/x-python",
   "name": "python",
   "nbconvert_exporter": "python",
   "pygments_lexer": "ipython3",
   "version": "3.6.5"
  },
  "pycharm": {
   "stem_cell": {
    "cell_type": "raw",
    "metadata": {
     "collapsed": false
    },
    "source": []
   }
  }
 },
 "nbformat": 4,
 "nbformat_minor": 2
}
