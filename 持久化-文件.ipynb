{
 "cells": [
  {
   "cell_type": "markdown",
   "metadata": {},
   "source": [
    "# 文件\n",
    "- 长久保存信息的一种数据信息集合\n",
    "- 常用操作\n",
    "    - 打开关闭（文件一旦打开，需要关闭操作！！！）\n",
    "    - 读写内容\n",
    "    - 查找\n",
    "# open函数\n",
    "- open函数负责打开文件，带有很多参数\n",
    "- 第一个参数： 必须有，文件的路径和名称\n",
    "- mode：表明文件用什么方式打开\n",
    "    - r:以只读方式打开\n",
    "    - w：写方式打开，会覆盖以前的内容\n",
    "    - x：创建方式打开，如文件已经存在，报错\n",
    "    - a：append方式，以追加的方式对文件内容进行写入\n",
    "    - b： binary方式，二进制方式写入\n",
    "    - t： 文本方式打开\n",
    "    - +： 可读写\n",
    "\n",
    "\n",
    "模式\t描述\n",
    "t\t文本模式 (默认)。\n",
    "\n",
    "x\t写模式，新建一个文件，如果该文件已存在则会报错。\n",
    "\n",
    "b\t二进制模式。\n",
    "\n",
    "+   打开一个文件进行更新(可读可写)。\n",
    "\n",
    "U\t通用换行模式（不推荐）。\n",
    "\n",
    "r\t以只读方式打开文件。文件的指针将会放在文件的开头。这是默认模式。\n",
    "\n",
    "rb\t以二进制格式打开一个文件用于只读。文件指针将会放在文件的开头。这是默认模式。一般用于非文本文件如图片等。\n",
    "\n",
    "r+\t打开一个文件用于读写。文件指针将会放在文件的开头。\n",
    "\n",
    "rb+\t以二进制格式打开一个文件用于读写。文件指针将会放在文件的开头。一般用于非文本文件如图片等。\n",
    "\n",
    "w\t打开一个文件只用于写入。如果该文件已存在则打开文件，并从开头开始编辑，即原有内容会被删除。如果该文件不存在，创建新文件。\n",
    "\n",
    "wb\t以二进制格式打开一个文件只用于写入。如果该文件已存在则打开文件，并从开头开始编辑，即原有内容会被删除。如果该文件不存在，创建新文件。一般用于非文本文件如图片等。\n",
    "\n",
    "w+\t打开一个文件用于读写。如果该文件已存在则打开文件，并从开头开始编辑，即原有内容会被删除。如果该文件不存在，创建新文件。\n",
    "\n",
    "wb+\t以二进制格式打开一个文件用于读写。如果该文件已存在则打开文件，并从开头开始编辑，即原有内容会被删除。如果该文件不存在，创建新文件。一般用于非文本文件如图片等。\n",
    "\n",
    "a\t打开一个文件用于追加。如果该文件已存在，文件指针将会放在文件的结尾。也就是说，新的内容将会被写入到已有内容之后。如果该文件不存在，创建新文件进行写入。\n",
    "\n",
    "ab\t以二进制格式打开一个文件用于追加。如果该文件已存在，文件指针将会放在文件的结尾。也就是说，新的内容将会被写入到已有内容之后。如果该文件不存在，创建新文件进行写入。\n",
    "\n",
    "a+\t打开一个文件用于读写。如果该文件已存在，文件指针将会放在文件的结尾。文件打开时会是追加模式。如果该文件不存在，创建新文件用于读写。\n",
    "\n",
    "ab+\t以二进制格式打开一个文件用于追加。如果该文件已存在，文件指针将会放在文件的结尾。如果该文件不存在，创建新文件用于读写。\n"
   ]
  },
  {
   "cell_type": "code",
   "execution_count": null,
   "metadata": {},
   "outputs": [],
   "source": [
    "with open(\"文件名\"，\"w\") as f:\n",
    "\n",
    "f.write(\"要写入的内容\")\n",
    "\n",
    "红色内容可选以下选项：\n",
    "w：以写方式打开，\n",
    "a：以追加模式打开 (从 EOF 开始, 必要时创建新文件)\n",
    "r+：以读写模式打开\n",
    "w+：以读写模式打开 (参见 w )\n",
    "a+：以读写模式打开 (参见 a )\n",
    "rb：以二进制读模式打开\n",
    "wb：以二进制写模式打开 (参见 w )\n",
    "ab：以二进制追加模式打开 (参见 a )\n",
    "rb+：以二进制读写模式打开 (参见 r+ )\n",
    "wb+：以二进制读写模式打开 (参见 w+ )\n",
    "ab+：以二进制读写模式打开 (参见 a+ )fp.read([size])\n",
    " \n",
    "\n",
    "蓝色内容可选以下选项：\n",
    "\n",
    "f.read([size])                     #size为读取的长度，以byte为单位\n",
    "f.readline([size])                 #读一行，如果定义了size，有可能返回的只是一行的一部分\n",
    "f.readlines([size])                #把文件每一行作为一个list的一个成员，并返回这个list。其实它的内部是通过循环调用readline()来实现的。如果提供size参数，size是表示读取内容的总长，也就是说可能只读到文件的一部分。\n",
    "f.write(str)                       #把str写到文件中，write()并不会在str后加上一个换行符\n",
    "f.writelines(seq)                  #把seq的内容全部写到文件中(多行一次性写入)。这个函数也只是忠实地写入，不会在每行后面加上任何东西。\n",
    "f.close()                          #关闭文件。python会在一个文件不用后自动关闭文件，不过这一功能没有保证，最好还是养成自己关闭的习惯。  如果一个文件在关闭后还对其进行操作会产生ValueError\n",
    "f.flush()                          #把缓冲区的内容写入硬盘\n",
    "f.fileno()                         #返回一个长整型的\"文件标签\"\n",
    "f.isatty()                         #文件是否是一个终端设备文件（unix系统中的）\n",
    "f.tell()                           #返回文件操作标记的当前位置，以文件的开头为原点\n",
    "f.next()                           #返回下一行，并将文件操作标记位移到下一行。把一个file用于for … in file这样的语句时，就是调用next()函数来实现遍历的。\n",
    "f.seek(offset[,whence])            #将文件打操作标记移到offset的位置。这个offset一般是相对于文件的开头来计算的，一般为正数。但如果提供了whence参数就不一定了，whence可以为0表示从头开始计算，1表示以当前位置为原点计算。2表示以文件末尾为原点进行计算。需要注意，如果文件以a或a+的模式打开，每次进行写操作时，文件操作标记会自动返回到文件末尾。\n",
    "f.truncate([size])                 #把文件裁成规定的大小，默认的是裁到当前文件操作标记的位置。如果size比文件的大小还要大，依据系统的不同可能是不改变文件，也可能是用0把文件补到相应的大小，也可能是以一些随机的内容加上去。\n",
    "————————————————\n",
    "版权声明：本文为CSDN博主「一路狂奔的兔子」的原创文章，遵循CC 4.0 BY-SA版权协议，转载请附上原文出处链接及本声明。\n",
    "原文链接：https://blog.csdn.net/zlllg/article/details/89315274"
   ]
  },
  {
   "cell_type": "code",
   "execution_count": null,
   "metadata": {
    "collapsed": true
   },
   "outputs": [],
   "source": [
    "# 打开文件，用写的方式\n",
    "# r表示后面字符串内容不需要转义\n",
    "# f称之为文件句柄\n",
    "f = open(r\"test01.txt\", 'w')\n",
    "# 文件打开后必须关闭\n",
    "f.close()\n",
    "\n",
    "# 此案例说明，以写方式打开文件，默认是如果没有文件，则创建"
   ]
  },
  {
   "cell_type": "markdown",
   "metadata": {},
   "source": [
    "# with语句\n",
    "- with语句使用的技术是一种成为上下文管理协议的技术(ContextManagementProtocal)\n",
    "- 自动判断文件的 作用域， 自动关闭不在使用的打开的文件句柄"
   ]
  },
  {
   "cell_type": "code",
   "execution_count": 12,
   "metadata": {},
   "outputs": [],
   "source": [
    "# with语句案例\n",
    "content = '我爱你\\xcb岁数大'\n",
    "with open(r\"test01.txt\", 'w', encoding='utf8') as f:\n",
    "    f.write(content)\n",
    "    # 下面语句块开始对文件f进行操作\n",
    "    # 在本模块中不需要在使用close关闭文件f"
   ]
  },
  {
   "cell_type": "code",
   "execution_count": null,
   "metadata": {
    "tags": [
     "outputPrepend"
    ]
   },
   "outputs": [],
   "source": [
    "# with案例\n",
    "\n",
    "with open(r'test01.txt', 'r',encoding='utf-8') as f:\n",
    "    # print(f)\n",
    "    # 按行读取内容\n",
    "    strline = f.readline()#一行（第一行）\n",
    "    # print(f.readlines())# 一次性全部打印，返回的是一个列表\n",
    "    # print(strline)\n",
    "    # 此结构保证能够完整读取文件直到结束\n",
    "    while strline:\n",
    "        print(strline)\n",
    "        strline = f.readline()"
   ]
  },
  {
   "cell_type": "code",
   "execution_count": null,
   "metadata": {
    "tags": [
     "outputPrepend"
    ]
   },
   "outputs": [],
   "source": [
    "# 源文件是什么编码格式，就要指定编码格式去读\n",
    "with open('D.txt', 'r',encoding='gbk') as f:\n",
    "    # print(f)\n",
    "    # 按行读取内容\n",
    "    strline = f.readline()#一行（第一行）\n",
    "    # print(f.readlines())# 一次性全部打印，返回的是一个列表\n",
    "    # print(strline)\n",
    "    # 此结构保证能够完整读取文件直到结束\n",
    "    while strline:\n",
    "        print(strline)\n",
    "        strline = f.readline()"
   ]
  },
  {
   "cell_type": "code",
   "execution_count": null,
   "metadata": {},
   "outputs": [],
   "source": [
    "# list能用打开的文件作为参数，把文件内每一行内容作为一个元素\n",
    "\n",
    "with open(r'D.csv', 'r') as f:\n",
    "    # 以打开的文件f作为参数，创建列表\n",
    "    l = list(f)\n",
    "    print(l)\n",
    "    for line in l:\n",
    "        print(line)"
   ]
  },
  {
   "cell_type": "code",
   "execution_count": null,
   "metadata": {},
   "outputs": [],
   "source": [
    "# read是按字符读取文件内容\n",
    "# 允许输入参数决定读取几个字符，如果没有制定，从当前位置读取到结尾\n",
    "# 否则，从当前位置读取指定个数字符\n",
    "\n",
    "with open(r'地址.txt', 'r') as f:\n",
    "    strChar = f.read(5)\n",
    "    print(len(strChar))\n",
    "    print(strChar)\n",
    "    \n",
    "# 作业：\n",
    "# 使用read读取文件，每次读取一个，使用循环读完\n",
    "# 尽量保持格式\n",
    "with open('地址.txt', 'r', encoding='utf8') as f:\n",
    "    strChar = f.read(1)\n",
    "    while strChar:\n",
    "        print(strChar, end='')\n",
    "        strChar = f.read(1)"
   ]
  },
  {
   "cell_type": "markdown",
   "metadata": {},
   "source": [
    "# seek（offset， from)\n",
    "- 移动文件的读取位置，也叫读取指针\n",
    "- offset 开始的偏移量，也就是代表需要移动偏移的字节数\n",
    "- from的取值范围：\n",
    "    - 0： 从文件头开始偏移\n",
    "    - 1：从文件当前位置开始偏移\n",
    "    - 2： 从文件末尾开始偏移\n",
    "- 移动的单位是字节(byte)\n",
    "- 一个汉字由若干个字节构成\n",
    "- 返回文件只针对 当前位置"
   ]
  },
  {
   "cell_type": "code",
   "execution_count": null,
   "metadata": {},
   "outputs": [],
   "source": [
    "# seek案例\n",
    "# 打开文件后，从第5个字节处开始读取\n",
    "\n",
    "# 打开读写指针在0处， 即文件的开头\n",
    "with open(r'地址.txt', 'r') as f:\n",
    "    # seek移动单位是字节\n",
    "    # seek(offset,whence=0)offset：开始的偏移量，也就是代表需要移动偏移的字节数whence：给offset参数一个定义，表示要从哪个位置开始\n",
    "    f.seek(6, 0)  # 每次偏移6个字节数，0从文件头开始\n",
    "    strChar = f.read()\n",
    "    print(strChar)"
   ]
  },
  {
   "cell_type": "code",
   "execution_count": null,
   "metadata": {},
   "outputs": [],
   "source": [
    "# 关于读取文件的练习\n",
    "# 打开文件，三个字符一组读出内容，然后显示在屏幕上\n",
    "# 每读一次，休息一秒钟\n",
    "\n",
    "# 让程序暂停，可以使用time下的sleep函数\n",
    "import time,sys\n",
    "# sys.setdefaultencoding('utf-8')\n",
    "\n",
    "with open(r'地址.txt', 'r') as f:\n",
    "    # read参数的单位是字符，可以理解成一个汉字就是一个字符\n",
    "    strChar = f.read(3)\n",
    "    while strChar:\n",
    "        print(strChar)\n",
    "        # sleep参数单位是秒\n",
    "        time.sleep(1)\n",
    "        strChar = f.read(3)\n",
    "# 作业：\n",
    "# 解释以下运行结果，为什么不是每行三个字符"
   ]
  },
  {
   "cell_type": "code",
   "execution_count": null,
   "metadata": {},
   "outputs": [],
   "source": [
    "# tell函数： 用来显示文件读写指针的当前位置\n",
    "with open(r'地址.txt', 'r') as f:\n",
    "    strChar = f.read(3)#读到第三位了\n",
    "    pos = f.tell()#当前在哪个位置\n",
    "    \n",
    "    while strChar:\n",
    "        print(pos)\n",
    "        print(strChar)\n",
    "        \n",
    "        strChar = f.read()\n",
    "        pos = f.tell()\n",
    "        print(pos)\n",
    "        \n",
    "# 以下结果说明：\n",
    "# tell的返回数字的单位是byte\n",
    "# read是以字符为单位"
   ]
  },
  {
   "cell_type": "markdown",
   "metadata": {},
   "source": [
    "# 文件的写操作-write\n",
    "- write(str): 把字符串写入文件\n",
    "- writeline(str): 把字符串按行写入文件\n",
    "- 区别：\n",
    "    - write函数参数只能是字符串\n",
    "    - writerline参数可以是字符串，也可以是字符序列"
   ]
  },
  {
   "cell_type": "code",
   "execution_count": null,
   "metadata": {},
   "outputs": [],
   "source": [
    "# write 案例\n",
    "# 1. 向文件追加一句诗\n",
    "\n",
    "# a代表追加方式打开\n",
    "with open(r'test01.txt', 'a') as f:\n",
    "    # 注意字符串内含有换行符\n",
    "    f.write(\"生活不仅有眼前的苟且， \\n 还有远方的苟且\")\n",
    "    print(f.readlines())"
   ]
  },
  {
   "cell_type": "code",
   "execution_count": null,
   "metadata": {},
   "outputs": [],
   "source": [
    "# 可以直接写入行， 用writelines\n",
    "# writelines表示写入很多行，参数可以是list格式\n",
    "\n",
    "# a代表追加方式打开\n",
    "with open(r'test01.txt', 'a') as f:\n",
    "    # 注意字符串内含有换行符\n",
    "    f.writelines(\"生活不仅有眼前的苟且\\n\")\n",
    "    f.writelines(\"还有远方的枸杞\")\n",
    "    "
   ]
  },
  {
   "cell_type": "code",
   "execution_count": null,
   "metadata": {},
   "outputs": [],
   "source": [
    "l = [\"I\\t\", \"love\\t\", \"wangxiaojing\\t\"]\n",
    "\n",
    "# a代表追加方式打开\n",
    "with open(r'test01.txt', 'w') as f:\n",
    "    # 注意字符串内含有换行符\n",
    "    f.writelines(l)\n"
   ]
  },
  {
   "cell_type": "markdown",
   "metadata": {},
   "source": [
    "# 持久化 - pickle\n",
    "- 序列化（持久化，落地）：把程序运行中的信息保存在磁盘上\n",
    "- 反序列化： 序列号的逆过程\n",
    "- pickle： python提供的序列化模块\n",
    "- pickle.dump:序列化\n",
    "- pickle.load:反序列化\n",
    "\n",
    "Python中的Pickle模块实现了基本的数据序列与反序列化。\n",
    "\n",
    "\n",
    "\n",
    "一、dump()方法\n",
    "\n",
    "pickle.dump(obj, file, [,protocol])\n",
    "\n",
    "注释：序列化对象，将对象obj保存到文件file中去。参数protocol是序列化模式，默认是0（ASCII协议，表示以文本的形式进行序列化），protocol的值还可以是1和2（1和2表示以二进制的形式进行序列化。其中，1是老式的二进制协议；2是新二进制协议）。file表示保存到的类文件对象，file必须有write()接口，file可以是一个以'w'打开的文件或者是一个StringIO对象，也可以是任何可以实现write()接口的对象。\n",
    "\n",
    "\n",
    "\n",
    "二、load()方法\n",
    "\n",
    "pickle.load(file)\n",
    "\n",
    "注释：反序列化对象，将文件中的数据解析为一个python对象。file中有read()接口和readline()接口\n"
   ]
  },
  {
   "cell_type": "code",
   "execution_count": null,
   "metadata": {
    "collapsed": true
   },
   "outputs": [],
   "source": [
    "# 序列化案例\n",
    "import pickle\n",
    "\n",
    "age = 19\n",
    "\n",
    "with open(r'test01.txt', 'wb') as f:\n",
    "    pickle.dump(age, f)#age=19序列化到test01.txt中"
   ]
  },
  {
   "cell_type": "code",
   "execution_count": null,
   "metadata": {},
   "outputs": [],
   "source": [
    "# 反序列化案例\n",
    "\n",
    "import pickle\n",
    "\n",
    "with open(r'test01.txt', 'rb') as f:\n",
    "    age = pickle.load(f)\n",
    "    print(age)"
   ]
  },
  {
   "cell_type": "code",
   "execution_count": 11,
   "metadata": {},
   "outputs": [
    {
     "output_type": "stream",
     "name": "stdout",
     "text": [
      "None\n"
     ]
    }
   ],
   "source": [
    "import requests\n",
    "import pickle\n",
    "\n",
    "# 完整访问url是下面url加上参数构成\n",
    "# url = \"http://www.baidu.com/?\"\n",
    "url = \"http://d.xzfile.com/down/wannishiwunian_downcc.zip\"\n",
    "# url = \"http://down.555x.co:8088/txt/16128/[www.555x.co]%E5%9C%B0%E5%B8%88.txt\"\n",
    "# url = \"http://192.168.0.64\"\n",
    "\n",
    "headers_zip = {\n",
    "    \"Host\": \"d.xzfile.com\",\n",
    "    \"Connection\": \"keep-alive\",\n",
    "    \"Upgrade-Insecure-Requests\": \"1\",\n",
    "    \"User-Agent\": \"Mozilla/5.0 (Windows NT 10.0; Win64; x64) AppleWebKit/537.36 (KHTML, like Gecko) Chrome/90.0.4430.212 Safari/537.36\",\n",
    "    \"Accept\": \"text/html,application/xhtml+xml,application/xml;q=0.9,image/avif,image/webp,image/apng,*/*;q=0.8,application/signed-exchange;v=b3;q=0.9\",\n",
    "    \"Referer\": \"http://www.downcc.com/\",\n",
    "    \"Accept-Encoding\": \"gzip, deflate\",\n",
    "    \"Accept-Language\": \"zh-CN,zh;q=0.9,en-US;q=0.8,en;q=0.7\"\n",
    "}\n",
    "\n",
    "headers_txt = {\n",
    "    \"User-Agent\":\"Mozilla/5.0 (X11; Linux x86_64) AppleWebKit/537.36 (KHTML, like Gecko) Chrome/64.0.3282.119 Safari/537.36\",\n",
    "    \"Host\": \"down.555x.co:8088\",\n",
    "    \"Connection\": \"keep-alive\",\n",
    "    \"Upgrade-Insecure-Requests\": \"1\",\n",
    "    \"User-Agent\": \"Mozilla/5.0 (Windows NT 10.0; Win64; x64) AppleWebKit/537.36 (KHTML, like Gecko) Chrome/90.0.4430.212 Safari/537.36\",\n",
    "    \"Accept\": \"text/html,application/xhtml+xml,application/xml;q=0.9,image/avif,image/webp,image/apng,*/*;q=0.8,application/signed-exchange;v=b3;q=0.9\",\n",
    "    \"Referer\": \"http://www.555x.co/\",\n",
    "    \"Accept-Encoding\": \"gzip, deflate\",\n",
    "    \"Accept-Language\": \"zh-CN,zh;q=0.9,en-US;q=0.8,en;q=0.7\",\n",
    "    \"Range\": \"bytes=1056345-3745590\",\n",
    "    \"If-Range\": \"b6e252eab154d41:0\"\n",
    "\n",
    "}\n",
    "\n",
    "\n",
    "rsp = requests.get(url, headers=headers_zip)\n",
    "# print(rsp)\n",
    "# print(rsp.text)#注意：此处需要修改IDE字符编码为UTF-8\n",
    "# print(rsp.content)\n",
    "print(rsp.encoding)  # ISO-8859-1\n",
    "# print(rsp.status_code) # 请求返回码\n",
    "\n",
    "with open(r'E.zip', 'wb') as f:\n",
    "    # pickle.dumps(rsp.content, f)\n",
    "    # pickle.encode_long\n",
    "    f.write(rsp.content)\n",
    "    f.flush()\n",
    "Flush write buffers, if applicable.\n",
    "\n",
    "This is not implemented for read-only and non-blocking streams"
   ]
  },
  {
   "cell_type": "code",
   "execution_count": null,
   "metadata": {
    "collapsed": true
   },
   "outputs": [],
   "source": [
    "# 序列化案例\n",
    "import pickle\n",
    "\n",
    "a = [19, 'liudana', \"i love wangxiaojing\", [185, 76]]\n",
    "\n",
    "with open(r'test01.txt', 'wb') as f:\n",
    "    pickle.dump(a, f)"
   ]
  },
  {
   "cell_type": "code",
   "execution_count": null,
   "metadata": {},
   "outputs": [],
   "source": [
    "\n",
    "with open(r'test01.txt', 'rb') as f:\n",
    "    a  = pickle.load(f)\n",
    "    print(a)"
   ]
  },
  {
   "cell_type": "markdown",
   "metadata": {},
   "source": [
    "# 持久化-shelve\n",
    "- 持久化工具\n",
    "- 类似字典，用kv对保存数据，存取方式跟字典也类似\n",
    "- open, close"
   ]
  },
  {
   "cell_type": "code",
   "execution_count": null,
   "metadata": {
    "collapsed": true
   },
   "outputs": [],
   "source": [
    "# 使用shelve创建文件并使用\n",
    "import shelve\n",
    "\n",
    "# 打开文件\n",
    "# shv相当于一个字典\n",
    "shv = shelve.open(r'shv.db')#shv.db.bak\n",
    "\n",
    "shv['one'] = 5\n",
    "shv['two'] = 2\n",
    "shv['three'] = 3\n",
    "\n",
    "shv.close()\n",
    "\n",
    "# 通过以上案例发现，shelve自动创建的不仅仅是一个shv.db文件，还包括其他格式文件"
   ]
  },
  {
   "cell_type": "code",
   "execution_count": null,
   "metadata": {},
   "outputs": [],
   "source": [
    "# shelve读取案例\n",
    "shv = shelve.open(r'shv.db')\n",
    "\n",
    "try:\n",
    "    print(shv['one'])\n",
    "    print(shv['threee'])\n",
    "except Exception as e:\n",
    "    print(\"烦死了\")\n",
    "finally:\n",
    "    shv.close()"
   ]
  },
  {
   "cell_type": "markdown",
   "metadata": {},
   "source": [
    "# shelve特性\n",
    "- 不支持多个应用并行写入\n",
    "    - 为了解决这个问题，open的时候可以使用flag=r\n",
    "- 写回问题\n",
    "    - shelv恶魔人情况下不会等待持久化对象进行任何修改\n",
    "    - 解决方法： 强制写回：writeback=True"
   ]
  },
  {
   "cell_type": "code",
   "execution_count": null,
   "metadata": {},
   "outputs": [],
   "source": [
    "# shelve 之只读打开\n",
    "import shelve\n",
    "\n",
    "shv = shelve.open(r'C:\\\\Users\\\\Administrator\\\\Desktop\\\\shv.db', flag='r')\n",
    "\n",
    "try:\n",
    "    k1 = shv['one']\n",
    "    print(k1)\n",
    "finally:\n",
    "    shv.close()\n",
    "\n"
   ]
  },
  {
   "cell_type": "code",
   "execution_count": null,
   "metadata": {},
   "outputs": [],
   "source": [
    "import shelve\n",
    "\n",
    " \n",
    "\n",
    "shv = shelve.open(r'shv.db')\n",
    "try:\n",
    "    shv['one'] = {\"eins\":1, \"zwei\":2, \"drei\":3}\n",
    "finally:\n",
    "    shv.close()\n",
    "\n",
    "\n",
    "shv = shelve.open(r'shv.db')\n",
    "try:\n",
    "    one = shv['one']\n",
    "    print(one)\n",
    "finally:\n",
    "    shv.close()\n",
    "    \n",
    "    "
   ]
  },
  {
   "cell_type": "code",
   "execution_count": null,
   "metadata": {},
   "outputs": [],
   "source": [
    "# shelve忘记写回，需要使用强制写回\n",
    "shv = shelve.open(r'shv.db')\n",
    "try:\n",
    "    k1 = shv['one']\n",
    "    print(k1)\n",
    "    # 此时，一旦shelve关闭，则内容还是存在于内存中，没有写回数据库\n",
    "    k1[\"eins\"] =100\n",
    "finally:\n",
    "    shv.close()\n",
    "    \n",
    "    \n",
    "shv = shelve.open(r'shv.db')\n",
    "try:\n",
    "    k1 = shv['one']\n",
    "    print(k1)\n",
    "finally:\n",
    "    shv.close()"
   ]
  },
  {
   "cell_type": "code",
   "execution_count": null,
   "metadata": {},
   "outputs": [],
   "source": [
    "# shelve忘记写回，需要使用强制写回\n",
    "shv = shelve.open(r'shv.db', writeback=True)\n",
    "try:\n",
    "    k1 = shv['one']\n",
    "    print(k1)\n",
    "    # 此时，一旦shelve关闭，则内容还是存在于内存中，没有写回数据库\n",
    "    k1[\"eins\"] =100\n",
    "finally:\n",
    "    shv.close()\n",
    "    \n",
    "    \n",
    "shv = shelve.open(r'shv.db')\n",
    "try:\n",
    "    k1 = shv['one']\n",
    "    print(k1)\n",
    "finally:\n",
    "    shv.close()"
   ]
  },
  {
   "cell_type": "code",
   "execution_count": null,
   "metadata": {},
   "outputs": [],
   "source": [
    "# shelve 使用with管理上下文环境\n",
    "\n",
    "with shelve.open(r'shv.db', writeback=True) as shv:\n",
    "    k1 = shv['one']\n",
    "    print(k1)\n",
    "    # 此时，一旦shelve关闭，则内容还是存在于内存中，没有写回数据库\n",
    "    k1[\"eins\"] =1000\n",
    "\n",
    "    \n",
    "    \n",
    "with shelve.open(r'shv.db') as shv:\n",
    "    print(shv['one'])"
   ]
  },
  {
   "cell_type": "code",
   "execution_count": null,
   "metadata": {
    "collapsed": true
   },
   "outputs": [],
   "source": []
  }
 ],
 "metadata": {
  "kernelspec": {
   "display_name": "Python 3.8.3 64-bit",
   "language": "python",
   "name": "python38364bit32f78189f8754963bea62598119d220c"
  },
  "language_info": {
   "codemirror_mode": {
    "name": "ipython",
    "version": 3
   },
   "file_extension": ".py",
   "mimetype": "text/x-python",
   "name": "python",
   "nbconvert_exporter": "python",
   "pygments_lexer": "ipython3",
   "version": "3.8.3-final"
  }
 },
 "nbformat": 4,
 "nbformat_minor": 2
}