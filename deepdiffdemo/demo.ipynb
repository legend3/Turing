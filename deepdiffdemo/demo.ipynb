{
 "cells": [
  {
   "cell_type": "code",
   "execution_count": 3,
   "metadata": {},
   "outputs": [
    {
     "name": "stdout",
     "output_type": "stream",
     "text": [
      "{}\n"
     ]
    }
   ],
   "source": [
    "from deepdiff import DeepDiff  # For Deep Difference of 2 objects\n",
    "from deepdiff import grep, DeepSearch  # For finding if item exists in an object\n",
    "from deepdiff import DeepHash  # For hashing objects based on their contents\n",
    "\n",
    "t1 = {1:1, 2:2, 3:3, 4:{\"a\":\"hello\", \"b\":[1, 2, 3]}}\n",
    "t2 = {1:1, 2:2, 3:3, 4:{\"a\":\"hello\", \"b\":[1, 3, 2, 3]}}\n",
    "ddiff = DeepDiff(t1, t2, ignore_order=True)\n",
    "print (ddiff)"
   ]
  },
  {
   "cell_type": "code",
   "execution_count": 2,
   "metadata": {},
   "outputs": [
    {
     "name": "stdout",
     "output_type": "stream",
     "text": [
      "{'iterable_item_removed': {'root[1]': 3}, 'repetition_change': {'root[3]': {'old_repeat': 1, 'new_repeat': 2, 'old_indexes': [3], 'new_indexes': [0, 1], 'value': 4}, 'root[0]': {'old_repeat': 2, 'new_repeat': 1, 'old_indexes': [0, 2], 'new_indexes': [2], 'value': 1}}}\n"
     ]
    }
   ],
   "source": [
    "t1 = [1, 3, 1, 4]\n",
    "t2 = [4, 4, 1]\n",
    "ddiff = DeepDiff(t1, t2, ignore_order=True, report_repetition=True)\n",
    "print(ddiff)"
   ]
  }
 ],
 "metadata": {
  "kernelspec": {
   "display_name": "Python 3.8.3 64-bit",
   "language": "python",
   "name": "python3"
  },
  "language_info": {
   "codemirror_mode": {
    "name": "ipython",
    "version": 3
   },
   "file_extension": ".py",
   "mimetype": "text/x-python",
   "name": "python",
   "nbconvert_exporter": "python",
   "pygments_lexer": "ipython3",
   "version": "3.8.3"
  },
  "orig_nbformat": 2,
  "vscode": {
   "interpreter": {
    "hash": "a95e8ce2b8a84d181eb90432015da9fba0dec413140f0b3722d1a046efb12f4b"
   }
  }
 },
 "nbformat": 4,
 "nbformat_minor": 2
}
