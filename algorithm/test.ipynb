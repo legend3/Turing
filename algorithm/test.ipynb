{
 "cells": [
  {
   "cell_type": "code",
   "execution_count": null,
   "metadata": {},
   "outputs": [],
   "source": [
    "l = ' sdsfsdfsdfsfsfsdfsdf'\n",
    "print(l.strip(' ')) # 从两边开始向中间查找,遇到就继续，没遇到就马上停止\n",
    "\n",
    "\n",
    "str = \"312abc321\" \n",
    "print (str.strip( '12' )) # 第一就没遇到，就停止了\n",
    "# >>> 312abc321\n",
    "\n",
    "\n",
    "print('abc'[::-1])\n",
    "\n",
    "\n",
    "string = \"i am a boy\"\n",
    "s = string.split(\" \")\n",
    "s.reverse()\n",
    "print(' '.join(s))\n",
    "\n",
    "\n",
    "print(type(sorted('abc'[::-1])))\n",
    "print(len(str))\n",
    "print(len(str) / 8)\n",
    "print('0'*20)\n",
    "\n",
    "\n",
    "s = 'cba'\n",
    "str = \" \".join(s).split(\" \")\n",
    "str[0], str[1] = str[1], str[0]\n",
    "print(str)\n",
    "\n",
    "\n",
    "a = []\n",
    "a.append(s)\n",
    "a.sort()\n",
    "print(a)\n",
    "\n",
    "\n",
    "number = -1\n",
    "number = 10\n",
    "print(number)"
   ]
  }
 ],
 "metadata": {
  "language_info": {
   "name": "python"
  },
  "orig_nbformat": 4
 },
 "nbformat": 4,
 "nbformat_minor": 2
}
