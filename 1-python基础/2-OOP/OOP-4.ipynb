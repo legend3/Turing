{
 "cells": [
  {
   "cell_type": "code",
   "execution_count": 1,
   "metadata": {},
   "outputs": [
    {
     "name": "stdout",
     "output_type": "stream",
     "text": [
      "Hai, my name is LIU YING\n",
      "Hai, my name is MICHI STANGLE\n"
     ]
    }
   ],
   "source": [
    "# 属性案例\n",
    "# 创建Student类，描述学生类\n",
    "# 学生具有Student.name属性\n",
    "# 但name格式并不统一\n",
    "# 可以用增加一个函数，然后自动调用的方式，但很蠢\n",
    "class Student():\n",
    "    def __init__(self, name, age):\n",
    "        self.name = name\n",
    "        self.age = age\n",
    "        \n",
    "        # 如果不想修改代码\n",
    "        self.setName(name)\n",
    "        \n",
    "    # 介绍下自己\n",
    "    def intro(self):\n",
    "        print(\"Hai, my name is {0}\".format(self.name))\n",
    "        \n",
    "    def setName(self, name):\n",
    "        self.name = name.upper()\n",
    "        \n",
    "s1 = Student(\"LIU Ying\", 19.8)\n",
    "s2 = Student(\"michi stangle\", 24.0)\n",
    "\n",
    "s1.intro()\n",
    "s2.intro()\n",
    "\n"
   ]
  },
  {
   "cell_type": "code",
   "execution_count": 10,
   "metadata": {},
   "outputs": [],
   "source": [
    "# property案例\n",
    "# 定义一个Person类，具有name，age属性\n",
    "# 对于任意输入的姓名，我们希望都用大写方式保存\n",
    "# 年龄，我们希望内部统一用整数保存\n",
    "# x = property(fget, fset, fdel, doc)\n",
    "class Person():\n",
    "    '''\n",
    "    这是一个人，一个高尚的人，一个脱离了低级趣味的人\n",
    "    他还他妈的有属性\n",
    "    '''\n",
    "    def __init__(self, name):\n",
    "        self.name = name\n",
    "    # 函数的名称可以任意\n",
    "    def fget(self):\n",
    "        return self._name * 2\n",
    "    \n",
    "    def fset(self, name):\n",
    "        # 所有输入的姓名以大写形式保存\n",
    "        self._name = name.upper()\n",
    "        \n",
    "    def fdel(self):\n",
    "        self._name = \"NoName\"\n",
    "    \n",
    "    name = property(fget, fset, fdel, \"对name进行下下操作啦\")\n",
    "    \n",
    "    def test(self):\n",
    "        print(self.name)\n",
    "\n",
    "# 作业：\n",
    "# 1. 在用户输入年龄的时候，可以输入整数，小数，浮点数\n",
    "# 2. 但内部为了数据清洁，我们统一需要保存整数，直接舍去小数点"
   ]
  },
  {
   "cell_type": "code",
   "execution_count": 13,
   "metadata": {
    "tags": []
   },
   "outputs": [
    {
     "output_type": "stream",
     "name": "stdout",
     "text": "TULINGTULING\nTULINGTULING\nNone\n"
    }
   ],
   "source": [
    "p1 = Person(\"TuLing\")\n",
    "# p1.name = \"TuLing\"\n",
    "print(p1.name)\n",
    "print(p1.test())"
   ]
  },
  {
   "cell_type": "code",
   "execution_count": 21,
   "metadata": {},
   "outputs": [
    {
     "name": "stdout",
     "output_type": "stream",
     "text": [
      "{'__module__': '__main__', '__doc__': '\\n    这是一个人，一个高尚的人，一个脱离了低级趣味的人\\n    他还他妈的有属性\\n    ', 'fget': <function Person.fget at 0x7f4aac74f840>, 'fset': <function Person.fset at 0x7f4aac74fa60>, 'fdel': <function Person.fdel at 0x7f4aac74fae8>, 'name': <property object at 0x7f4aac77cb38>, '__dict__': <attribute '__dict__' of 'Person' objects>, '__weakref__': <attribute '__weakref__' of 'Person' objects>}\n",
      "\n",
      "    这是一个人，一个高尚的人，一个脱离了低级趣味的人\n",
      "    他还他妈的有属性\n",
      "    \n",
      "Person\n",
      "(<class 'object'>,)\n"
     ]
    }
   ],
   "source": [
    "# 类的内置属性举例\n",
    "print(Person.__dict__)\n",
    "print(Person.__doc__)\n",
    "print(Person.__name__)\n",
    "print(Person.__bases__)"
   ]
  },
  {
   "cell_type": "code",
   "execution_count": null,
   "metadata": {},
   "outputs": [],
   "source": [
    "class name_test():\n",
    "    def __init__(self):\n",
    "        self.__name = None\n",
    "    \n",
    "    def  __get__(self, instance, owner):\n",
    "        print('call __get__')\n",
    "        return self.__name\n",
    "\n",
    "    def  __set__(self, instance, value):\n",
    "        print('call __set__')\n",
    "        if  isinstance(value,str):\n",
    "            self.__name = value\n",
    "        else:\n",
    "            raise TypeError(\"Must be an string\")\n",
    "        "
   ]
  },
  {
   "cell_type": "code",
   "execution_count": 19,
   "metadata": {
    "tags": []
   },
   "outputs": [
    {
     "output_type": "stream",
     "name": "stdout",
     "text": "哈哈，我被调用了\n"
    }
   ],
   "source": [
    "# init 举例\n",
    "class A():\n",
    "    def __init__(self, name = 0):\n",
    "        print(\"哈哈，我被调用了\")\n",
    "        \n",
    "a = A()"
   ]
  },
  {
   "cell_type": "code",
   "execution_count": 26,
   "metadata": {
    "tags": []
   },
   "outputs": [
    {
     "output_type": "stream",
     "name": "stdout",
     "text": "哈哈，我被调用了\n"
    },
    {
     "output_type": "error",
     "ename": "TypeError",
     "evalue": "'A' object is not callable",
     "traceback": [
      "\u001b[1;31m---------------------------------------------------------------------------\u001b[0m",
      "\u001b[1;31mTypeError\u001b[0m                                 Traceback (most recent call last)",
      "\u001b[1;32m<ipython-input-26-4f3ef5bc96c5>\u001b[0m in \u001b[0;36m<module>\u001b[1;34m\u001b[0m\n\u001b[0;32m      8\u001b[0m \u001b[1;33m\u001b[0m\u001b[0m\n\u001b[0;32m      9\u001b[0m \u001b[0ma\u001b[0m \u001b[1;33m=\u001b[0m \u001b[0mA\u001b[0m\u001b[1;33m(\u001b[0m\u001b[1;33m)\u001b[0m\u001b[1;33m\u001b[0m\u001b[1;33m\u001b[0m\u001b[0m\n\u001b[1;32m---> 10\u001b[1;33m \u001b[0ma\u001b[0m\u001b[1;33m(\u001b[0m\u001b[1;33m)\u001b[0m\u001b[1;33m\u001b[0m\u001b[1;33m\u001b[0m\u001b[0m\n\u001b[0m",
      "\u001b[1;31mTypeError\u001b[0m: 'A' object is not callable"
     ]
    }
   ],
   "source": [
    "# __call__举例\n",
    "class A():\n",
    "    def __init__(self, name = 0):\n",
    "        print(\"哈哈，我被调用了\")\n",
    "        \n",
    "    def __call__(self):\n",
    "        print(\"我被调用了again\")\n",
    "\n",
    "a = A()\n",
    "a()"
   ]
  },
  {
   "cell_type": "code",
   "execution_count": 31,
   "metadata": {
    "tags": []
   },
   "outputs": [
    {
     "output_type": "stream",
     "name": "stdout",
     "text": "哈哈，我被调用了\n我被调用了again\n图灵学院的例子\n"
    }
   ],
   "source": [
    "# __str__举例\n",
    "class A():\n",
    "    def __init__(self,name = 1):\n",
    "        \n",
    "        print(\"哈哈，我被调用了\")\n",
    "        \n",
    "    def __call__(self):\n",
    "        print(\"我被调用了again\")\n",
    "       \n",
    "    def __str__(self):\n",
    "        a = \"图灵\"\n",
    "        return a + \"学院的例子\"\n",
    "a = A()\n",
    "a()  # 实例对象被当函数使用，自动调用__call__\n",
    "print(a)  #  实例对象被当字符串使用，自动调用__str__"
   ]
  },
  {
   "cell_type": "code",
   "execution_count": 27,
   "metadata": {
    "tags": []
   },
   "outputs": [
    {
     "output_type": "stream",
     "name": "stdout",
     "text": "NoName\n没找到呀没找到\naddr\nNone\n"
    }
   ],
   "source": [
    "# __getattr__\n",
    "\n",
    "class A():\n",
    "    name = \"NoName\"\n",
    "    age = 18\n",
    "    \n",
    "    def __getattr__(self, name):\n",
    "        print(\"没找到呀没找到\")\n",
    "        print(name) \n",
    "    \n",
    "a = A()\n",
    "print(a.name)\n",
    "print(a.addr)  # 自动调用\n",
    "# 作业：\n",
    "# 为什么会打印第四句话，而且第四句话是打印的 None\n",
    "\n",
    "#第二种方式\n",
    "# getattr(a,\"addr\") # 属性 bar2 不存在，但设置了默认值(不然会抛异常)"
   ]
  },
  {
   "cell_type": "code",
   "execution_count": 13,
   "metadata": {
    "tags": []
   },
   "outputs": [
    {
     "output_type": "stream",
     "name": "stdout",
     "text": "{}\n设置属性： age\n{'age': 18}\n18\n"
    }
   ],
   "source": [
    "# __setattr__案例\n",
    "class Person():\n",
    "    def __init__(self):\n",
    "        pass\n",
    "    \n",
    "    def __setattr__(self, name, value):\n",
    "        print(\"设置属性： {0}\".format(name))\n",
    "        # 下面语句会导致问题，死循环\n",
    "        # self.name = value  # 此处又对属性赋值，又会触发__setattr__，导致死循环\n",
    "\n",
    "        # 此种情况，为了避免死循环，规定统一调用父类魔法函数\n",
    "        super().__setattr__(name, value)\n",
    "        \n",
    "    def test(self):  # 现在就可以操作age属性了\n",
    "        print(self.age)\n",
    "\n",
    "p = Person()\n",
    "print(p.__dict__)\n",
    "p.age = 18 #自动调用\n",
    "print(p.__dict__)  # 再次打印就增加的age属性\n",
    "p.test()\n",
    "\n",
    "#第二种方式\n",
    "# setattr(p,\"age\",18)\n",
    "# print(p.age)"
   ]
  },
  {
   "cell_type": "code",
   "execution_count": 35,
   "metadata": {},
   "outputs": [
    {
     "name": "stdout",
     "output_type": "stream",
     "text": [
      "哈哈， <__main__.Student object at 0x000001CD1A588470> 会比 <__main__.Student object at 0x000001CD1A588630> 大吗？\n",
      "False\n"
     ]
    }
   ],
   "source": [
    "# __gt__\n",
    "\n",
    "class Student():\n",
    "    def __init__(self, name):\n",
    "        self._name = name\n",
    "    \n",
    "   \n",
    "    def __gt__(self, obj):#大于\n",
    "        print(\"哈哈， {0} 会比 {1} 大吗？\".format(self, obj))\n",
    "        return self._name > obj._name\n",
    "    \n",
    "# 作业：\n",
    "# 字符串的比较是按什么规则\n",
    "stu1 = Student(\"one\")\n",
    "stu2 = Student(\"two\")\n",
    "\n",
    "print(stu1 > stu2)\n",
    "\n",
    "#小于__lt__\n",
    "\n",
    "# 作业：\n",
    "# 下面显示结果不太美观，能否改成形如  \"哈哈， one 会比 two 大吗？“"
   ]
  },
  {
   "cell_type": "code",
   "execution_count": 56,
   "metadata": {},
   "outputs": [
    {
     "name": "stdout",
     "output_type": "stream",
     "text": [
      "<__main__.Person object at 0x7f4aac6b3eb8>\n",
      "Eating.....\n",
      "<class '__main__.Person'>\n",
      "Playing.....\n",
      "<class '__main__.Person'>\n",
      "Playing.....\n",
      "Saying....\n",
      "Saying....\n"
     ]
    }
   ],
   "source": [
    "# 三种方法的案例\n",
    "class Person:\n",
    "    prop = \"staticProperty\"\n",
    "    \n",
    "    def __init__(self, value):\n",
    "        ''' 初始化方法 '''\n",
    "        self.value = value\n",
    "        \n",
    "    # 实例方法\n",
    "    def eatValue(self):\n",
    "        print(self)\n",
    "        print(\"Eating.....\" + self.value)\n",
    "    \n",
    "    def eatStatic(self):\n",
    "        print(self)\n",
    "        print(\"Eating.....\" + self.prop)  \n",
    "    \n",
    "    #类方法\n",
    "    # 类方法的第一个参数，一般命名为cls，区别于self\n",
    "    @classmethod\n",
    "    def playValue(cls):\n",
    "        print(cls)\n",
    "        print(\"Playing.....\" + self.value)\n",
    "    @classmethod\n",
    "    def playStatic(cls):\n",
    "        print(cls)\n",
    "        print(\"Playing.....\" + self.prop)\n",
    "        \n",
    "    # 静态方法\n",
    "    # 不需要用第一个参数表示自身或者类\n",
    "    @staticmethod\n",
    "    def sayValue():\n",
    "    \n",
    "        print(\"Saying....\" + self.value)\n",
    "    @staticmethod\n",
    "    def sayStatic():\n",
    "    \n",
    "        print(\"Saying....\" + self.prop)   \n",
    "        \n",
    "yueyue = Person()\n",
    "\n",
    "# 实例方法\n",
    "yueyue.eat()\n",
    "# 类方法\n",
    "Person.play()\n",
    "yueyue.play()\n",
    "#静态方法\n",
    "Person.say()\n",
    "yueyue.say()\n",
    "\n",
    "# 作业：\n",
    "# 自行查找三种方法内存使用方面的区别\n",
    "\n",
    "# 结论如下\n",
    "# 1）类方法和静态方法必须要在方法头部加上@开始的修饰符，否则不能视为完全的类方法或静态方法；\n",
    "# 特别是类方法，如果没有加@开始的修饰符，效果和实例方法等价，因为self不是关键字，如果仅仅写下cls编译器并不能识别\n",
    "\n",
    "# 2）按照实例方法、类方法、静态方法的顺序，\n",
    "# 它们对该类的依赖性逐渐降低：\n",
    "    # 实例方法既可以方法实例属性，也可以方法静态属性（self调用）；\n",
    "    # 类方法只能调用静态属性（cls调用）；\n",
    "    # 静态方法因为没有参数绑定到该类所以仅仅提供函数功能，不能调用实例属性或静态属性\n",
    "\n",
    "# 3）类的实例对象在调用类中定义的方法时，会把自身作为第一个参数传进去（如果有参数的话），\n",
    "# 这也是为什么不写@classmethod的伪·类方法实际上还是实例方法的本质原因\n"
   ]
  },
  {
   "cell_type": "code",
   "execution_count": 35,
   "metadata": {},
   "outputs": [
    {
     "output_type": "error",
     "ename": "UnboundLocalError",
     "evalue": "local variable 'i' referenced before assignment",
     "traceback": [
      "\u001b[1;31m---------------------------------------------------------------------------\u001b[0m",
      "\u001b[1;31mUnboundLocalError\u001b[0m                         Traceback (most recent call last)",
      "\u001b[1;32m<ipython-input-35-9fefab73d956>\u001b[0m in \u001b[0;36m<module>\u001b[1;34m\u001b[0m\n\u001b[0;32m      5\u001b[0m         \u001b[0mprint\u001b[0m\u001b[1;33m(\u001b[0m\u001b[0mi\u001b[0m\u001b[1;33m)\u001b[0m\u001b[1;33m\u001b[0m\u001b[1;33m\u001b[0m\u001b[0m\n\u001b[0;32m      6\u001b[0m \u001b[0mt\u001b[0m \u001b[1;33m=\u001b[0m \u001b[0mTestAdd\u001b[0m\u001b[1;33m(\u001b[0m\u001b[1;33m)\u001b[0m\u001b[1;33m\u001b[0m\u001b[1;33m\u001b[0m\u001b[0m\n\u001b[1;32m----> 7\u001b[1;33m \u001b[0mt\u001b[0m\u001b[1;33m.\u001b[0m\u001b[0mtest\u001b[0m\u001b[1;33m(\u001b[0m\u001b[1;33m)\u001b[0m\u001b[1;33m\u001b[0m\u001b[1;33m\u001b[0m\u001b[0m\n\u001b[0m",
      "\u001b[1;32m<ipython-input-35-9fefab73d956>\u001b[0m in \u001b[0;36mtest\u001b[1;34m(self)\u001b[0m\n\u001b[0;32m      2\u001b[0m     \u001b[0mi\u001b[0m \u001b[1;33m=\u001b[0m \u001b[1;36m0\u001b[0m\u001b[1;33m\u001b[0m\u001b[1;33m\u001b[0m\u001b[0m\n\u001b[0;32m      3\u001b[0m     \u001b[1;32mdef\u001b[0m \u001b[0mtest\u001b[0m\u001b[1;33m(\u001b[0m\u001b[0mself\u001b[0m\u001b[1;33m)\u001b[0m\u001b[1;33m:\u001b[0m\u001b[1;33m\u001b[0m\u001b[1;33m\u001b[0m\u001b[0m\n\u001b[1;32m----> 4\u001b[1;33m         \u001b[0mi\u001b[0m \u001b[1;33m=\u001b[0m \u001b[0mi\u001b[0m \u001b[1;33m+\u001b[0m \u001b[1;36m1\u001b[0m\u001b[1;33m\u001b[0m\u001b[1;33m\u001b[0m\u001b[0m\n\u001b[0m\u001b[0;32m      5\u001b[0m         \u001b[0mprint\u001b[0m\u001b[1;33m(\u001b[0m\u001b[0mi\u001b[0m\u001b[1;33m)\u001b[0m\u001b[1;33m\u001b[0m\u001b[1;33m\u001b[0m\u001b[0m\n\u001b[0;32m      6\u001b[0m \u001b[0mt\u001b[0m \u001b[1;33m=\u001b[0m \u001b[0mTestAdd\u001b[0m\u001b[1;33m(\u001b[0m\u001b[1;33m)\u001b[0m\u001b[1;33m\u001b[0m\u001b[1;33m\u001b[0m\u001b[0m\n",
      "\u001b[1;31mUnboundLocalError\u001b[0m: local variable 'i' referenced before assignment"
     ]
    }
   ],
   "source": [
    "class TestAdd():\n",
    "    i = 0\n",
    "    def test(self):\n",
    "        i = i + 1\n",
    "        print(i)\n",
    "t = TestAdd()\n",
    "t.test()"
   ]
  }
 ],
 "metadata": {
  "kernelspec": {
   "display_name": "Python 3.8.3 64-bit",
   "language": "python",
   "name": "python38364bit32f78189f8754963bea62598119d220c"
  },
  "language_info": {
   "codemirror_mode": {
    "name": "ipython",
    "version": 3
   },
   "file_extension": ".py",
   "mimetype": "text/x-python",
   "name": "python",
   "nbconvert_exporter": "python",
   "pygments_lexer": "ipython3",
   "version": "3.8.3-final"
  }
 },
 "nbformat": 4,
 "nbformat_minor": 2
}