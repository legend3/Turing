{
 "cells": [
  {
   "cell_type": "markdown",
   "metadata": {},
   "source": [
    "初始：字母   熟悉：行    掌握：块"
   ]
  },
  {
   "cell_type": "markdown",
   "metadata": {},
   "source": [
    "# Log模块资料\n",
    "- https://www.cnblogs.com/yyds/p/6901864.html"
   ]
  },
  {
   "cell_type": "code",
   "execution_count": null,
   "metadata": {},
   "outputs": [],
   "source": [
    "import logging\n",
    "\n",
    "# DEBUG < INFO < WARNING < ERROR < CRITICAL，而日志的信息量是依次减少的\n",
    "\n",
    "#方式一\n",
    "# logging.debug(\"This is a debug log.\")\n",
    "# logging.info(\"This is a info log.\")\n",
    "# logging.warning(\"This is a warning log.\")\n",
    "# logging.error(\"This is a error log.\")\n",
    "# logging.critical(\"This is a critical log.\")\n",
    "\n",
    "## 日志级别:日志器名称:日志内容\n",
    "\n",
    "# #方式二\n",
    "# logging.log(logging.DEBUG, \"This is a debug log.\")\n",
    "# logging.log(logging.INFO, \"This is a info log.\")\n",
    "# logging.log(logging.WARNING, \"This is a warning log.\")\n",
    "# logging.log(logging.ERROR, \"This is a error log.\")\n",
    "# logging.log(logging.CRITICAL, \"This is a critical log.\")\n",
    "\n",
    "'''\n",
    "总结：\n",
    "\n",
    "问题1：为什么前面两条日志没有被打印出来？\n",
    "这是因为logging模块提供的日志记录函数所使用的日志器设置的日志级别是WARNING，因此只有WARNING级别的日志记录以及大于它的ERROR和CRITICAL级别的日志记录被输出了，而小于它的DEBUG和INFO级别的日志记录被丢弃了。\n",
    "\n",
    "问题2：打印出来的日志信息中各字段表示什么意思？为什么会这样输出？\n",
    "上面输出结果中每行日志记录的各个字段含义分别是：\n",
    "\n",
    "日志级别:日志器名称:日志内容\n",
    "之所以会这样输出，是因为logging模块提供的日志记录函数所使用的日志器设置的日志格式默认是BASIC_FORMAT，其值为：\n",
    "\n",
    "\"%(levelname)s:%(name)s:%(message)s\"\n",
    "问题3：如果将日志记录输出到文件中，而不是打印到控制台？\n",
    "因为在logging模块提供的日志记录函数所使用的日志器设置的处理器所指定的日志输出位置默认为:\n",
    "sys.stderr。\n",
    "\n",
    "问题4：我是怎么知道这些的？\n",
    "查看这些日志记录函数的实现代码，可以发现：当我们没有提供任何配置信息的时候，这些函数都会去调用logging.basicConfig(**kwargs)方法，且不会向该方法传递任何参数。继续查看basicConfig()方法的代码就可以找到上面这些问题的答案了。\n",
    "\n",
    "问题5：怎么修改这些默认设置呢？\n",
    "其实很简单，在我们调用上面这些日志记录函数之前，手动调用一下basicConfig()方法，把我们想设置的内容以参数的形式传递进去就可以了。\n",
    "'''\n",
    "\n",
    "\n",
    "#调用logging.basicConfig(**kwargs)\n",
    "    #该方法用于为logging日志系统做一些基本配置，方法定义如下：\n",
    "        #logging.basicConfig(**kwargs)\n",
    "        #该函数可接收的关键字参数如下：\n",
    "\n",
    "        #参数名称\t描述\n",
    "        #filename\t指定日志输出目标文件的文件名，指定该设置项后日志信心就不会被输出到控制台了\n",
    "        #filemode\t指定日志文件的打开模式，默认为'a'。需要注意的是，该选项要在filename指定时才有效\n",
    "        #format\t指定日志格式字符串，即指定日志输出时所包含的字段信息以及它们的顺序。logging模块定义的格式字段下面会列出。\n",
    "        #datefmt\t指定日期/时间格式。需要注意的是，该选项要在format中包含时间字段%(asctime)s时才有效\n",
    "        #level\t指定日志器的日志级别\n",
    "        #stream\t指定日志输出目标stream，如sys.stdout、sys.stderr以及网络stream。需要说明的是，stream和filename不能同时提供，否则会引发 ValueError异常\n",
    "        #style\tPython 3.2中新添加的配置项。指定format格式字符串的风格，可取值为'%'、'{'和'$'，默认为'%'\n",
    "        #handlers\tPython 3.3中新添加的配置项。该选项如果被指定，它应该是一个创建了多个Handler的可迭代对象，这些handler将会被添加到root logger。需要说明的是：filename、stream和handlers这三个配置项只能有一个存在，不能同时出现2个或3个，否则会引发ValueError异常。\n",
    "    \n",
    "    #字段/属性名称\t使用格式\t描述\n",
    "'''时间'''\n",
    "        #asctime\t%(asctime)s\t日志事件发生的时间--人类可读时间，如：2003-07-08 16:49:45,896\n",
    "        #created\t%(created)f\t日志事件发生的时间--时间戳，就是当时调用time.time()函数返回的值\n",
    "        #relativeCreated\t%(relativeCreated)d\t日志事件发生的时间相对于logging模块加载时间的相对毫秒数（目前还不知道干嘛用的）\n",
    "        #msecs\t%(msecs)d\t日志事件发生事件的毫秒部分\n",
    "'''日志器、日志级别'''\n",
    "        #name\t%(name)s\t所使用的日志器名称，默认是'root'，因为默认使用的是 rootLogger\n",
    "        #levelname\t%(levelname)s\t该日志记录的文字形式的日志级别（'DEBUG', 'INFO', 'WARNING', 'ERROR', 'CRITICAL'）\n",
    "        #levelno\t%(levelno)s\t该日志记录的数字形式的日志级别（10, 20, 30, 40, 50）\n",
    "        \n",
    "'''日志记录的输出内容'''\n",
    "        #message\t%(message)s\t日志记录的文本内容，通过 msg % args计算得到的\n",
    "        \n",
    "'''发生文件路径及名称'''\n",
    "        #pathname\t%(pathname)s\t调用日志记录函数的源码文件的全路径\n",
    "        #filename\t%(filename)s\tpathname的文件名部分，包含文件后缀\n",
    "        #module\t%(module)s\tfilename的名称部分，不包含后缀\n",
    "        \n",
    "'''发生函数及行号'''\n",
    "        #lineno\t%(lineno)d\t调用日志记录函数的源代码所在的行号\n",
    "        #funcName\t%(funcName)s\t调用日志记录函数的函数名\n",
    "        \n",
    "        \n",
    "'''发生的进程、线程'''\n",
    "        #process\t%(process)d\t进程ID\n",
    "        #processName\t%(processName)s\t进程名称，Python 3.1新增\n",
    "        #thread\t%(thread)d\t线程ID\n",
    "        #threadName\t%(thread)s\t线程名称\n",
    "        \n",
    "#logging.basicConfig()函数是一个一次性的简单配置工具使，也就是说只有在第一次调用该函数时会起作用，后续再次调用该函数时完全不会产生任何操作的，多次调用的设置并不是累加操作。\n",
    "# logging.basicConfig(level=logging.DEBUG,\n",
    "#                     format=\"%(asctime)s %(filename)s [line:%(lineno)d] %(name)s %(levelno)s %(levelname)s %(message)s\",\n",
    "#                     datefmt=\"%a/%d/%b/%Y %H:%M:%S\",\n",
    "#                     filemode=\"w\",\n",
    "#                     filename=\"C:\\\\Users\\\\Administrator\\\\Desktop\\\\MyLog.log\")\n",
    "\n",
    "# logging.debug(\"This is a debug log.\")\n",
    "# logging.info(\"This is a info log.\")\n",
    "# logging.warning(\"This is a warning log.\")\n",
    "# logging.error(\"This is a error log.\")\n",
    "# logging.critical(\"This is a critical log.\")\n",
    "\n",
    "# LOG_FORMAT = \"%(asctime)s %(user)s[%(ip)d] [line:%(lineno)d] %(name)s %(levelno)s %(levelname)s %(message)s\"\n",
    "# DATE_FORMAT = \"a%/%d/%b/%Y %H:%M:%S %p\"\n",
    "# logging.basicConfig(level=logging.INFO,\n",
    "#                     format=LOG_FORMAT,\n",
    "#                     datefmt = DATE_FORMAT,\n",
    "#                     filemode=\"w\",\n",
    "#                     filename=\"C:\\\\Users\\\\Administrator\\\\Desktop\\\\MyStyle.log\"\n",
    "#                      )\n",
    "# logging.warning(\"This is a warning log.\",exc_info=True,stack_info=True,extra={\"user\":\"LEGEND\",\"ip\":12345})#True必须首字母大写\n",
    "\n",
    "#logger模具四大组件输入日志\n",
    "    # filename：日志文件名的prefix；\n",
    "    # when：是一个字符串，用于描述滚动周期的基本单位，字符串的值及意义如下： \n",
    "    # “S”: Seconds \n",
    "    # “M”: Minutes \n",
    "    # “H”: Hours \n",
    "    # “D”: Days \n",
    "    # “W”: Week day (0=Monday) \n",
    "    # “midnight”: Roll over at midnight\n",
    "    # interval: 滚动周期，单位有when指定，比如：when=’D’,interval=1，表示每天产生一个日志文件；\n",
    "    # backupCount: 表示日志文件的保留个数；\n",
    "    # 除了上述参数之外，TimedRotatingFileHandler还有两个比较重要的成员变量，它们分别是suffix和extMatch。suffix是指日志文件名的后缀,suffix中通常带有格式化的时间字符串，filename和suffix由“.”连接构成文件名（例如：filename=“runtime”， suffix=“%Y-%m-%d.log”,生成的文件名为runtime.2015-07-06.log）。extMatch是一个编译好的正则表达式，用于匹配日志文件名的后缀，它必须和suffix是匹配的，如果suffix和extMatch匹配不上的话，过期的日志是不会被删除的。比如，suffix=“%Y-%m-%d.log”, extMatch的只应该是re.compile(r”^\\d{4}-\\d{2}-\\d{2}.log$”)。默认情况下，在TimedRotatingFileHandler对象初始化时，suffxi和extMatch会根据when的值进行初始化： \n",
    "    # ‘S’: suffix=”%Y-%m-%d_%H-%M-%S”, extMatch=r”\\^d{4}-\\d{2}-\\d{2}_\\d{2}-\\d{2}-\\d{2}”； \n",
    "    # ‘M’:suffix=”%Y-%m-%d_%H-%M”,extMatch=r”^\\d{4}-\\d{2}-\\d{2}_\\d{2}-\\d{2}”; \n",
    "    # ‘H’:suffix=”%Y-%m-%d_%H”,extMatch=r”^\\d{4}-\\d{2}-\\d{2}_\\d{2}”; \n",
    "    # ‘D’:suffxi=”%Y-%m-%d”,extMatch=r”^\\d{4}-\\d{2}-\\d{2}”; \n",
    "    # ‘MIDNIGHT’:”%Y-%m-%d”,extMatch=r”^\\d{4}-\\d{2}-\\d{2}”; \n",
    "    # ‘W’:”%Y-%m-%d”,extMatch=r”^\\d{4}-\\d{2}-\\d{2}”; \n",
    "    # 如果对日志文件名没有特殊要求的话，可以不用设置suffix和extMatch，如果需要，一定要让它们匹配上。\n",
    "#!/usr/bin/env python\n",
    "#_*_coding:utf-8_*_\n",
    "# vim : set expandtab ts=4 sw=4 sts=4 tw=100 :\n",
    "\n",
    "import logging#创建日志器\n",
    "import logging.handlers#两个不同目的地\n",
    "# import datetime#按时间切割日志\n",
    "import re\n",
    "from logging.handlers import TimedRotatingFileHandler\n",
    "from logging.handlers import RotatingFileHandler\n",
    "\n",
    "\n",
    "# logger = logging.getLogger('myLogger')#创建日志对象\n",
    "# \n",
    "# logger.setLevel(logging.DEBUG)#设置日志等级\n",
    "# rf_handler = logging.handlers.TimedRotatingFileHandler('C:\\\\Users\\\\Administrator\\\\Desktop\\\\all.log', when='midnight', interval=1, backupCount=7, atTime=datetime.time(0, 0, 0, 0))\n",
    "# rf_handler.setFormatter(logging.Formatter(\"%(asctime)s - %(levelname)s - %(message)s\"))\n",
    "# \n",
    "# f_handler = logging.FileHandler('error.log')\n",
    "# f_handler.setLevel(logging.ERROR)\n",
    "# f_handler.setFormatter(logging.Formatter(\"%(asctime)s - %(levelname)s - %(filename)s[:%(lineno)d] - %(message)s\"))\n",
    "# \n",
    "# logger.addHandler(rf_handler)\n",
    "# logger.addHandler(f_handler)\n",
    "# \n",
    "# logger.debug('debug message')\n",
    "# logger.info('info message')\n",
    "# logger.warning('warning message')\n",
    "# logger.error('error message')\n",
    "# logger.critical('critical message')\n",
    "\n",
    "\n",
    "def printLog():\n",
    "    #日志打印格式\n",
    "    filename=\"C:\\\\Users\\\\Administrator\\\\Desktop\\\\parser_result.log\"\n",
    "    log_fmt = '%(asctime)s\\tFile \\\"%(filename)s\\\",line %(lineno)s\\t%(levelname)s:%(message)s'\n",
    "    formatter = logging.Formatter(log_fmt)\n",
    "    #创建TimedRotatingFileHandler对象\n",
    "    log_file_handler = TimedRotatingFileHandler(filename=\"ds_update\", when=\"M\", interval=2, backupCount=2)\n",
    "    #log_file_handler.suffix = \"%Y-%m-%d_%H-%M.log\"\n",
    "    #log_file_handler.extMatch = re.compile(r\"^\\d{4}-\\d{2}-\\d{2}_\\d{2}-\\d{2}.log$\")\n",
    "    log_file_handler.setFormatter(formatter)    \n",
    "    logging.basicConfig(level=logging.INFO)\n",
    "    log = logging.getLogger()\n",
    "    log.addHandler(log_file_handler)\n",
    "    #循环打印日志\n",
    "    log_content = \"test log\"\n",
    "    count = 0\n",
    "    while count < 30:\n",
    "        log.error(log_content)\n",
    "        time.sleep(20)\n",
    "        count = count + 1\n",
    "    log.removeHandler(log_file_handler)\n",
    "\n",
    "\n",
    "if __name__ == \"__main__\":\n",
    "    printLog()"
   ]
  },
  {
   "cell_type": "markdown",
   "metadata": {},
   "source": [
    "## 函数式编程(FunctionalProgramming)\n",
    "- 基于lambda演算的一种编程方式\n",
    "    - 程序中只有函数--一切皆为函数\n",
    "    - 函数可以作为参数，同样可以作为返回值\n",
    "    - 纯函数式编程语言： LISP， Haskell\n",
    "    \n",
    "- Python函数式编程只是借鉴函数式编程的一些特点，可以理解成一半函数式一半Python\n",
    "- 需要讲述\n",
    "    - 高阶函数\n",
    "    - 返回函数\n",
    "    - 匿名函数\n",
    "    - 装饰器\n",
    "    - 偏函数"
   ]
  },
  {
   "cell_type": "markdown",
   "metadata": {},
   "source": [
    "# Python语言的高级特性"
   ]
  },
  {
   "cell_type": "markdown",
   "metadata": {},
   "source": [
    "###  lambda表达式\n",
    "- 函数： 最大程度复用代码\n",
    "    - 存在问题： 如果函数很小，很短，则会造成啰嗦\n",
    "    - 如果函数被调用次数少，则会造成浪费\n",
    "    - 对于阅读者来说，造成阅读流程的被迫中断\n",
    "   \n",
    "- lambda表达式（匿名函数）：\n",
    "    - 一个表达式，函数体相对简单\n",
    "    - 不是一个代码块，仅仅是一个表达式\n",
    "    - 可以有参数，有多个参数也可以，用逗号隔开"
   ]
  },
  {
   "cell_type": "code",
   "execution_count": null,
   "metadata": {},
   "outputs": [],
   "source": [
    "# “小”函数举例\n",
    "def printA():\n",
    "    print(\"AAAAAAAA\")\n",
    "    \n",
    "    \n",
    "printA()"
   ]
  },
  {
   "cell_type": "code",
   "execution_count": null,
   "metadata": {},
   "outputs": [],
   "source": [
    "# lambda表达式的用法\n",
    "# 1. 以lambda开头\n",
    "# 2. 紧跟一定的参数（如果有的话）\n",
    "# 3. 参数后用冒号和表达式主题隔开\n",
    "# 4. 只是一个表达式，所以，没有return\n",
    "\n",
    "# 计算一个数字的100倍数\n",
    "# 因为就是一个表达式，所以没有return\n",
    "stm = lambda x: 100 * x \n",
    "# 使用上跟函数调用一模一样\n",
    "stm(89)"
   ]
  },
  {
   "cell_type": "code",
   "execution_count": null,
   "metadata": {},
   "outputs": [],
   "source": [
    "stm2 = lambda x,y,z: x+ y*10 + z*100\n",
    "stm2(4,5,6)"
   ]
  },
  {
   "cell_type": "code",
   "execution_count": null,
   "metadata": {},
   "outputs": [],
   "source": [
    "stm3 = lambda :\"hello world!\"\n",
    "stm3()"
   ]
  },
  {
   "cell_type": "code",
   "execution_count": null,
   "metadata": {},
   "outputs": [],
   "source": [
    "# 三目\n",
    "\n",
    "a = 1\n",
    "b = 0\n",
    "\n",
    "s = a if a > b else False\n",
    "print(s)"
   ]
  },
  {
   "cell_type": "code",
   "execution_count": null,
   "metadata": {},
   "outputs": [],
   "source": [
    "### 高阶函数\n",
    "- 把函数作为参数使用的函数，叫高阶函数\n"
   ]
  },
  {
   "cell_type": "code",
   "execution_count": null,
   "metadata": {
    "collapsed": true
   },
   "outputs": [],
   "source": [
    "# 变量可以赋值\n",
    "a = 100\n",
    "b = a"
   ]
  },
  {
   "cell_type": "code",
   "execution_count": null,
   "metadata": {},
   "outputs": [],
   "source": [
    "# 函数名称就是一个变量\n",
    "def funA():\n",
    "    print(\"In funA\")\n",
    "    \n",
    "funB = funA\n",
    "funB()"
   ]
  },
  {
   "cell_type": "markdown",
   "metadata": {},
   "source": [
    "### 以上代码得出的结论：\n",
    "- 函数名称是变量\n",
    "- funB 和 funA只是名称不一样而已\n",
    "- 既然函数名称是变量，则应该可以被当做参数传入另一个函数\n"
   ]
  },
  {
   "cell_type": "code",
   "execution_count": null,
   "metadata": {},
   "outputs": [],
   "source": [
    "# 高阶函数举例\n",
    "# funA是普通函数，返回一个传入数字的100倍数字\n",
    "\n",
    "def funA(n):\n",
    "    return n * 100\n",
    "\n",
    "# 再写一个函数，把传入参数乘以300倍，\n",
    "def funB(n ):\n",
    "    # 最终是想返回300n\n",
    "    return funA(n) * 3\n",
    "\n",
    "print(funB(9))\n",
    "\n",
    "# 写一个高阶函数\n",
    "def funC(n, f):\n",
    "    # 假定函数是把n扩大100被\n",
    "    return f(n) * 3\n",
    "\n",
    "print( funC(9, funA) )\n",
    "\n",
    "# 比较funC和funB, 显然funC的写法要优于funB\n",
    "# 例如：\n",
    "def funD(n):\n",
    "    return n*10\n",
    "\n",
    "# 需求变更，需要把n放大三十倍，此时funB则无法实现\n",
    "print(funC(7, funD))"
   ]
  },
  {
   "cell_type": "markdown",
   "metadata": {},
   "source": [
    "###  系统高阶函数-map\n",
    "- 原意就是映射，即把集合或者列表的元素，每一个元素都按照一定规则进行操作，生成一个新的列表或者集合\n",
    "- map函数是系统提供的具有映射功能的函数，返回值是一个迭代对象"
   ]
  },
  {
   "cell_type": "code",
   "execution_count": null,
   "metadata": {},
   "outputs": [],
   "source": [
    "# map举例\n",
    "# 有一个列表，想对列表里的每一个元素(一个参数)乘以10， 并得到新的列表\n",
    "\n",
    "l1 = [i for i in range(10) if i > 0]\n",
    "print(l1)\n",
    "l2 = []\n",
    "for i in l1:\n",
    "    l2.append(i * 10)\n",
    "\n",
    "print(l2)\n",
    "\n",
    "\n",
    "# 利用map实现\n",
    "def mulTen(n):\n",
    "    return n*10\n",
    "\n",
    "\n",
    "l3 = map(mulTen, l1 )     #l1集合(可迭代的)，按照mulTen函数的规则进行操作\n",
    "# map类型是一个可迭代的结构，所以可以使用for遍历\n",
    "for i in l3:\n",
    "    print(i)\n",
    "help(map)       # 遇到需要查看函数的定义时\n",
    "# 以下列表生成式得到的结果为空， why？\n",
    "l4 = [i for i in l3]\n",
    "print(l4)"
   ]
  },
  {
   "cell_type": "markdown",
   "metadata": {},
   "source": [
    "### reduce \n",
    "- 原意是归并，缩减\n",
    "- 把一个可迭代对象（按照一定规则操作）最后归并成一个结果\n",
    "- 对于作为参数的函数要求： 必须由两个参数，必须由返回结果\n",
    "- reduce([1,2,3,4,5]) == f( f(f(f(1,2),3), 4),5)\n",
    "- reduce 需要导入functools包"
   ]
  },
  {
   "cell_type": "code",
   "execution_count": null,
   "metadata": {},
   "outputs": [],
   "source": [
    "from functools import reduce\n",
    "\n",
    "# 定义一个操作函数\n",
    "# 加入操作函数只是相加\n",
    "def myAdd(x,y):\n",
    "    return x + y\n",
    "    \n",
    "# 对于列表[1,2,3,4,5,6]执行myAdd的reduce操作\n",
    "rst = reduce( myAdd, [1,2,3,4,5,6] )#((((1+2)+3)+4)+5)+6)\n",
    "print(rst)\n",
    "help(reduce)"
   ]
  },
  {
   "cell_type": "markdown",
   "metadata": {},
   "source": [
    "### filter 函数\n",
    "- 过滤函数： 对一组数据进行过滤，符合条件的数据会生成一个新的列表并返回\n",
    "- 跟map相比较：\n",
    "    - 相同：都对列表的每一个元素逐一进行操作\n",
    "    - 不同：\n",
    "        - map会生成一个跟原来数据相对应的新队列\n",
    "        - filter不一定，只要符合条件的才会进入新的数据集合\n",
    "    - filter函数怎么写：\n",
    "        - 利用给定函数进行判断\n",
    "        - 返回值一定是个布尔值\n",
    "        - 调用格式： filter(f, data), f是过滤函数， data是数据"
   ]
  },
  {
   "cell_type": "code",
   "execution_count": null,
   "metadata": {
    "collapsed": true
   },
   "outputs": [],
   "source": [
    "# filter案例\n",
    "# 对于一个列表，对其进行过滤，偶数组成一个新列表\n",
    "\n",
    "# 需要定义过滤函数\n",
    "# 过滤函数要求有输入，返回布尔值\n",
    "def isEven(a):\n",
    "    return a % 2 == 0\n",
    "\n",
    "l = [3,4,56,3,2,3,4556,67,4,4,3,23455,43]\n",
    "\n",
    "# rst = map(isEven, l)#直接输出返回值True/False(符合/不符合)\n",
    "rst = filter(isEven, l)\n",
    "# 返回的filter内容是一个可迭代对象\n",
    "print(type(rst))\n",
    "print(rst)\n",
    "\n",
    "print([i for i in rst])"
   ]
  },
  {
   "cell_type": "markdown",
   "metadata": {},
   "source": [
    "### 高阶函数-排序\n",
    "- 把一个序列按照给定算法进行排序\n",
    "- key: 在排序钱对每一个元素进行key函数运算，可以理解成按照key函数定义的逻辑进行排序\n",
    "- python2 和 python3 相差巨大"
   ]
  },
  {
   "cell_type": "code",
   "execution_count": null,
   "metadata": {},
   "outputs": [],
   "source": [
    "# 排序的案例\n",
    "\n",
    "a = [234,22312,123,45,43,2,3,66723,34]\n",
    "al = sorted(a, reverse=True)  # 倒序\n",
    "print(al)"
   ]
  },
  {
   "cell_type": "code",
   "execution_count": null,
   "metadata": {},
   "outputs": [],
   "source": [
    "# 排序案例2\n",
    "\n",
    "a = [-43,23,45,6,-23,2,-4345]\n",
    "# 按照绝对值进行排序\n",
    "# abs是求绝对值的意思\n",
    "# 即按照绝对值的倒叙排列\n",
    "al = sorted(a, key=abs, reverse=True)\n",
    "\n",
    "print(al)\n",
    "help(sorted)\n"
   ]
  },
  {
   "cell_type": "code",
   "execution_count": null,
   "metadata": {},
   "outputs": [],
   "source": [
    "# sorted案例\n",
    "\n",
    "astr = ['dana', 'Danaa', 'wangxiaojing', 'jingjing', 'haha']\n",
    "\n",
    "str1 = sorted(astr)\n",
    "print(str1)\n",
    "\n",
    "str2 = sorted(astr, key=str.lower)  # 首字母小写\n",
    "print(str2)\n",
    "\n",
    "str3 = sorted(astr, key= str.upper, reverse=True)\n",
    "print(str3)"
   ]
  },
  {
   "cell_type": "markdown",
   "metadata": {},
   "source": [
    "## 返回函数\n",
    "- 函数可以返回具体的值\n",
    "- 也可以返回一个函数作为结果"
   ]
  },
  {
   "cell_type": "code",
   "execution_count": null,
   "metadata": {
    "collapsed": true
   },
   "outputs": [],
   "source": [
    "# 定义一个普通函数\n",
    "\n",
    "def myF(a):\n",
    "    print('In myF')\n",
    "    return None"
   ]
  },
  {
   "cell_type": "code",
   "execution_count": null,
   "metadata": {},
   "outputs": [],
   "source": [
    "a = myF(8)\n",
    "print(a)"
   ]
  },
  {
   "cell_type": "code",
   "execution_count": null,
   "metadata": {
    "collapsed": true
   },
   "outputs": [],
   "source": [
    "# 函数作为返回值返回， 被返回的函数在函数体内定义\n",
    "\n",
    "def myF2():\n",
    "    \n",
    "    def myF3():\n",
    "        print(\"In myF3\")\n",
    "        return 3\n",
    "    return myF3"
   ]
  },
  {
   "cell_type": "code",
   "execution_count": null,
   "metadata": {},
   "outputs": [],
   "source": [
    "# 使用上面定义\n",
    "# 调用myF2， 返回一个函数myF3，赋值给f3\n",
    "f3 = myF2()\n",
    "print(type(f3))\n",
    "print(f3)\n",
    "\n",
    "f3()"
   ]
  },
  {
   "cell_type": "code",
   "execution_count": null,
   "metadata": {
    "collapsed": true
   },
   "outputs": [],
   "source": [
    "# 负责一点的返回函数的例子\n",
    "# args:参数列表\n",
    "# 1 myF4定义函数，返回内部定义的函数myF5\n",
    "# 2. myF5使用了外部变量，这个变量是myF4的参数\n",
    "\n",
    "def myF4(*args):\n",
    "    def myF5():\n",
    "        rst = 0\n",
    "        for n in args:\n",
    "            rst += n\n",
    "        return rst\n",
    "    # print(myF5)\n",
    "    return myF5  # 一切皆对象"
   ]
  },
  {
   "cell_type": "code",
   "execution_count": null,
   "metadata": {
    "tags": []
   },
   "outputs": [],
   "source": [
    "f5 = myF4(1,2,3,4,5,6,7,8,9,0)\n",
    "print(f5.__str__())\n",
    "# f5的调用方式\n",
    "f5()"
   ]
  },
  {
   "cell_type": "code",
   "execution_count": null,
   "metadata": {},
   "outputs": [],
   "source": [
    "f6 = myF4(10,20,30,40,50)\n",
    "print(f6.__str__())\n",
    "# f5的调用方式\n",
    "f6()"
   ]
  },
  {
   "cell_type": "markdown",
   "metadata": {},
   "source": [
    "## 闭包（closure)\n",
    "- 1.当一个函数在内部定义函数，\n",
    "- 2.并且内部的函数应用外部函数的参数或者局部变量，\n",
    "- 3.当内部函数被当做返回值的时候，相关参数和变量保存在返回的函数中，这种结果，叫闭包\n",
    "\n",
    "\n",
    "- 上面定义的myF4是一个标准闭包结构"
   ]
  },
  {
   "cell_type": "code",
   "execution_count": null,
   "metadata": {},
   "outputs": [],
   "source": [
    "'''' \n",
    "1.仅是使用外部结构变量\n",
    "外部结构：out__add\n",
    "外部变量：n1\n",
    "内部结构：inner_add\n",
    "内部向外部输出\n",
    "'''\n",
    "def out_add(n1):\n",
    "    def inner_add(n2):\n",
    "        return n1 + n2\n",
    "    return inner_add\n",
    "oa = out_add(100)\n",
    "print(\"加法计算结果: {}\".format(oa(20)))\n",
    "print(\"加法计算结果: {}\".format(oa(50)))"
   ]
  },
  {
   "cell_type": "code",
   "execution_count": null,
   "metadata": {},
   "outputs": [],
   "source": [
    "''' \n",
    "2.修改外部结构的变量\n",
    "在进行变量访问的时候：一个global表示访问全局变量，nolocal表示访问本地变量(外部结构嵌套的变量) '''\n",
    "def print_out(count):\n",
    "    def out(data):\n",
    "        nonlocal count\n",
    "        count += 1\n",
    "        print(\"第{}次输出数据{}\".format(count, data))\n",
    "    return out\n",
    "oa = print_out(0)\n",
    "print(oa(\"www.momo.com\"))\n",
    "\n"
   ]
  },
  {
   "cell_type": "code",
   "execution_count": null,
   "metadata": {},
   "outputs": [],
   "source": [
    "# 闭包常见坑\n",
    "def count():\n",
    "    # 定义列表，列表里存放的是定义的函数\n",
    "    fs = []\n",
    "    for i in range(1,4):\n",
    "        # 定义了一个函数f\n",
    "        # f是一个闭包结构\n",
    "        def f():\n",
    "            return i*i\n",
    "    fs.append(f)\n",
    "    return fs\n",
    "\n",
    "f1,f2,f3 = count()\n",
    "print(f1())\n",
    "print(f2())\n",
    "print(f3())"
   ]
  },
  {
   "cell_type": "markdown",
   "metadata": {},
   "source": [
    "### 出现的问题：\n",
    "- 造成上述状况的原因是,返回函数引用了变量i， i并非立即执行，而是等到三个函数都返回的时候才统一使用，此时i已经变成了3，最终调用的时候，都返回的是 3*3\n",
    "- 此问题描述成：返回闭包时，返回函数不能引用任何循环变量!!!（每次传递进入(直到内部返函数返回)的参数或局部变量，都是一个值）\n",
    "\n",
    "\n",
    "- 解决方案： 再创建一个函数，用该函数的参数绑定循环变量的当前值，无论该循环变量以后如何改变，已经绑定的函数参数值不再改变"
   ]
  },
  {
   "cell_type": "code",
   "execution_count": null,
   "metadata": {
    "collapsed": true
   },
   "outputs": [],
   "source": [
    "# 修改上述函数\n",
    "def count2():\n",
    "    def f(j):\n",
    "        def g():\n",
    "            return j*j\n",
    "        return g\n",
    "    fs = []\n",
    "    for i in range(1,4):\n",
    "        fs.append(f(i))\n",
    "    return fs  # 内部函数被返回且保存了外部函数的参数\n",
    "\n",
    "n1= count2()\n",
    "print(type(n1))#n1为list\n",
    "\n",
    "n1= count2()[0]\n",
    "print(type(n1))#n1为function(fs中的一个元素)\n",
    "\n",
    "n1,n2,n3= count2()\n",
    "print(type(n1))#n1为function(fs中的一个元素)\n",
    "print(n1())#执行n1方法\n",
    "print(n2())\n",
    "print(n3())"
   ]
  },
  {
   "cell_type": "markdown",
   "metadata": {},
   "source": [
    "## 装饰器\n",
    "- 装饰器的(闭关过程)原理：用一个封装了主函数的闭包函数的引用替换主函数的引用\n"
   ]
  },
  {
   "cell_type": "code",
   "execution_count": null,
   "metadata": {
    "tags": []
   },
   "outputs": [],
   "source": [
    "import logging\n",
    "def use_logging(func):  # 1.闭包函数\n",
    "    def wrapper():\n",
    "        logging.warn(\"%s is running\" % func.__name__)\n",
    "        return func()\n",
    "    return wrapper\n",
    "\n",
    "def foo():  # 0.主函数\n",
    "    print('i am foo')\n",
    "\n",
    "foo = use_logging(foo)  # 2.替换主函数，因为装饰器 use_logging(foo) 返回的时函数对象 wrapper，这条语句相当于  foo = wrapper\n",
    "# print(foo.__str__())  # wrapper\n",
    "foo()                   # 执行foo()就相当于执行 wrapper()"
   ]
  },
  {
   "cell_type": "code",
   "execution_count": null,
   "metadata": {
    "tags": []
   },
   "outputs": [],
   "source": [
    "# 上述等于\n",
    "import logging\n",
    "def use_logging(func):\n",
    "    def wrapper():\n",
    "        logging.warn(\"%s is running\" % func.__name__)\n",
    "        return func()\n",
    "    return wrapper\n",
    "\n",
    "@use_logging\n",
    "def foo():\n",
    "    print(\"i am foo\")\n",
    "foo()"
   ]
  },
  {
   "cell_type": "code",
   "execution_count": null,
   "metadata": {},
   "outputs": [],
   "source": [
    "from icecream import ic\n",
    "name = \"lizhenguo\"\n",
    "ic(name)"
   ]
  },
  {
   "cell_type": "code",
   "execution_count": null,
   "metadata": {
    "tags": []
   },
   "outputs": [],
   "source": [
    "def hello():\n",
    "    print(\"Hello world\")\n",
    "    \n",
    "hello()"
   ]
  },
  {
   "cell_type": "code",
   "execution_count": null,
   "metadata": {
    "tags": []
   },
   "outputs": [],
   "source": [
    "f = hello\n",
    "f()"
   ]
  },
  {
   "cell_type": "code",
   "execution_count": null,
   "metadata": {
    "tags": []
   },
   "outputs": [],
   "source": [
    "# f和hello是（同）一个函数\n",
    "print(id(f)) \n",
    "print(id(hello))\n",
    "\n",
    "print(f.__name__)\n",
    "print(f.__name__)"
   ]
  },
  {
   "cell_type": "code",
   "execution_count": null,
   "metadata": {
    "collapsed": true
   },
   "outputs": [],
   "source": [
    "# 现在由新的需求：\n",
    "# 对hello功能进行扩展，每次打印hello之前打印当前系统时间\n",
    "# 而实现这个功能又不能改动现有代码\n",
    "# ==>使用装饰器\n"
   ]
  },
  {
   "cell_type": "markdown",
   "metadata": {},
   "source": [
    "### 装饰器(Decrator)\n",
    "- 在不改动函数代码的基础上无限制扩展函数功能的一种机制，本质上讲，装饰器是一个返回函数的高阶函数\n",
    "- 装饰器的使用： 使用@语法， 即在每次要扩展到函数定义前使用@+函数名"
   ]
  },
  {
   "cell_type": "code",
   "execution_count": null,
   "metadata": {},
   "outputs": [],
   "source": [
    "#  如果想在不修改myfun函数源码的前提下，使之调用前后打印'before called'和'after called'，则可以定义一个简单的函数装饰器，如下：\n",
    "\n",
    "def myecho(fun):\n",
    "      def return_fun():\n",
    "             print('before called.')\n",
    "             fun()\n",
    "             print('after called.')\n",
    "      return return_fun\n",
    "    #  使用装饰器对myfun函数就行功能增强：\n",
    "\n",
    "@myecho\n",
    "def myfun():\n",
    "       print('myfun called.')\n",
    "\n",
    "myfun()"
   ]
  },
  {
   "cell_type": "code",
   "execution_count": null,
   "metadata": {
    "collapsed": true
   },
   "outputs": [],
   "source": [
    "# 任务：\n",
    "# 对hello函数进行功能扩展，每次执行hello完打印当前时间\n",
    "\n",
    "import time\n",
    "\n",
    "# 高阶函数，以函数作为参数\n",
    "def printTime(f):\n",
    "    def wrapper(*args, **kwargs):\n",
    "        print(\"Time: \", time.ctime())\n",
    "        return f(*args, **kwargs)  # 不固定的\n",
    "    return wrapper"
   ]
  },
  {
   "cell_type": "code",
   "execution_count": null,
   "metadata": {
    "tags": []
   },
   "outputs": [],
   "source": [
    "# 上面定义了装饰器，使用的时候需要用到@， 此符号是python的语法糖\n",
    "@printTime\n",
    "def hello(say):\n",
    "    print(say)\n",
    "    \n",
    "hello(\"hello world!\")"
   ]
  },
  {
   "cell_type": "code",
   "execution_count": null,
   "metadata": {
    "tags": []
   },
   "outputs": [],
   "source": [
    "# 装饰器的好处是，一点定义，则可以装饰任意函数\n",
    "# 一旦被其装饰，则则把装饰器的功能直接添加到定义函数的功能上\n",
    "\n",
    "@printTime\n",
    "def hello2():\n",
    "    print(\"今天很高兴，被老板揪着讲课了\")\n",
    "    print(\"还可以由很多的选择\")\n",
    "\n",
    "hello2()"
   ]
  },
  {
   "cell_type": "code",
   "execution_count": null,
   "metadata": {
    "scrolled": true,
    "tags": []
   },
   "outputs": [],
   "source": [
    "# 上面对函数的装饰使用了系统定义的语法糖\n",
    "# 下面开始手动执行下装饰器\n",
    "# 先定义函数\n",
    "\n",
    "def hello3():\n",
    "    print(\"我是手动执行的\")\n",
    "    \n",
    "hello3()\n",
    "\n",
    "hello3 = printTime(hello3)\n",
    "hello3()\n",
    "\n",
    "f = printTime(hello3)\n",
    "f()\n",
    "# 作业：\n",
    "# 解释下面的执行结果"
   ]
  },
  {
   "cell_type": "code",
   "execution_count": null,
   "metadata": {
    "tags": []
   },
   "outputs": [],
   "source": [
    "# 类装饰器\n",
    "def drinker(message):\n",
    "    def drink_test(cls):\n",
    "        def drink(self):\n",
    "            print(\"喝\"+ message)\n",
    "        cls.drink = drink\n",
    "        return cls\n",
    "    return drink_test\n",
    "\n",
    "@drinker('水')\n",
    "class a():\n",
    "    pass\n",
    "b = a()\n",
    "b.drink()"
   ]
  },
  {
   "cell_type": "markdown",
   "metadata": {},
   "source": [
    "### 偏函数\n"
   ]
  },
  {
   "cell_type": "code",
   "execution_count": null,
   "metadata": {},
   "outputs": [],
   "source": [
    "# 把字符串转化成十进制数字\n",
    "int(\"12345\")\n",
    "\n",
    "# 求八进制的字符串12345，表示成十进制的数字是多少\n",
    "int(\"12345\", base=8)"
   ]
  },
  {
   "cell_type": "code",
   "execution_count": null,
   "metadata": {},
   "outputs": [],
   "source": [
    "# 新建一个函数，此函数是默认输入的字符串是16进制数字\n",
    "# 把此字符串返回十进制的数字\n",
    "def int16(x, base=16):\n",
    "    return int(x, base)#base（十进制）\n",
    "\n",
    "int16(\"12345\")\n"
   ]
  },
  {
   "cell_type": "code",
   "execution_count": null,
   "metadata": {},
   "outputs": [],
   "source": []
  },
  {
   "cell_type": "markdown",
   "metadata": {},
   "source": [
    "### 偏函数\n",
    "- 参数固定的函数，相当于一个由特定参数的函数体\n",
    "- functools.partial的作用是，把一个函数某些函数固定，返回一个新函数"
   ]
  },
  {
   "cell_type": "code",
   "execution_count": null,
   "metadata": {},
   "outputs": [],
   "source": [
    "import functools\n",
    "#实现上面int16的功能\n",
    "int16 = functools.partial(int, base=16)\n",
    "\n",
    "int16(\"12345\")"
   ]
  },
  {
   "cell_type": "code",
   "execution_count": null,
   "metadata": {
    "collapsed": true
   },
   "outputs": [],
   "source": []
  }
 ],
 "metadata": {
  "interpreter": {
   "hash": "0683780d03ee1195a9e1ac19e401b8f6c3447ee82d0b15d335dacfb764b91f68"
  },
  "kernelspec": {
   "display_name": "Python 3.8.3 64-bit",
   "language": "python",
   "name": "python3"
  },
  "language_info": {
   "codemirror_mode": {
    "name": "ipython",
    "version": 3
   },
   "file_extension": ".py",
   "mimetype": "text/x-python",
   "name": "python",
   "nbconvert_exporter": "python",
   "pygments_lexer": "ipython3",
   "version": "3.8.3"
  }
 },
 "nbformat": 4,
 "nbformat_minor": 2
}
